{
 "cells": [
  {
   "cell_type": "markdown",
   "metadata": {},
   "source": [
    "## Install packages "
   ]
  },
  {
   "cell_type": "code",
   "execution_count": null,
   "metadata": {},
   "outputs": [],
   "source": [
    "## package installation\n",
    "url = 'https://anaconda.org/conda-forge/libta-lib/0.4.0/download/linux-64/libta-lib-0.4.0-h516909a_0.tar.bz2'\n",
    "!curl -L $url | tar xj -C /usr/lib/x86_64-linux-gnu/ lib --strip-components=1\n",
    "url = 'https://anaconda.org/conda-forge/ta-lib/0.4.19/download/linux-64/ta-lib-0.4.19-py37ha21ca33_2.tar.bz2'\n",
    "!curl -L $url | tar xj -C /usr/local/lib/python3.7/dist-packages/ lib/python3.7/site-packages/talib --strip-components=3\n",
    "\n",
    "!pip install optuna"
   ]
  },
  {
   "cell_type": "markdown",
   "metadata": {},
   "source": [
    "## Download data"
   ]
  },
  {
   "cell_type": "code",
   "execution_count": null,
   "metadata": {},
   "outputs": [],
   "source": [
    "## download data\n",
    "url = f\"https://raw.githubusercontent.com/DRVV/maguro.aiig/main/input/data_RF.xlsx\"\n",
    "!wget --no-cache --backups=1 {url}\n",
    "\n",
    "import pandas ad pd\n",
    "df = pd.read_excel('data_RF.xlsx', engine='openpyxl')\n",
    "print(df.shape)\n",
    "df.head()"
   ]
  },
  {
   "cell_type": "markdown",
   "metadata": {},
   "source": [
    "## Import packages"
   ]
  },
  {
   "cell_type": "code",
   "execution_count": 10,
   "metadata": {
    "ExecuteTime": {
     "end_time": "2021-04-01T11:28:48.866014Z",
     "start_time": "2021-04-01T11:28:48.854048Z"
    }
   },
   "outputs": [],
   "source": [
    "import numpy as np\n",
    "import pandas as pd\n",
    "import datetime as dt\n",
    "\n",
    "from sklearn.model_selection import train_test_split\n",
    "from sklearn.ensemble import RandomForestClassifier\n",
    "from sklearn.metrics import accuracy_score\n",
    "import optuna\n",
    "\n",
    "from sklearn.metrics import confusion_matrix\n",
    "from sklearn.metrics import plot_confusion_matrix\n",
    "import seaborn as sns\n",
    "import matplotlib.pyplot as plt\n",
    "import matplotlib.dates as mdates\n",
    "import matplotlib as mpl\n",
    "import matplotlib.ticker as ticker\n",
    "\n",
    "# インストール方法 https://tkstock.site/2018/08/22/post-593/\n",
    "import talib as ta"
   ]
  },
  {
   "cell_type": "markdown",
   "metadata": {},
   "source": [
    "## 評価関数"
   ]
  },
  {
   "cell_type": "code",
   "execution_count": 11,
   "metadata": {
    "ExecuteTime": {
     "end_time": "2021-04-01T11:28:49.578105Z",
     "start_time": "2021-04-01T11:28:49.559156Z"
    }
   },
   "outputs": [],
   "source": [
    "def win_loss(Y_test, pred):\n",
    "    # Series型のデータをデータフレーム化\n",
    "    test_y2 = pd.DataFrame(Y_test)\n",
    "    # 予測結果を格納\n",
    "    test_y2['pred'] = pred\n",
    "\n",
    "    # 混同行列の各セルを定義\n",
    "    m1 = len(test_y2[(test_y2['Maguro']==1) & (test_y2['pred']==1)])\n",
    "    m2 = len(test_y2[(test_y2['Maguro']==1) & (test_y2['pred']==0)])\n",
    "    m3 = len(test_y2[(test_y2['Maguro']==1) & (test_y2['pred']==-1)])\n",
    "    m4 = len(test_y2[(test_y2['Maguro']==0) & (test_y2['pred']==1)])\n",
    "    m5 = len(test_y2[(test_y2['Maguro']==0) & (test_y2['pred']==0)])\n",
    "    m6 = len(test_y2[(test_y2['Maguro']==0) & (test_y2['pred']==-1)])\n",
    "    m7 = len(test_y2[(test_y2['Maguro']==-1) & (test_y2['pred']==1)])\n",
    "    m8 = len(test_y2[(test_y2['Maguro']==-1) & (test_y2['pred']==0)])\n",
    "    m9 = len(test_y2[(test_y2['Maguro']==-1) & (test_y2['pred']==-1)])\n",
    "\n",
    "    #　Total取引回数、大勝率、大敗率、の計算\n",
    "    try:\n",
    "        mall=m1+m2+m3+m4+m5+m6+m7+m8+m9\n",
    "        ma=m1+m3+m4+m6+m7+m9\n",
    "        mb=(m1+m9)/ma\n",
    "        mc=(m3+m7)/ma\n",
    "        win_loss_ratio = mb/mc\n",
    "    except ZeroDivisionError:\n",
    "        win_loss_ratio = 0\n",
    "        \n",
    "    # 各種モデル評価指標出力\n",
    "    return win_loss_ratio"
   ]
  },
  {
   "cell_type": "markdown",
   "metadata": {},
   "source": [
    "## 欠損処理"
   ]
  },
  {
   "cell_type": "markdown",
   "metadata": {},
   "source": [
    "### 欠損率"
   ]
  },
  {
   "cell_type": "code",
   "execution_count": 13,
   "metadata": {
    "ExecuteTime": {
     "end_time": "2021-04-01T11:29:04.945648Z",
     "start_time": "2021-04-01T11:29:04.916728Z"
    }
   },
   "outputs": [
    {
     "data": {
      "text/html": [
       "<div>\n",
       "<style scoped>\n",
       "    .dataframe tbody tr th:only-of-type {\n",
       "        vertical-align: middle;\n",
       "    }\n",
       "\n",
       "    .dataframe tbody tr th {\n",
       "        vertical-align: top;\n",
       "    }\n",
       "\n",
       "    .dataframe thead th {\n",
       "        text-align: right;\n",
       "    }\n",
       "</style>\n",
       "<table border=\"1\" class=\"dataframe\">\n",
       "  <thead>\n",
       "    <tr style=\"text-align: right;\">\n",
       "      <th></th>\n",
       "      <th>欠損行数</th>\n",
       "      <th>欠損率</th>\n",
       "    </tr>\n",
       "  </thead>\n",
       "  <tbody>\n",
       "    <tr>\n",
       "      <th>PT_DE_10ySpread</th>\n",
       "      <td>1754</td>\n",
       "      <td>0.320658</td>\n",
       "    </tr>\n",
       "    <tr>\n",
       "      <th>ptd10y_Close</th>\n",
       "      <td>1744</td>\n",
       "      <td>0.318830</td>\n",
       "    </tr>\n",
       "    <tr>\n",
       "      <th>ptd10y_Low</th>\n",
       "      <td>1744</td>\n",
       "      <td>0.318830</td>\n",
       "    </tr>\n",
       "    <tr>\n",
       "      <th>ptd10y_High</th>\n",
       "      <td>1744</td>\n",
       "      <td>0.318830</td>\n",
       "    </tr>\n",
       "    <tr>\n",
       "      <th>ptd10y_Open</th>\n",
       "      <td>1744</td>\n",
       "      <td>0.318830</td>\n",
       "    </tr>\n",
       "    <tr>\n",
       "      <th>DE_US_10ySpread</th>\n",
       "      <td>1721</td>\n",
       "      <td>0.314625</td>\n",
       "    </tr>\n",
       "    <tr>\n",
       "      <th>GR_DE_10ySpread</th>\n",
       "      <td>1627</td>\n",
       "      <td>0.297441</td>\n",
       "    </tr>\n",
       "    <tr>\n",
       "      <th>grb10y_Low</th>\n",
       "      <td>1616</td>\n",
       "      <td>0.295430</td>\n",
       "    </tr>\n",
       "    <tr>\n",
       "      <th>grb10y_High</th>\n",
       "      <td>1616</td>\n",
       "      <td>0.295430</td>\n",
       "    </tr>\n",
       "    <tr>\n",
       "      <th>grb10y_Open</th>\n",
       "      <td>1616</td>\n",
       "      <td>0.295430</td>\n",
       "    </tr>\n",
       "    <tr>\n",
       "      <th>grb10y_Close</th>\n",
       "      <td>1616</td>\n",
       "      <td>0.295430</td>\n",
       "    </tr>\n",
       "    <tr>\n",
       "      <th>deb10y_Close</th>\n",
       "      <td>1591</td>\n",
       "      <td>0.290859</td>\n",
       "    </tr>\n",
       "    <tr>\n",
       "      <th>IT_DE_10ySpread</th>\n",
       "      <td>1591</td>\n",
       "      <td>0.290859</td>\n",
       "    </tr>\n",
       "    <tr>\n",
       "      <th>deb10y_Low</th>\n",
       "      <td>1591</td>\n",
       "      <td>0.290859</td>\n",
       "    </tr>\n",
       "    <tr>\n",
       "      <th>deb10y_High</th>\n",
       "      <td>1591</td>\n",
       "      <td>0.290859</td>\n",
       "    </tr>\n",
       "    <tr>\n",
       "      <th>deb10y_Open</th>\n",
       "      <td>1591</td>\n",
       "      <td>0.290859</td>\n",
       "    </tr>\n",
       "    <tr>\n",
       "      <th>itb10y_Close</th>\n",
       "      <td>1581</td>\n",
       "      <td>0.289031</td>\n",
       "    </tr>\n",
       "    <tr>\n",
       "      <th>itb10y_Low</th>\n",
       "      <td>1581</td>\n",
       "      <td>0.289031</td>\n",
       "    </tr>\n",
       "    <tr>\n",
       "      <th>itb10y_High</th>\n",
       "      <td>1581</td>\n",
       "      <td>0.289031</td>\n",
       "    </tr>\n",
       "    <tr>\n",
       "      <th>itb10y_Open</th>\n",
       "      <td>1581</td>\n",
       "      <td>0.289031</td>\n",
       "    </tr>\n",
       "    <tr>\n",
       "      <th>shanghai_High</th>\n",
       "      <td>378</td>\n",
       "      <td>0.069104</td>\n",
       "    </tr>\n",
       "    <tr>\n",
       "      <th>shanghai_Low</th>\n",
       "      <td>378</td>\n",
       "      <td>0.069104</td>\n",
       "    </tr>\n",
       "    <tr>\n",
       "      <th>shanghai_Open</th>\n",
       "      <td>378</td>\n",
       "      <td>0.069104</td>\n",
       "    </tr>\n",
       "    <tr>\n",
       "      <th>shanghai_Close</th>\n",
       "      <td>378</td>\n",
       "      <td>0.069104</td>\n",
       "    </tr>\n",
       "    <tr>\n",
       "      <th>nikkei_Low</th>\n",
       "      <td>318</td>\n",
       "      <td>0.058135</td>\n",
       "    </tr>\n",
       "    <tr>\n",
       "      <th>nikkei_Close</th>\n",
       "      <td>318</td>\n",
       "      <td>0.058135</td>\n",
       "    </tr>\n",
       "    <tr>\n",
       "      <th>nikkei_Open</th>\n",
       "      <td>318</td>\n",
       "      <td>0.058135</td>\n",
       "    </tr>\n",
       "    <tr>\n",
       "      <th>nikkei_High</th>\n",
       "      <td>318</td>\n",
       "      <td>0.058135</td>\n",
       "    </tr>\n",
       "    <tr>\n",
       "      <th>usb10y_Low</th>\n",
       "      <td>200</td>\n",
       "      <td>0.036563</td>\n",
       "    </tr>\n",
       "    <tr>\n",
       "      <th>usb10y_Open</th>\n",
       "      <td>200</td>\n",
       "      <td>0.036563</td>\n",
       "    </tr>\n",
       "  </tbody>\n",
       "</table>\n",
       "</div>"
      ],
      "text/plain": [
       "                 欠損行数       欠損率\n",
       "PT_DE_10ySpread  1754  0.320658\n",
       "ptd10y_Close     1744  0.318830\n",
       "ptd10y_Low       1744  0.318830\n",
       "ptd10y_High      1744  0.318830\n",
       "ptd10y_Open      1744  0.318830\n",
       "DE_US_10ySpread  1721  0.314625\n",
       "GR_DE_10ySpread  1627  0.297441\n",
       "grb10y_Low       1616  0.295430\n",
       "grb10y_High      1616  0.295430\n",
       "grb10y_Open      1616  0.295430\n",
       "grb10y_Close     1616  0.295430\n",
       "deb10y_Close     1591  0.290859\n",
       "IT_DE_10ySpread  1591  0.290859\n",
       "deb10y_Low       1591  0.290859\n",
       "deb10y_High      1591  0.290859\n",
       "deb10y_Open      1591  0.290859\n",
       "itb10y_Close     1581  0.289031\n",
       "itb10y_Low       1581  0.289031\n",
       "itb10y_High      1581  0.289031\n",
       "itb10y_Open      1581  0.289031\n",
       "shanghai_High     378  0.069104\n",
       "shanghai_Low      378  0.069104\n",
       "shanghai_Open     378  0.069104\n",
       "shanghai_Close    378  0.069104\n",
       "nikkei_Low        318  0.058135\n",
       "nikkei_Close      318  0.058135\n",
       "nikkei_Open       318  0.058135\n",
       "nikkei_High       318  0.058135\n",
       "usb10y_Low        200  0.036563\n",
       "usb10y_Open       200  0.036563"
      ]
     },
     "execution_count": 13,
     "metadata": {},
     "output_type": "execute_result"
    }
   ],
   "source": [
    "null_count = df.isnull().sum()\n",
    "null_rate = null_count / len(df)\n",
    "\n",
    "null_table = pd.DataFrame({\n",
    "    '欠損行数': null_count,\n",
    "    '欠損率': null_rate\n",
    "})\n",
    "\n",
    "null_table.sort_values(by='欠損率', ascending=False).head(30)"
   ]
  },
  {
   "cell_type": "markdown",
   "metadata": {},
   "source": [
    "### 欠損補完"
   ]
  },
  {
   "cell_type": "code",
   "execution_count": 14,
   "metadata": {
    "ExecuteTime": {
     "end_time": "2021-04-01T11:29:05.024567Z",
     "start_time": "2021-04-01T11:29:05.010214Z"
    }
   },
   "outputs": [],
   "source": [
    "# # とりあえず欠損行を全削除\n",
    "# df_drop = df.dropna(how=\"any\")\n",
    "# print(df_drop.shape)"
   ]
  },
  {
   "cell_type": "code",
   "execution_count": 15,
   "metadata": {
    "ExecuteTime": {
     "end_time": "2021-04-01T11:29:05.150457Z",
     "start_time": "2021-04-01T11:29:05.090562Z"
    }
   },
   "outputs": [
    {
     "name": "stdout",
     "output_type": "stream",
     "text": [
      "(3772, 111)\n"
     ]
    }
   ],
   "source": [
    "# NULLを過去の値で補完\n",
    "df_drop = df.interpolate(limit_direction='forward', axis=0).dropna(how=\"any\")\n",
    "print(df_drop.shape)"
   ]
  },
  {
   "cell_type": "markdown",
   "metadata": {},
   "source": [
    "## 特徴量作成/加工\n",
    "- テクニカル指標の追加\n",
    "- 変数ごとに有効そうな統計量作成\n",
    "- 過去の実績値の差分（1週間前との価格差分など）\n",
    "- 日付の加工（祝日・曜日など）"
   ]
  },
  {
   "cell_type": "markdown",
   "metadata": {},
   "source": [
    "### テクニカル指標"
   ]
  },
  {
   "cell_type": "code",
   "execution_count": 16,
   "metadata": {
    "ExecuteTime": {
     "end_time": "2021-04-01T11:29:05.245302Z",
     "start_time": "2021-04-01T11:29:05.215755Z"
    }
   },
   "outputs": [],
   "source": [
    "# テクニカル指標を計算\n",
    "def calc_technical_indicators(Date, high, low, close, prefix):\n",
    "    df_x = pd.DataFrame({'Date':Date})\n",
    "\n",
    "    # 単純移動平均\n",
    "    df_x['{}_sma5'.format(prefix)] = ta.SMA(close, timeperiod=5)\n",
    "    df_x['{}_sma25'.format(prefix)] = ta.SMA(close, timeperiod=25)\n",
    "    df_x['{}_sma50'.format(prefix)] = ta.SMA(close, timeperiod=50)\n",
    "    df_x['{}_sma200'.format(prefix)] = ta.SMA(close, timeperiod=200)\n",
    "\n",
    "    # 指数平滑化移動平均\n",
    "    df_x['{}_ema12'.format(prefix)] = ta.EMA(close, timeperiod=12)\n",
    "    df_x['{}_ema20'.format(prefix)] = ta.EMA(close, timeperiod=20)\n",
    "    df_x['{}_ema50'.format(prefix)] = ta.EMA(close, timeperiod=50)\n",
    "    df_x['{}_ema200'.format(prefix)] = ta.EMA(close, timeperiod=200)\n",
    "\n",
    "    # MACD (Moving Average Convergence/Divergence)\n",
    "    macd, macd_sig, macd_hist = ta.MACD(close, fastperiod=12, \n",
    "                                            slowperiod=26,\n",
    "                                            signalperiod=9)\n",
    "    df_x['{}_macd'.format(prefix)] = macd\n",
    "    df_x['{}_macd_sig'.format(prefix)] = macd_sig\n",
    "    df_x['{}_macd_hist'.format(prefix)] = macd_hist\n",
    "\n",
    "    # RSI (Relative Strength Index)\n",
    "    df_x['{}_rsi_long'.format(prefix)] = ta.RSI(close, timeperiod=14)\n",
    "    df_x['{}_rsi_short'.format(prefix)] = ta.RSI(close, timeperiod=7)\n",
    "\n",
    "    # WILLR (Williams' %R)\n",
    "    df_x['{}_willr'.format(prefix)] = ta.WILLR(high, low, close, timeperiod=14)\n",
    "\n",
    "    # Stochastic (STOCH)\n",
    "    slowk, slowd = ta.STOCH(high, low, close, fastk_period=5, slowk_period=3,\n",
    "                            slowk_matype=0, slowd_period=3, slowd_matype=0)\n",
    "\n",
    "    df_x['{}_slowk'.format(prefix)] = slowk\n",
    "    df_x['{}_slowd'.format(prefix)] = slowd\n",
    "\n",
    "    # Bolinger Bands (BBANDS)\n",
    "    u_band, m_band, l_band = ta.BBANDS(close, timeperiod=5,\n",
    "                                       nbdevup=2, nbdevdn=2, matype=0)\n",
    "\n",
    "    df_x['{}_u_band'.format(prefix)] = u_band\n",
    "    df_x['{}_m_band'.format(prefix)] = m_band\n",
    "    df_x['{}_l_band'.format(prefix)] = l_band\n",
    "\n",
    "    # ADX, DI+ and DI-\n",
    "    df_x['{}_adx'.format(prefix)] = ta.ADX(high, low, close,timeperiod=14)\n",
    "\n",
    "    df_x['{}_DI_plus'.format(prefix)] = ta.PLUS_DI(high, low, close, timeperiod=14)\n",
    "    df_x['{}_DI_minus'.format(prefix)] = ta.MINUS_DI(high, low, close, timeperiod=14)\n",
    "\n",
    "    return df_x"
   ]
  },
  {
   "cell_type": "code",
   "execution_count": 17,
   "metadata": {
    "ExecuteTime": {
     "end_time": "2021-04-01T11:29:05.354957Z",
     "start_time": "2021-04-01T11:29:05.311076Z"
    }
   },
   "outputs": [
    {
     "name": "stdout",
     "output_type": "stream",
     "text": [
      "(3573, 133)\n"
     ]
    }
   ],
   "source": [
    "# テクニカル指標の計算対象\n",
    "Date = np.array(df_drop['Date']) \n",
    "high = np.array(df_drop['eurusd_High'])\n",
    "low = np.array(df_drop['eurusd_Low'])\n",
    "close = np.array(df_drop['eurusd_Close']) \n",
    "prefix = 'eurusd'\n",
    "\n",
    "# テクニカル指標追加\n",
    "df_technical_indicators = calc_technical_indicators(Date, high, low, close, prefix)\n",
    "df_drop_add = pd.merge(df_drop\n",
    "            ,df_technical_indicators\n",
    "            ,on='Date'\n",
    "            ,how='left').dropna(how=\"any\")\n",
    "print(df_drop_add.shape)"
   ]
  },
  {
   "cell_type": "code",
   "execution_count": null,
   "metadata": {
    "ExecuteTime": {
     "end_time": "2021-03-05T13:50:42.818720Z",
     "start_time": "2021-03-05T13:50:42.798775Z"
    }
   },
   "outputs": [],
   "source": []
  },
  {
   "cell_type": "markdown",
   "metadata": {
    "ExecuteTime": {
     "end_time": "2021-02-23T16:06:29.482931Z",
     "start_time": "2021-02-23T16:06:29.478942Z"
    }
   },
   "source": [
    "###  日付の加工"
   ]
  },
  {
   "cell_type": "code",
   "execution_count": 18,
   "metadata": {
    "ExecuteTime": {
     "end_time": "2021-04-01T11:29:05.577428Z",
     "start_time": "2021-04-01T11:29:05.547442Z"
    }
   },
   "outputs": [],
   "source": [
    "# 日付の年月、曜日（月曜が0, 日曜が6）情報の抽出\n",
    "# ダミー変数へ変換\n",
    "df_drop_add =df_drop_add.assign(\n",
    "#             year=df_drop['Date'].dt.year\n",
    "            month=df_drop['Date'].dt.month\n",
    "            ,weekday=df_drop['Date'].dt.dayofweek\n",
    "            ).pipe(lambda df: pd.get_dummies(df, columns=['month','weekday']))"
   ]
  },
  {
   "cell_type": "markdown",
   "metadata": {},
   "source": [
    "### 正規化/標準化"
   ]
  },
  {
   "cell_type": "code",
   "execution_count": null,
   "metadata": {
    "ExecuteTime": {
     "end_time": "2021-02-24T11:53:48.998438Z",
     "start_time": "2021-02-24T11:53:48.989464Z"
    }
   },
   "outputs": [],
   "source": []
  },
  {
   "cell_type": "markdown",
   "metadata": {},
   "source": [
    "### 特徴量の選定\n",
    "モデルに使う特徴量を決める"
   ]
  },
  {
   "cell_type": "code",
   "execution_count": 23,
   "metadata": {
    "ExecuteTime": {
     "end_time": "2021-04-01T11:32:50.864171Z",
     "start_time": "2021-04-01T11:32:50.674155Z"
    }
   },
   "outputs": [
    {
     "ename": "NameError",
     "evalue": "name 'df_tr' is not defined",
     "output_type": "error",
     "traceback": [
      "\u001b[1;31m---------------------------------------------------------------------------\u001b[0m",
      "\u001b[1;31mNameError\u001b[0m                                 Traceback (most recent call last)",
      "\u001b[1;32m<ipython-input-23-4255ca5d533f>\u001b[0m in \u001b[0;36m<module>\u001b[1;34m\u001b[0m\n\u001b[1;32m----> 1\u001b[1;33m \u001b[0mdf_tr\u001b[0m\u001b[1;33m.\u001b[0m\u001b[0mdrop\u001b[0m\u001b[1;33m(\u001b[0m\u001b[1;34m'maguro'\u001b[0m\u001b[1;33m,\u001b[0m \u001b[0maxis\u001b[0m\u001b[1;33m=\u001b[0m\u001b[1;36m1\u001b[0m\u001b[1;33m)\u001b[0m\u001b[1;33m\u001b[0m\u001b[1;33m\u001b[0m\u001b[0m\n\u001b[0m",
      "\u001b[1;31mNameError\u001b[0m: name 'df_tr' is not defined"
     ]
    }
   ],
   "source": []
  },
  {
   "cell_type": "markdown",
   "metadata": {},
   "source": [
    "## バリデーション\n",
    "時系列データでランダム分割する場合、翌日のデータがtrainに混ざることもあり過学習しやすいため、時系列の並びを維持したままバリデーションする"
   ]
  },
  {
   "cell_type": "code",
   "execution_count": 29,
   "metadata": {
    "ExecuteTime": {
     "end_time": "2021-04-01T11:34:06.994090Z",
     "start_time": "2021-04-01T11:34:06.977136Z"
    }
   },
   "outputs": [],
   "source": [
    "split_day = dt.datetime(2020,1,1)\n",
    "df_tr = df_drop_add[df_drop_add['Date'] < split_day]\n",
    "df_te = df_drop_add[df_drop_add['Date'] >= split_day]\n",
    "\n",
    "X_train = df_tr.drop('Maguro', axis=1)\n",
    "Y_train = df_tr['Maguro']\n",
    "\n",
    "X_test = df_te.drop('Maguro', axis=1)\n",
    "Y_test = df_te['Maguro']"
   ]
  },
  {
   "cell_type": "code",
   "execution_count": 30,
   "metadata": {
    "ExecuteTime": {
     "end_time": "2021-04-01T11:34:07.955329Z",
     "start_time": "2021-04-01T11:34:07.950343Z"
    }
   },
   "outputs": [],
   "source": [
    "# # train,testを分割\n",
    "# X_train, X_test, Y_train, Y_test = train_test_split(df_drop_add.drop('Maguro', axis=1), df_drop_add[\"Maguro\"]\n",
    "#                                                     ,shuffle=False\n",
    "#                                                     ,train_size=0.6)"
   ]
  },
  {
   "cell_type": "markdown",
   "metadata": {},
   "source": [
    "### trainとtestの範囲可視化"
   ]
  },
  {
   "cell_type": "code",
   "execution_count": 31,
   "metadata": {
    "ExecuteTime": {
     "end_time": "2021-04-01T11:34:09.002464Z",
     "start_time": "2021-04-01T11:34:08.809318Z"
    }
   },
   "outputs": [
    {
     "data": {
      "image/png": "[encoded data removed]",
      "text/plain": [
       "<Figure size 1152x288 with 1 Axes>"
      ]
     },
     "metadata": {
      "needs_background": "light"
     },
     "output_type": "display_data"
    }
   ],
   "source": [
    "fig, ax = plt.subplots(figsize=(16, 4))\n",
    "ax.plot(X_train['Date'], X_train['eurusd_Open'], label='train')\n",
    "ax.plot(X_test['Date'], X_test['eurusd_Open'], label='test')\n",
    "ax.legend(fontsize=12)\n",
    "ax.set_title('train_test_split', fontsize=14)\n",
    "# ax.xaxis.set_major_locator(mdates.MonthLocator(interval=12))\n",
    "# ax.xaxis.set_major_formatter(mdates.DateFormatter('%y/%m'))\n",
    "ax.xaxis.set_tick_params(rotation=45)"
   ]
  },
  {
   "cell_type": "markdown",
   "metadata": {},
   "source": [
    "##  モデル作成"
   ]
  },
  {
   "cell_type": "code",
   "execution_count": 32,
   "metadata": {
    "ExecuteTime": {
     "end_time": "2021-04-01T11:34:11.049194Z",
     "start_time": "2021-04-01T11:34:11.040221Z"
    }
   },
   "outputs": [],
   "source": [
    "# Date削除\n",
    "X_train.drop('Date', axis=1, inplace=True)\n",
    "X_test.drop('Date', axis=1, inplace=True)"
   ]
  },
  {
   "cell_type": "markdown",
   "metadata": {},
   "source": [
    "### デフォルトのパラメータのモデル（ベースライン）"
   ]
  },
  {
   "cell_type": "code",
   "execution_count": 44,
   "metadata": {
    "ExecuteTime": {
     "end_time": "2021-04-01T11:36:09.574902Z",
     "start_time": "2021-04-01T11:36:07.149996Z"
    }
   },
   "outputs": [
    {
     "name": "stdout",
     "output_type": "stream",
     "text": [
      "Accuracy: 0.30604982206405695\n",
      "maguro検出数: 43\n",
      "Big Win/Big Loss Ratio: 0.8269230769230769\n"
     ]
    }
   ],
   "source": [
    "seed = 17\n",
    "model = RandomForestClassifier(random_state=seed)\n",
    "model.fit(X_train, Y_train)\n",
    "pred = model.predict(X_test)\n",
    "print('Accuracy: {}'.format(accuracy_score(Y_test, pred)))\n",
    "a, b, c, d, e, f, g, h, i = confusion_matrix(Y_test, pred).ravel()\n",
    "maguro = a+i\n",
    "print('maguro検出数: {}'.format(maguro))\n",
    "print('Big Win/Big Loss Ratio: {}'.format(win_loss(Y_test, pred)))"
   ]
  },
  {
   "cell_type": "markdown",
   "metadata": {},
   "source": [
    "### optunaを使ったパラメーターチューニング"
   ]
  },
  {
   "cell_type": "code",
   "execution_count": 55,
   "metadata": {
    "ExecuteTime": {
     "end_time": "2021-04-01T11:38:05.787932Z",
     "start_time": "2021-04-01T11:37:29.071056Z"
    }
   },
   "outputs": [
    {
     "name": "stderr",
     "output_type": "stream",
     "text": [
      "\u001b[32m[I 2021-04-01 20:37:29,076]\u001b[0m A new study created in memory with name: no-name-5e55a9fa-6165-4f00-9b23-8ada0ea440e4\u001b[0m\n",
      "[Parallel(n_jobs=-1)]: Using backend ThreadingBackend with 8 concurrent workers.\n",
      "[Parallel(n_jobs=-1)]: Using backend ThreadingBackend with 8 concurrent workers.\n",
      "[Parallel(n_jobs=-1)]: Using backend ThreadingBackend with 8 concurrent workers.\n",
      "[Parallel(n_jobs=-1)]: Using backend ThreadingBackend with 8 concurrent workers.\n",
      "[Parallel(n_jobs=-1)]: Using backend ThreadingBackend with 8 concurrent workers.\n",
      "[Parallel(n_jobs=-1)]: Using backend ThreadingBackend with 8 concurrent workers.\n",
      "[Parallel(n_jobs=-1)]: Using backend ThreadingBackend with 8 concurrent workers.\n",
      "[Parallel(n_jobs=-1)]: Using backend ThreadingBackend with 8 concurrent workers.\n",
      "[Parallel(n_jobs=-1)]: Done  56 tasks      | elapsed:    0.8s\n",
      "[Parallel(n_jobs=-1)]: Done  56 tasks      | elapsed:    1.6s\n",
      "[Parallel(n_jobs=-1)]: Done  56 tasks      | elapsed:    2.7s\n",
      "[Parallel(n_jobs=-1)]: Done  56 tasks      | elapsed:    1.3s\n",
      "[Parallel(n_jobs=-1)]: Done  56 tasks      | elapsed:    1.3s\n",
      "[Parallel(n_jobs=-1)]: Done  56 tasks      | elapsed:    1.5s\n",
      "[Parallel(n_jobs=-1)]: Done  56 tasks      | elapsed:    2.2s\n",
      "[Parallel(n_jobs=-1)]: Done  56 tasks      | elapsed:    1.5s\n",
      "[Parallel(n_jobs=-1)]: Done 272 tasks      | elapsed:    4.7s\n",
      "[Parallel(n_jobs=-1)]: Done 272 tasks      | elapsed:    7.7s\n",
      "[Parallel(n_jobs=-1)]: Done 272 tasks      | elapsed:    6.7s\n",
      "[Parallel(n_jobs=-1)]: Done 272 tasks      | elapsed:    7.2s\n",
      "[Parallel(n_jobs=-1)]: Done 272 tasks      | elapsed:    7.6s\n",
      "[Parallel(n_jobs=-1)]: Done 272 tasks      | elapsed:    7.9s\n",
      "[Parallel(n_jobs=-1)]: Done 272 tasks      | elapsed:    7.7s\n",
      "[Parallel(n_jobs=-1)]: Done 272 tasks      | elapsed:    8.8s\n",
      "[Parallel(n_jobs=-1)]: Done 632 tasks      | elapsed:   13.4s\n",
      "[Parallel(n_jobs=-1)]: Done 632 tasks      | elapsed:   17.8s\n",
      "[Parallel(n_jobs=-1)]: Done 632 tasks      | elapsed:   17.1s\n",
      "[Parallel(n_jobs=-1)]: Done 632 tasks      | elapsed:   18.8s\n",
      "[Parallel(n_jobs=-1)]: Done 632 tasks      | elapsed:   19.8s\n",
      "[Parallel(n_jobs=-1)]: Done 632 tasks      | elapsed:   20.1s\n",
      "[Parallel(n_jobs=-1)]: Done 632 tasks      | elapsed:   21.4s\n",
      "[Parallel(n_jobs=-1)]: Done 632 tasks      | elapsed:   20.9s\n",
      "[Parallel(n_jobs=-1)]: Done 1000 out of 1000 | elapsed:   22.7s finished\n",
      "[Parallel(n_jobs=8)]: Using backend ThreadingBackend with 8 concurrent workers.\n",
      "[Parallel(n_jobs=8)]: Done  56 tasks      | elapsed:    0.6s\n",
      "[Parallel(n_jobs=8)]: Done 272 tasks      | elapsed:    2.8s\n",
      "[Parallel(n_jobs=-1)]: Done 1000 out of 1000 | elapsed:   28.5s finished\n",
      "[Parallel(n_jobs=8)]: Using backend ThreadingBackend with 8 concurrent workers.\n",
      "[Parallel(n_jobs=-1)]: Done 1000 out of 1000 | elapsed:   27.7s finished\n",
      "[Parallel(n_jobs=8)]: Using backend ThreadingBackend with 8 concurrent workers.\n",
      "[Parallel(n_jobs=8)]: Done  56 tasks      | elapsed:    0.4s\n",
      "[Parallel(n_jobs=8)]: Done  56 tasks      | elapsed:    0.6s\n",
      "[Parallel(n_jobs=8)]: Done 632 tasks      | elapsed:    5.9s\n",
      "[Parallel(n_jobs=8)]: Done 272 tasks      | elapsed:    2.1s\n",
      "[Parallel(n_jobs=8)]: Done 272 tasks      | elapsed:    2.5s\n",
      "[Parallel(n_jobs=-1)]: Done 1000 out of 1000 | elapsed:   30.1s finished\n",
      "[Parallel(n_jobs=8)]: Using backend ThreadingBackend with 8 concurrent workers.\n",
      "[Parallel(n_jobs=8)]: Done  56 tasks      | elapsed:    0.4s\n",
      "[Parallel(n_jobs=-1)]: Done 1000 out of 1000 | elapsed:   30.7s finished\n",
      "[Parallel(n_jobs=8)]: Using backend ThreadingBackend with 8 concurrent workers.\n",
      "[Parallel(n_jobs=-1)]: Done 1000 out of 1000 | elapsed:   31.1s finished\n",
      "[Parallel(n_jobs=8)]: Done  56 tasks      | elapsed:    0.1s\n",
      "[Parallel(n_jobs=8)]: Using backend ThreadingBackend with 8 concurrent workers.\n",
      "[Parallel(n_jobs=8)]: Done 1000 out of 1000 | elapsed:    8.0s finished\n",
      "[Parallel(n_jobs=-1)]: Done 1000 out of 1000 | elapsed:   32.0s finished\n",
      "\u001b[32m[I 2021-04-01 20:38:03,680]\u001b[0m Trial 6 finished with value: 0.0 and parameters: {'max_depth': 3, 'max_features': 'auto', 'min_samples_split': 2, 'min_samples_leaf': 6}. Best is trial 6 with value: 0.0.\u001b[0m\n",
      "[Parallel(n_jobs=8)]: Using backend ThreadingBackend with 8 concurrent workers.\n",
      "[Parallel(n_jobs=8)]: Done 632 tasks      | elapsed:    4.0s\n",
      "[Parallel(n_jobs=8)]: Done  56 tasks      | elapsed:    0.1s\n",
      "[Parallel(n_jobs=8)]: Done  56 tasks      | elapsed:    0.1s\n",
      "[Parallel(n_jobs=8)]: Done 272 tasks      | elapsed:    1.2s\n",
      "[Parallel(n_jobs=8)]: Done 632 tasks      | elapsed:    4.1s\n",
      "[Parallel(n_jobs=8)]: Done 272 tasks      | elapsed:    0.4s\n",
      "[Parallel(n_jobs=8)]: Done 272 tasks      | elapsed:    0.8s\n",
      "[Parallel(n_jobs=-1)]: Done 1000 out of 1000 | elapsed:   32.0s finished\n",
      "[Parallel(n_jobs=8)]: Using backend ThreadingBackend with 8 concurrent workers.\n",
      "[Parallel(n_jobs=8)]: Done 272 tasks      | elapsed:    0.8s\n",
      "[Parallel(n_jobs=8)]: Done  56 tasks      | elapsed:    0.0s\n",
      "[Parallel(n_jobs=8)]: Done 1000 out of 1000 | elapsed:    5.0s finished\n",
      "\u001b[32m[I 2021-04-01 20:38:04,788]\u001b[0m Trial 1 finished with value: 0.0 and parameters: {'max_depth': 5, 'max_features': 'auto', 'min_samples_split': 4, 'min_samples_leaf': 2}. Best is trial 6 with value: 0.0.\u001b[0m\n",
      "[Parallel(n_jobs=8)]: Done 632 tasks      | elapsed:    2.1s\n",
      "[Parallel(n_jobs=8)]: Done 272 tasks      | elapsed:    0.5s\n",
      "[Parallel(n_jobs=8)]: Done 1000 out of 1000 | elapsed:    4.9s finished\n",
      "\u001b[32m[I 2021-04-01 20:38:05,006]\u001b[0m Trial 5 finished with value: 0.0 and parameters: {'max_depth': 5, 'max_features': 'sqrt', 'min_samples_split': 2, 'min_samples_leaf': 3}. Best is trial 6 with value: 0.0.\u001b[0m\n",
      "[Parallel(n_jobs=8)]: Done 632 tasks      | elapsed:    1.2s\n",
      "[Parallel(n_jobs=8)]: Done 632 tasks      | elapsed:    1.6s\n",
      "[Parallel(n_jobs=8)]: Done 632 tasks      | elapsed:    1.6s\n",
      "[Parallel(n_jobs=8)]: Done 1000 out of 1000 | elapsed:    2.6s finished\n",
      "[Parallel(n_jobs=8)]: Done 632 tasks      | elapsed:    1.0s\n",
      "[Parallel(n_jobs=8)]: Done 1000 out of 1000 | elapsed:    1.6s finished\n",
      "\u001b[32m[I 2021-04-01 20:38:05,470]\u001b[0m Trial 2 finished with value: 1.0 and parameters: {'max_depth': 7, 'max_features': 'auto', 'min_samples_split': 5, 'min_samples_leaf': 1}. Best is trial 2 with value: 1.0.\u001b[0m\n",
      "[Parallel(n_jobs=8)]: Done 1000 out of 1000 | elapsed:    2.0s finished\n",
      "\u001b[32m[I 2021-04-01 20:38:05,553]\u001b[0m Trial 7 finished with value: 0.0 and parameters: {'max_depth': 7, 'max_features': 'sqrt', 'min_samples_split': 4, 'min_samples_leaf': 4}. Best is trial 2 with value: 1.0.\u001b[0m\n",
      "\u001b[32m[I 2021-04-01 20:38:05,572]\u001b[0m Trial 4 finished with value: 0.5 and parameters: {'max_depth': 9, 'max_features': 'auto', 'min_samples_split': 2, 'min_samples_leaf': 4}. Best is trial 2 with value: 1.0.\u001b[0m\n",
      "[Parallel(n_jobs=8)]: Done 1000 out of 1000 | elapsed:    1.9s finished\n",
      "[Parallel(n_jobs=8)]: Done 1000 out of 1000 | elapsed:    1.2s finished\n",
      "\u001b[32m[I 2021-04-01 20:38:05,627]\u001b[0m Trial 3 finished with value: 0.0 and parameters: {'max_depth': 9, 'max_features': 'sqrt', 'min_samples_split': 2, 'min_samples_leaf': 10}. Best is trial 2 with value: 1.0.\u001b[0m\n",
      "\u001b[32m[I 2021-04-01 20:38:05,729]\u001b[0m Trial 0 finished with value: 0.0 and parameters: {'max_depth': 10, 'max_features': 'sqrt', 'min_samples_split': 3, 'min_samples_leaf': 7}. Best is trial 2 with value: 1.0.\u001b[0m\n"
     ]
    },
    {
     "name": "stdout",
     "output_type": "stream",
     "text": [
      "ベストパラメータ: {'max_depth': 7, 'max_features': 'auto', 'min_samples_split': 5, 'min_samples_leaf': 1}\n",
      "Big Win/Big Loss Ratio: 1.0\n"
     ]
    }
   ],
   "source": [
    "def objective(trial):\n",
    "    '''\n",
    "    trial:set of hyperparameter    \n",
    "    '''\n",
    "\n",
    "    # hypyer param（いろいろ試す）\n",
    "    max_depth = trial.suggest_int('max_depth', 3, 10) \n",
    "    max_features = trial.suggest_categorical('max_features', ['sqrt', 'auto', 'log2'])\n",
    "    min_samples_split = trial.suggest_int('min_samples_split',2,5)\n",
    "    min_samples_leaf = trial.suggest_int('min_samples_leaf',1,10)\n",
    "#     bootstrap = trial.suggest_categorical('bootstrap',['True','False'])\n",
    "#     max_leaf_nodes = trial.suggest_int('max_leaf_nodes', 1,1000)\n",
    "\n",
    "    # model\n",
    "    model = RandomForestClassifier(max_depth=max_depth,\n",
    "                                  n_estimators=1000,\n",
    "                                  max_features=max_features,\n",
    "                                  min_samples_split=min_samples_split,\n",
    "                                  min_samples_leaf=min_samples_leaf,\n",
    "                                  n_jobs=-1,\n",
    "                                  verbose=-1 #学習情報を非表示\n",
    "                                  )\n",
    "\n",
    "    # fit\n",
    "    model.fit(X_train, Y_train)\n",
    "\n",
    "    # eva\n",
    "    pred = model.predict(X_test)\n",
    "    # score = accuracy_score(Y_test, pred) \n",
    "\n",
    "#     マグロを検出した件数が最も多いパラメータを評価\n",
    "#     a, b, c, d, e, f, g, h, i = confusion_matrix(Y_test, pred).ravel()\n",
    "#     maguro = a+i\n",
    "#     return maguro\n",
    "\n",
    "    # Big Win/Big Loss Ratioが最も大きいパラメータを評価\n",
    "    win_loss_ratio = win_loss(Y_test, pred)\n",
    "    return win_loss_ratio\n",
    "\n",
    "# パラメーターチューニングを実行\n",
    "study = optuna.create_study(sampler=optuna.samplers.TPESampler(seed=17)\n",
    "                            ,direction='maximize')\n",
    "\n",
    "study.optimize(func=objective # 実行する関数\n",
    "               ,n_trials=30 # 試行回数\n",
    "               ,timeout=30 # 与えられた秒数後に学習を中止 default=None\n",
    "               ,n_jobs=-1 # 並列実行するjob数\n",
    "               \n",
    "              )\n",
    "\n",
    "print('ベストパラメータ: {}'.format(study.best_params))\n",
    "# print('maguro検出数: {}'.format(study.best_value))\n",
    "print('Big Win/Big Loss Ratio: {}'.format(study.best_value))\n",
    "\n",
    "best_param = study.best_params"
   ]
  },
  {
   "cell_type": "code",
   "execution_count": 56,
   "metadata": {
    "ExecuteTime": {
     "end_time": "2021-04-01T11:38:07.458478Z",
     "start_time": "2021-04-01T11:38:05.949647Z"
    }
   },
   "outputs": [
    {
     "name": "stdout",
     "output_type": "stream",
     "text": [
      "Accuracy: 0.5124555160142349\n",
      "maguro検出数: 8\n",
      "Big Win/Big Loss Ratio: 8.0\n"
     ]
    }
   ],
   "source": [
    "# ベストパラメータにてモデル作成\n",
    "seed = 17\n",
    "model = RandomForestClassifier(**best_param, random_state=seed)\n",
    "model.fit(X_train, Y_train)\n",
    "pred = model.predict(X_test)\n",
    "\n",
    "print('Accuracy: {}'.format(accuracy_score(Y_test, pred)))\n",
    "a, b, c, d, e, f, g, h, i = confusion_matrix(Y_test, pred).ravel()\n",
    "maguro = a+i\n",
    "print('maguro検出数: {}'.format(maguro))\n",
    "print('Big Win/Big Loss Ratio: {}'.format(win_loss(Y_test, pred)))"
   ]
  },
  {
   "cell_type": "code",
   "execution_count": 57,
   "metadata": {
    "ExecuteTime": {
     "end_time": "2021-04-01T11:38:07.677955Z",
     "start_time": "2021-04-01T11:38:07.650031Z"
    }
   },
   "outputs": [],
   "source": [
    "# モデル保存\n",
    "pd.to_pickle(model, '../output/rf.pkl')"
   ]
  },
  {
   "cell_type": "markdown",
   "metadata": {},
   "source": [
    "## 精度評価"
   ]
  },
  {
   "cell_type": "markdown",
   "metadata": {},
   "source": [
    "### 混同行列"
   ]
  },
  {
   "cell_type": "code",
   "execution_count": 58,
   "metadata": {
    "ExecuteTime": {
     "end_time": "2021-04-01T11:38:08.047981Z",
     "start_time": "2021-04-01T11:38:07.839522Z"
    }
   },
   "outputs": [
    {
     "data": {
      "text/plain": [
       "<sklearn.metrics._plot.confusion_matrix.ConfusionMatrixDisplay at 0x2977019dd48>"
      ]
     },
     "execution_count": 58,
     "metadata": {},
     "output_type": "execute_result"
    },
    {
     "data": {
      "image/png": "[encoded data removed]",
      "text/plain": [
       "<Figure size 432x288 with 2 Axes>"
      ]
     },
     "metadata": {
      "needs_background": "light"
     },
     "output_type": "display_data"
    }
   ],
   "source": [
    "plot_confusion_matrix(model, X_test, Y_test,cmap='Blues')"
   ]
  },
  {
   "cell_type": "markdown",
   "metadata": {},
   "source": [
    "### win/loss"
   ]
  },
  {
   "cell_type": "code",
   "execution_count": 59,
   "metadata": {
    "ExecuteTime": {
     "end_time": "2021-04-01T11:38:08.281481Z",
     "start_time": "2021-04-01T11:38:08.220715Z"
    }
   },
   "outputs": [
    {
     "name": "stdout",
     "output_type": "stream",
     "text": [
      "＜基本情報＞\n",
      "Total days 281\n",
      "Total Trade times 14\n",
      "Total Trade frequency 0.0498220640569395\n",
      "Trade times per year 12.455516014234874\n",
      "Trade times per month 1.0379596678529064\n",
      "Trade times per week 0.2594899169632266\n",
      "Trade times per day 0.05189798339264532\n",
      "＜勝敗割合＞\n",
      "Big Win rate 0.5714285714285714\n",
      "Big Loss rate 0.07142857142857142\n",
      "Small trade 0.35714285714285715\n",
      "Big Win/Big Loss Ratio 8.0\n"
     ]
    }
   ],
   "source": [
    "# Series型のデータをデータフレーム化\n",
    "test_y2 = pd.DataFrame(Y_test)\n",
    "# 予測結果を格納\n",
    "test_y2['pred'] = model.predict(X_test)\n",
    "\n",
    "# 混同行列の各セルを定義\n",
    "m1 = len(test_y2[(test_y2['Maguro']==1) & (test_y2['pred']==1)])\n",
    "m2 = len(test_y2[(test_y2['Maguro']==1) & (test_y2['pred']==0)])\n",
    "m3 = len(test_y2[(test_y2['Maguro']==1) & (test_y2['pred']==-1)])\n",
    "m4 = len(test_y2[(test_y2['Maguro']==0) & (test_y2['pred']==1)])\n",
    "m5 = len(test_y2[(test_y2['Maguro']==0) & (test_y2['pred']==0)])\n",
    "m6 = len(test_y2[(test_y2['Maguro']==0) & (test_y2['pred']==-1)])\n",
    "m7 = len(test_y2[(test_y2['Maguro']==-1) & (test_y2['pred']==1)])\n",
    "m8 = len(test_y2[(test_y2['Maguro']==-1) & (test_y2['pred']==0)])\n",
    "m9 = len(test_y2[(test_y2['Maguro']==-1) & (test_y2['pred']==-1)])\n",
    "\n",
    "#　Total取引回数、大勝率、大敗率、の計算\n",
    "mall=m1+m2+m3+m4+m5+m6+m7+m8+m9\n",
    "ma=m1+m3+m4+m6+m7+m9\n",
    "mb=(m1+m9)/ma\n",
    "mc=(m3+m7)/ma\n",
    "\n",
    "# 各種モデル評価指標出力\n",
    "print('＜基本情報＞')\n",
    "print('Total days',mall)\n",
    "print('Total Trade times',ma)\n",
    "print('Total Trade frequency',ma/mall)\n",
    "print('Trade times per year',ma/(mall/250))\n",
    "print('Trade times per month',250*ma/mall/12)\n",
    "print('Trade times per week',250*ma/mall/12/4)\n",
    "print('Trade times per day',250*ma/mall/12/20)\n",
    "print('＜勝敗割合＞')\n",
    "print('Big Win rate',mb)\n",
    "print('Big Loss rate',mc)\n",
    "print('Small trade',(m4+m6)/ma)\n",
    "print('Big Win/Big Loss Ratio',mb/mc)"
   ]
  },
  {
   "cell_type": "markdown",
   "metadata": {},
   "source": [
    "### トレードのシミュレーション"
   ]
  },
  {
   "cell_type": "code",
   "execution_count": 60,
   "metadata": {
    "ExecuteTime": {
     "end_time": "2021-04-01T11:38:08.486850Z",
     "start_time": "2021-04-01T11:38:08.472888Z"
    }
   },
   "outputs": [],
   "source": [
    "def trade_simulation(dfx,leverage,start_balance):\n",
    "    i = 0\n",
    "    for index,item in dfx.iterrows():\n",
    "        # 1万EUR（1枚）取引に必要な証拠金\n",
    "        dfx.loc[index,'margin_per_eur'] = item['eurusd_Close']*item['usdjpy_Close']*10000/leverage\n",
    "\n",
    "        # 残高\n",
    "        if i <= 1:\n",
    "            dfx.loc[index,'balance'] = start_balance \n",
    "        else:\n",
    "            dfx.loc[index,'balance'] = dfx.loc[index-1,'balance'] + dfx.loc[index-1,'profit_loss']\n",
    "\n",
    "        # 枚数\n",
    "        num = dfx.loc[index,'balance']/2/dfx.loc[index,'margin_per_eur']\n",
    "        if num>100:\n",
    "            num = 100\n",
    "        dfx.loc[index,'num']  = num\n",
    "\n",
    "        # 必要証拠金\n",
    "        dfx.loc[index,'margin']  = dfx.loc[index,'margin_per_eur']*dfx.loc[index,'num']\n",
    "\n",
    "        # ポジションメイク後投資余力\n",
    "        dfx.loc[index,'capacity']  = dfx.loc[index,'balance']-dfx.loc[index,'margin']\n",
    "\n",
    "        # レート変動耐性\n",
    "        dfx.loc[index,'rate_fluctuation_tolerance'] = dfx.loc[index,'capacity']/(dfx.loc[index,'num']*10000)\n",
    "\n",
    "        # 損益\n",
    "        if i <= 1:\n",
    "            dfx.loc[index,'profit_loss'] = 0 \n",
    "        else:\n",
    "            dfx.loc[index,'profit_loss'] = dfx.loc[index-2,'pred']*(dfx.loc[index,'eurusd_Close']-dfx.loc[index-2,'eurusd_Close'])*dfx.loc[index-2,'num']*10000*dfx.loc[index,'usdjpy_Close']\n",
    "\n",
    "        i = i+1\n",
    "    return dfx"
   ]
  },
  {
   "cell_type": "code",
   "execution_count": 61,
   "metadata": {
    "ExecuteTime": {
     "end_time": "2021-04-01T11:38:08.755522Z",
     "start_time": "2021-04-01T11:38:08.667770Z"
    }
   },
   "outputs": [],
   "source": [
    "## testデータの予測結果に説明変数を結合\n",
    "# Series型のデータをデータフレーム化\n",
    "test_y2 = pd.DataFrame(Y_test)\n",
    "test_y2['pred'] = model.predict(X_test)\n",
    "\n",
    "# 予測結果保存\n",
    "col = ['Date','eurusd_Open', 'eurusd_High', 'eurusd_Low', 'eurusd_Close', 'usdjpy_Close', 'Maguro', 'pred']\n",
    "df_test_result = pd.merge(df_drop_add, test_y2['pred'], left_index=True, right_index=True)[col]\n",
    "\n",
    "\n",
    "## trainデータの予測結果に説明変数を結合\n",
    "# Series型のデータをデータフレーム化\n",
    "train_y2 = pd.DataFrame(Y_train)\n",
    "train_y2['pred'] = model.predict(X_train)\n",
    "\n",
    "# 予測結果保存\n",
    "col = ['Date','eurusd_Open', 'eurusd_High', 'eurusd_Low', 'eurusd_Close', 'usdjpy_Close', 'Maguro', 'pred']\n",
    "df_train_result = pd.merge(df_drop_add, train_y2['pred'], left_index=True, right_index=True)[col]\n"
   ]
  },
  {
   "cell_type": "markdown",
   "metadata": {},
   "source": [
    "#### Back test"
   ]
  },
  {
   "cell_type": "code",
   "execution_count": 62,
   "metadata": {
    "ExecuteTime": {
     "end_time": "2021-04-01T11:38:16.839346Z",
     "start_time": "2021-04-01T11:38:08.933516Z"
    },
    "scrolled": true
   },
   "outputs": [
    {
     "name": "stdout",
     "output_type": "stream",
     "text": [
      "初日: 2007-04-20 00:00:00\n",
      "最終日: 2021-02-02 00:00:00\n",
      "最終日時点の残高: 1209551552\n",
      "儲け: 1208551552\n"
     ]
    },
    {
     "data": {
      "image/png": "[encoded data removed]",
      "text/plain": [
       "<Figure size 1152x288 with 1 Axes>"
      ]
     },
     "metadata": {
      "needs_background": "light"
     },
     "output_type": "display_data"
    }
   ],
   "source": [
    "# レバレッジ倍数\n",
    "leverage = 25\n",
    "# スタート時の残高\n",
    "start_balance = 1000000\n",
    "\n",
    "# 損益計算\n",
    "df_train_result['is_train'] = True\n",
    "df_test_result['is_train'] = False\n",
    "df_concat = pd.concat([df_train_result, df_test_result])\n",
    "\n",
    "df_back_test = trade_simulation(df_concat,leverage,start_balance)\n",
    "df_back_test.to_csv('../output/df_back_test.csv', encoding='cp932',index=True)\n",
    "\n",
    "# Back test時の残高可視化\n",
    "fig, ax = plt.subplots(figsize=(16, 4))\n",
    "ax.plot(df_concat[df_back_test['is_train']]['Date'], df_back_test[df_back_test['is_train']]['balance'], label='train_balance')\n",
    "ax.plot(df_concat[~df_back_test['is_train']]['Date'], df_back_test[~df_back_test['is_train']]['balance'], label='test_balance')\n",
    "ax.legend(fontsize=12)\n",
    "ax.set_title('Back test', fontsize=14)\n",
    "ax.yaxis.get_major_formatter().set_useOffset(False)\n",
    "ax.yaxis.get_major_formatter().set_scientific(False) \n",
    "ax.yaxis.set_major_locator(ticker.MaxNLocator(integer=True))\n",
    "ax.set_ylim(0, df_back_test['balance'].max() + df_back_test['balance'].max()*0.1)\n",
    "# ax.yaxis.set_ticks(np.arange(0, df_back_test['balance'].max() + 1000000, 500000))\n",
    "\n",
    "ax.xaxis.set_major_locator(mdates.MonthLocator(interval=12))\n",
    "ax.xaxis.set_major_formatter(mdates.DateFormatter('%Y'))\n",
    "ax.tick_params(axis='x', labelrotation=45)\n",
    "\n",
    "print('初日: {}'.format(df_back_test.iloc[0]['Date']))\n",
    "print('最終日: {}'.format(df_back_test.iloc[-1]['Date']))\n",
    "print('最終日時点の残高: {}'.format(df_back_test.iloc[-1]['balance'].astype(int)))\n",
    "print('儲け: {}'.format(df_back_test.iloc[-1]['balance'].astype(int)-start_balance))"
   ]
  },
  {
   "cell_type": "markdown",
   "metadata": {},
   "source": [
    "#### Forward test"
   ]
  },
  {
   "cell_type": "code",
   "execution_count": 63,
   "metadata": {
    "ExecuteTime": {
     "end_time": "2021-04-01T11:38:17.821936Z",
     "start_time": "2021-04-01T11:38:16.981474Z"
    }
   },
   "outputs": [
    {
     "name": "stdout",
     "output_type": "stream",
     "text": [
      "初日: 2020-01-02 00:00:00\n",
      "最終日: 2021-02-02 00:00:00\n",
      "最終日時点の残高: 2857674\n",
      "儲け: 1857674\n"
     ]
    },
    {
     "data": {
      "image/png": "[encoded data removed]",
      "text/plain": [
       "<Figure size 1152x288 with 1 Axes>"
      ]
     },
     "metadata": {
      "needs_background": "light"
     },
     "output_type": "display_data"
    }
   ],
   "source": [
    "# レバレッジ倍数\n",
    "leverage = 25\n",
    "# スタート時の残高\n",
    "start_balance = 1000000\n",
    "# 損益計算\n",
    "df_forward_test = trade_simulation(df_test_result,leverage,start_balance)\n",
    "df_forward_test.to_csv('../output/df_forward_test.csv', encoding='cp932',index=True)\n",
    "\n",
    "# Forward test時の残高可視化\n",
    "fig, ax = plt.subplots(figsize=(16, 4))\n",
    "ax.plot(df_forward_test['Date'], df_forward_test['balance'], label='balance', color='orange')\n",
    "ax.legend(fontsize=12)\n",
    "ax.set_title('Forward test', fontsize=14)\n",
    "ax.yaxis.get_major_formatter().set_useOffset(False)\n",
    "ax.yaxis.get_major_formatter().set_scientific(False) \n",
    "ax.yaxis.set_major_locator(ticker.MaxNLocator(integer=True))\n",
    "ax.set_ylim(0, df_forward_test['balance'].max() + df_forward_test['balance'].max()*0.1)\n",
    "# ax.yaxis.set_ticks(np.arange(0, 5000001, 500000))\n",
    "\n",
    "ax.xaxis.set_major_locator(mdates.MonthLocator(interval=2))\n",
    "ax.xaxis.set_major_formatter(mdates.DateFormatter('%y/%m'))\n",
    "ax.tick_params(axis='x', labelrotation=45)\n",
    "\n",
    "print('初日: {}'.format(df_forward_test.iloc[0]['Date']))\n",
    "print('最終日: {}'.format(df_forward_test.iloc[-1]['Date']))\n",
    "print('最終日時点の残高: {}'.format(df_forward_test.iloc[-1]['balance'].astype(int)))\n",
    "print('儲け: {}'.format(df_forward_test.iloc[-1]['balance'].astype(int)-start_balance))"
   ]
  },
  {
   "cell_type": "markdown",
   "metadata": {},
   "source": [
    "### feature_importance"
   ]
  },
  {
   "cell_type": "code",
   "execution_count": 64,
   "metadata": {
    "ExecuteTime": {
     "end_time": "2021-04-01T11:38:18.405354Z",
     "start_time": "2021-04-01T11:38:17.980459Z"
    }
   },
   "outputs": [
    {
     "data": {
      "text/html": [
       "<div>\n",
       "<style scoped>\n",
       "    .dataframe tbody tr th:only-of-type {\n",
       "        vertical-align: middle;\n",
       "    }\n",
       "\n",
       "    .dataframe tbody tr th {\n",
       "        vertical-align: top;\n",
       "    }\n",
       "\n",
       "    .dataframe thead th {\n",
       "        text-align: right;\n",
       "    }\n",
       "</style>\n",
       "<table border=\"1\" class=\"dataframe\">\n",
       "  <thead>\n",
       "    <tr style=\"text-align: right;\">\n",
       "      <th></th>\n",
       "      <th>feature_names</th>\n",
       "      <th>feature_importance</th>\n",
       "    </tr>\n",
       "  </thead>\n",
       "  <tbody>\n",
       "    <tr>\n",
       "      <th>100</th>\n",
       "      <td>deb10y_Close</td>\n",
       "      <td>0.015063</td>\n",
       "    </tr>\n",
       "    <tr>\n",
       "      <th>71</th>\n",
       "      <td>dax_Close</td>\n",
       "      <td>0.014803</td>\n",
       "    </tr>\n",
       "    <tr>\n",
       "      <th>69</th>\n",
       "      <td>dax_High</td>\n",
       "      <td>0.014736</td>\n",
       "    </tr>\n",
       "    <tr>\n",
       "      <th>43</th>\n",
       "      <td>dow_High</td>\n",
       "      <td>0.014284</td>\n",
       "    </tr>\n",
       "    <tr>\n",
       "      <th>45</th>\n",
       "      <td>dow_Close</td>\n",
       "      <td>0.014283</td>\n",
       "    </tr>\n",
       "    <tr>\n",
       "      <th>42</th>\n",
       "      <td>dow_Open</td>\n",
       "      <td>0.013799</td>\n",
       "    </tr>\n",
       "    <tr>\n",
       "      <th>97</th>\n",
       "      <td>deb10y_Open</td>\n",
       "      <td>0.011759</td>\n",
       "    </tr>\n",
       "    <tr>\n",
       "      <th>105</th>\n",
       "      <td>DE_US_10ySpread</td>\n",
       "      <td>0.011526</td>\n",
       "    </tr>\n",
       "    <tr>\n",
       "      <th>83</th>\n",
       "      <td>vix_Close</td>\n",
       "      <td>0.011343</td>\n",
       "    </tr>\n",
       "    <tr>\n",
       "      <th>89</th>\n",
       "      <td>grb10y_Open</td>\n",
       "      <td>0.011067</td>\n",
       "    </tr>\n",
       "    <tr>\n",
       "      <th>98</th>\n",
       "      <td>deb10y_High</td>\n",
       "      <td>0.011046</td>\n",
       "    </tr>\n",
       "    <tr>\n",
       "      <th>57</th>\n",
       "      <td>gold_Low</td>\n",
       "      <td>0.011012</td>\n",
       "    </tr>\n",
       "    <tr>\n",
       "      <th>70</th>\n",
       "      <td>dax_Low</td>\n",
       "      <td>0.010916</td>\n",
       "    </tr>\n",
       "    <tr>\n",
       "      <th>96</th>\n",
       "      <td>itb10y_Close</td>\n",
       "      <td>0.010749</td>\n",
       "    </tr>\n",
       "    <tr>\n",
       "      <th>49</th>\n",
       "      <td>nikkei_Low</td>\n",
       "      <td>0.010472</td>\n",
       "    </tr>\n",
       "    <tr>\n",
       "      <th>66</th>\n",
       "      <td>wti_OpenInt</td>\n",
       "      <td>0.010408</td>\n",
       "    </tr>\n",
       "    <tr>\n",
       "      <th>119</th>\n",
       "      <td>eurusd_macd_hist</td>\n",
       "      <td>0.010351</td>\n",
       "    </tr>\n",
       "    <tr>\n",
       "      <th>112</th>\n",
       "      <td>eurusd_sma200</td>\n",
       "      <td>0.010350</td>\n",
       "    </tr>\n",
       "    <tr>\n",
       "      <th>44</th>\n",
       "      <td>dow_Low</td>\n",
       "      <td>0.010269</td>\n",
       "    </tr>\n",
       "    <tr>\n",
       "      <th>13</th>\n",
       "      <td>EURUSD_14days_RSI</td>\n",
       "      <td>0.010252</td>\n",
       "    </tr>\n",
       "  </tbody>\n",
       "</table>\n",
       "</div>"
      ],
      "text/plain": [
       "         feature_names  feature_importance\n",
       "100       deb10y_Close            0.015063\n",
       "71           dax_Close            0.014803\n",
       "69            dax_High            0.014736\n",
       "43            dow_High            0.014284\n",
       "45           dow_Close            0.014283\n",
       "42            dow_Open            0.013799\n",
       "97         deb10y_Open            0.011759\n",
       "105    DE_US_10ySpread            0.011526\n",
       "83           vix_Close            0.011343\n",
       "89         grb10y_Open            0.011067\n",
       "98         deb10y_High            0.011046\n",
       "57            gold_Low            0.011012\n",
       "70             dax_Low            0.010916\n",
       "96        itb10y_Close            0.010749\n",
       "49          nikkei_Low            0.010472\n",
       "66         wti_OpenInt            0.010408\n",
       "119   eurusd_macd_hist            0.010351\n",
       "112      eurusd_sma200            0.010350\n",
       "44             dow_Low            0.010269\n",
       "13   EURUSD_14days_RSI            0.010252"
      ]
     },
     "metadata": {},
     "output_type": "display_data"
    },
    {
     "data": {
      "image/png": "[encoded data removed]",
      "text/plain": [
       "<Figure size 720x576 with 1 Axes>"
      ]
     },
     "metadata": {
      "needs_background": "light"
     },
     "output_type": "display_data"
    }
   ],
   "source": [
    "def plot_feature_importance(importance,names):\n",
    "    \n",
    "    # Create arrays from feature importance and feature names\n",
    "    feature_importance = np.array(importance)\n",
    "    feature_names = np.array(names)\n",
    "\n",
    "    # Create a DataFrame using a Dictionary\n",
    "    data={'feature_names':feature_names,'feature_importance':feature_importance}\n",
    "    fi_df = pd.DataFrame(data)\n",
    "\n",
    "    # Sort the DataFrame in order decreasing feature importance\n",
    "    fi_df.sort_values(by=['feature_importance'], ascending=False,inplace=True)\n",
    "    return fi_df\n",
    "\n",
    "# 重要な変数トップ20を取得\n",
    "fi_df = plot_feature_importance(model.feature_importances_,X_train.columns)\n",
    "fi_df = fi_df.head(20)\n",
    "\n",
    "# Define size of bar plot\n",
    "plt.figure(figsize=(10,8))\n",
    "# Plot Searborn bar chart\n",
    "sns.barplot(x=fi_df['feature_importance'], y=fi_df['feature_names'])\n",
    "# Add chart labels\n",
    "plt.title('RANDOM FOREST' + 'FEATURE IMPORTANCE')\n",
    "plt.xlabel('FEATURE IMPORTANCE')\n",
    "plt.ylabel('FEATURE NAMES')\n",
    "\n",
    "display(fi_df)"
   ]
  },
  {
   "cell_type": "code",
   "execution_count": null,
   "metadata": {},
   "outputs": [],
   "source": []
  },
  {
   "cell_type": "code",
   "execution_count": null,
   "metadata": {},
   "outputs": [],
   "source": []
  }
 ],
 "metadata": {
  "kernelspec": {
   "display_name": "Python 3",
   "language": "python",
   "name": "python3"
  },
  "language_info": {
   "codemirror_mode": {
    "name": "ipython",
    "version": 3
   },
   "file_extension": ".py",
   "mimetype": "text/x-python",
   "name": "python",
   "nbconvert_exporter": "python",
   "pygments_lexer": "ipython3",
   "version": "3.6.9"
  },
  "toc": {
   "base_numbering": 1,
   "nav_menu": {},
   "number_sections": true,
   "sideBar": true,
   "skip_h1_title": false,
   "title_cell": "Table of Contents",
   "title_sidebar": "Contents",
   "toc_cell": false,
   "toc_position": {},
   "toc_section_display": true,
   "toc_window_display": true
  },
  "varInspector": {
   "cols": {
    "lenName": 16,
    "lenType": 16,
    "lenVar": 40
   },
   "kernels_config": {
    "python": {
     "delete_cmd_postfix": "",
     "delete_cmd_prefix": "del ",
     "library": "var_list.py",
     "varRefreshCmd": "print(var_dic_list())"
    },
    "r": {
     "delete_cmd_postfix": ") ",
     "delete_cmd_prefix": "rm(",
     "library": "var_list.r",
     "varRefreshCmd": "cat(var_dic_list()) "
    }
   },
   "types_to_exclude": [
    "module",
    "function",
    "builtin_function_or_method",
    "instance",
    "_Feature"
   ],
   "window_display": false
  }
 },
 "nbformat": 4,
 "nbformat_minor": 4
}
