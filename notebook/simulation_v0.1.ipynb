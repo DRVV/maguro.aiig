{
 "cells": [
  {
   "cell_type": "code",
   "execution_count": 1,
   "metadata": {
    "ExecuteTime": {
     "end_time": "2021-04-22T10:22:29.906588Z",
     "start_time": "2021-04-22T10:22:26.547086Z"
    }
   },
   "outputs": [],
   "source": [
    "import numpy as np\n",
    "import pandas as pd\n",
    "import datetime as dt\n",
    "\n",
    "from sklearn.model_selection import train_test_split\n",
    "from sklearn.ensemble import RandomForestClassifier\n",
    "from sklearn.metrics import accuracy_score\n",
    "import optuna\n",
    "\n",
    "from sklearn.metrics import confusion_matrix\n",
    "from sklearn.metrics import plot_confusion_matrix\n",
    "import seaborn as sns\n",
    "import matplotlib.pyplot as plt\n",
    "import matplotlib.dates as mdates\n",
    "import matplotlib as mpl\n",
    "import matplotlib.ticker as ticker\n",
    "import pickle\n",
    "\n",
    "# インストール方法 https://tkstock.site/2018/08/22/post-593/\n",
    "import talib as ta"
   ]
  },
  {
   "cell_type": "markdown",
   "metadata": {},
   "source": [
    "### data load"
   ]
  },
  {
   "cell_type": "code",
   "execution_count": 7,
   "metadata": {
    "ExecuteTime": {
     "end_time": "2021-04-22T10:23:41.071696Z",
     "start_time": "2021-04-22T10:23:41.007870Z"
    }
   },
   "outputs": [
    {
     "name": "stdout",
     "output_type": "stream",
     "text": [
      "(3573, 9)\n"
     ]
    },
    {
     "data": {
      "text/html": [
       "<div>\n",
       "<style scoped>\n",
       "    .dataframe tbody tr th:only-of-type {\n",
       "        vertical-align: middle;\n",
       "    }\n",
       "\n",
       "    .dataframe tbody tr th {\n",
       "        vertical-align: top;\n",
       "    }\n",
       "\n",
       "    .dataframe thead th {\n",
       "        text-align: right;\n",
       "    }\n",
       "</style>\n",
       "<table border=\"1\" class=\"dataframe\">\n",
       "  <thead>\n",
       "    <tr style=\"text-align: right;\">\n",
       "      <th></th>\n",
       "      <th>is_train</th>\n",
       "      <th>Date</th>\n",
       "      <th>eurusd_Open</th>\n",
       "      <th>eurusd_High</th>\n",
       "      <th>eurusd_Low</th>\n",
       "      <th>eurusd_Close</th>\n",
       "      <th>usdjpy_Close</th>\n",
       "      <th>Maguro</th>\n",
       "      <th>pred</th>\n",
       "    </tr>\n",
       "  </thead>\n",
       "  <tbody>\n",
       "    <tr>\n",
       "      <th>0</th>\n",
       "      <td>True</td>\n",
       "      <td>2007-04-20</td>\n",
       "      <td>1.3616</td>\n",
       "      <td>1.3636</td>\n",
       "      <td>1.3586</td>\n",
       "      <td>1.3589</td>\n",
       "      <td>118.68</td>\n",
       "      <td>0</td>\n",
       "      <td>0</td>\n",
       "    </tr>\n",
       "    <tr>\n",
       "      <th>1</th>\n",
       "      <td>True</td>\n",
       "      <td>2007-04-23</td>\n",
       "      <td>1.3605</td>\n",
       "      <td>1.3606</td>\n",
       "      <td>1.3542</td>\n",
       "      <td>1.3576</td>\n",
       "      <td>118.57</td>\n",
       "      <td>1</td>\n",
       "      <td>0</td>\n",
       "    </tr>\n",
       "    <tr>\n",
       "      <th>2</th>\n",
       "      <td>True</td>\n",
       "      <td>2007-04-24</td>\n",
       "      <td>1.3575</td>\n",
       "      <td>1.3644</td>\n",
       "      <td>1.3548</td>\n",
       "      <td>1.3639</td>\n",
       "      <td>118.51</td>\n",
       "      <td>0</td>\n",
       "      <td>0</td>\n",
       "    </tr>\n",
       "    <tr>\n",
       "      <th>3</th>\n",
       "      <td>True</td>\n",
       "      <td>2007-04-25</td>\n",
       "      <td>1.3638</td>\n",
       "      <td>1.3665</td>\n",
       "      <td>1.3620</td>\n",
       "      <td>1.3643</td>\n",
       "      <td>118.61</td>\n",
       "      <td>0</td>\n",
       "      <td>0</td>\n",
       "    </tr>\n",
       "    <tr>\n",
       "      <th>4</th>\n",
       "      <td>True</td>\n",
       "      <td>2007-04-26</td>\n",
       "      <td>1.3642</td>\n",
       "      <td>1.3653</td>\n",
       "      <td>1.3584</td>\n",
       "      <td>1.3590</td>\n",
       "      <td>119.49</td>\n",
       "      <td>1</td>\n",
       "      <td>0</td>\n",
       "    </tr>\n",
       "  </tbody>\n",
       "</table>\n",
       "</div>"
      ],
      "text/plain": [
       "   is_train        Date  eurusd_Open  eurusd_High  eurusd_Low  eurusd_Close  \\\n",
       "0      True  2007-04-20       1.3616       1.3636      1.3586        1.3589   \n",
       "1      True  2007-04-23       1.3605       1.3606      1.3542        1.3576   \n",
       "2      True  2007-04-24       1.3575       1.3644      1.3548        1.3639   \n",
       "3      True  2007-04-25       1.3638       1.3665      1.3620        1.3643   \n",
       "4      True  2007-04-26       1.3642       1.3653      1.3584        1.3590   \n",
       "\n",
       "   usdjpy_Close  Maguro  pred  \n",
       "0        118.68       0     0  \n",
       "1        118.57       1     0  \n",
       "2        118.51       0     0  \n",
       "3        118.61       0     0  \n",
       "4        119.49       1     0  "
      ]
     },
     "execution_count": 7,
     "metadata": {},
     "output_type": "execute_result"
    }
   ],
   "source": [
    "# 元データに以下２列を追加したデータを用意してください\n",
    "# is_train列：trainデータ＝True\n",
    "# pred列：予測結果\n",
    "# 読み込むデータが正しければ後続のスクリプトは修正なしで動くと思います\n",
    "col = ['is_train','Date','eurusd_Open', 'eurusd_High', 'eurusd_Low', 'eurusd_Close', 'usdjpy_Close', 'Maguro', 'pred']\n",
    "df = pd.read_csv('../output/df_back_test.csv')[col]\n",
    "\n",
    "df_train_result = df[df['is_train']]\n",
    "df_test_result = df[~df['is_train']]\n",
    "print(df.shape)\n",
    "df.head()"
   ]
  },
  {
   "cell_type": "markdown",
   "metadata": {},
   "source": [
    "### トレードのシミュレーション"
   ]
  },
  {
   "cell_type": "code",
   "execution_count": 3,
   "metadata": {
    "ExecuteTime": {
     "end_time": "2021-04-22T10:22:30.015349Z",
     "start_time": "2021-04-22T10:22:29.970426Z"
    }
   },
   "outputs": [],
   "source": [
    "def trade_simulation(dfx,leverage,start_balance):\n",
    "    i = 0\n",
    "    for index,item in dfx.iterrows():\n",
    "        # 1万EUR（1枚）取引に必要な証拠金\n",
    "        dfx.loc[index,'margin_per_eur'] = item['eurusd_Close']*item['usdjpy_Close']*10000/leverage\n",
    "\n",
    "        # 残高\n",
    "        if i <= 1:\n",
    "            dfx.loc[index,'balance'] = start_balance \n",
    "        else:\n",
    "            dfx.loc[index,'balance'] = dfx.loc[index-1,'balance'] + dfx.loc[index-1,'profit_loss']\n",
    "\n",
    "        # 枚数\n",
    "        num = dfx.loc[index,'balance']/2/dfx.loc[index,'margin_per_eur']\n",
    "        if num>100:\n",
    "            num = 100\n",
    "        dfx.loc[index,'num']  = num\n",
    "\n",
    "        # 必要証拠金\n",
    "        dfx.loc[index,'margin']  = dfx.loc[index,'margin_per_eur']*dfx.loc[index,'num']\n",
    "\n",
    "        # ポジションメイク後投資余力\n",
    "        dfx.loc[index,'capacity']  = dfx.loc[index,'balance']-dfx.loc[index,'margin']\n",
    "\n",
    "        # レート変動耐性\n",
    "        dfx.loc[index,'rate_fluctuation_tolerance'] = dfx.loc[index,'capacity']/(dfx.loc[index,'num']*10000)\n",
    "\n",
    "        # 損益\n",
    "        if i <= 1:\n",
    "            dfx.loc[index,'profit_loss'] = 0 \n",
    "        else:\n",
    "            dfx.loc[index,'profit_loss'] = dfx.loc[index-2,'pred']*(dfx.loc[index,'eurusd_Close']-dfx.loc[index-2,'eurusd_Close'])*dfx.loc[index-2,'num']*10000*dfx.loc[index,'usdjpy_Close']\n",
    "\n",
    "        i = i+1\n",
    "    return dfx.copy()"
   ]
  },
  {
   "cell_type": "code",
   "execution_count": 4,
   "metadata": {
    "ExecuteTime": {
     "end_time": "2021-04-22T10:22:30.030307Z",
     "start_time": "2021-04-22T10:22:30.019337Z"
    }
   },
   "outputs": [],
   "source": [
    "# レバレッジ倍数\n",
    "leverage = 25\n",
    "# スタート時の残高\n",
    "start_balance = 1000000"
   ]
  },
  {
   "cell_type": "markdown",
   "metadata": {},
   "source": [
    "#### Back test"
   ]
  },
  {
   "cell_type": "code",
   "execution_count": 5,
   "metadata": {
    "ExecuteTime": {
     "end_time": "2021-04-22T10:22:39.292738Z",
     "start_time": "2021-04-22T10:22:30.033299Z"
    },
    "scrolled": true
   },
   "outputs": [
    {
     "name": "stdout",
     "output_type": "stream",
     "text": [
      "初日: 2007-04-20\n",
      "最終日: 2021-02-02\n",
      "最終日時点の残高: 1209551552\n",
      "儲け: 1208551552\n"
     ]
    },
    {
     "data": {
      "image/png": "[encoded data removed]",
      "text/plain": [
       "<Figure size 1152x288 with 1 Axes>"
      ]
     },
     "metadata": {
      "needs_background": "light"
     },
     "output_type": "display_data"
    }
   ],
   "source": [
    "# 損益計算\n",
    "df_concat = pd.concat([df_train_result, df_test_result])\n",
    "\n",
    "df_back_test = trade_simulation(df_concat,leverage,start_balance)\n",
    "df_back_test.to_csv('../output/df_back_test.csv', encoding='cp932',index=True)\n",
    "\n",
    "# Back test時の残高可視化\n",
    "fig, ax = plt.subplots(figsize=(16, 4))\n",
    "ax.plot(df_concat[df_back_test['is_train']]['Date'], df_back_test[df_back_test['is_train']]['balance'], label='train_balance')\n",
    "ax.plot(df_concat[~df_back_test['is_train']]['Date'], df_back_test[~df_back_test['is_train']]['balance'], label='test_balance')\n",
    "ax.legend(fontsize=12)\n",
    "ax.set_title('Back test', fontsize=14)\n",
    "ax.yaxis.get_major_formatter().set_useOffset(False)\n",
    "ax.yaxis.get_major_formatter().set_scientific(False) \n",
    "ax.yaxis.set_major_locator(ticker.MaxNLocator(integer=True))\n",
    "ax.set_ylim(0, df_back_test['balance'].max() + df_back_test['balance'].max()*0.1)\n",
    "# ax.yaxis.set_ticks(np.arange(0, df_back_test['balance'].max() + 1000000, 500000))\n",
    "\n",
    "ax.xaxis.set_major_locator(mdates.MonthLocator(interval=12))\n",
    "ax.xaxis.set_major_formatter(mdates.DateFormatter('%Y'))\n",
    "ax.tick_params(axis='x', labelrotation=45)\n",
    "\n",
    "print('初日: {}'.format(df_back_test.iloc[0]['Date']))\n",
    "print('最終日: {}'.format(df_back_test.iloc[-1]['Date']))\n",
    "print('最終日時点の残高: {}'.format(df_back_test.iloc[-1]['balance'].astype(int)))\n",
    "print('儲け: {}'.format(df_back_test.iloc[-1]['balance'].astype(int)-start_balance))"
   ]
  },
  {
   "cell_type": "markdown",
   "metadata": {},
   "source": [
    "#### Forward test"
   ]
  },
  {
   "cell_type": "code",
   "execution_count": 6,
   "metadata": {
    "ExecuteTime": {
     "end_time": "2021-04-22T10:22:40.177548Z",
     "start_time": "2021-04-22T10:22:39.294691Z"
    }
   },
   "outputs": [
    {
     "name": "stderr",
     "output_type": "stream",
     "text": [
      "C:\\Users\\naofumi.honda\\Anaconda3\\envs\\py37\\lib\\site-packages\\pandas\\core\\indexing.py:1596: SettingWithCopyWarning: \n",
      "A value is trying to be set on a copy of a slice from a DataFrame.\n",
      "Try using .loc[row_indexer,col_indexer] = value instead\n",
      "\n",
      "See the caveats in the documentation: https://pandas.pydata.org/pandas-docs/stable/user_guide/indexing.html#returning-a-view-versus-a-copy\n",
      "  self.obj[key] = _infer_fill_value(value)\n",
      "C:\\Users\\naofumi.honda\\Anaconda3\\envs\\py37\\lib\\site-packages\\pandas\\core\\indexing.py:1765: SettingWithCopyWarning: \n",
      "A value is trying to be set on a copy of a slice from a DataFrame.\n",
      "Try using .loc[row_indexer,col_indexer] = value instead\n",
      "\n",
      "See the caveats in the documentation: https://pandas.pydata.org/pandas-docs/stable/user_guide/indexing.html#returning-a-view-versus-a-copy\n",
      "  isetter(loc, value)\n"
     ]
    },
    {
     "name": "stdout",
     "output_type": "stream",
     "text": [
      "初日: 2020-01-02\n",
      "最終日: 2021-02-02\n",
      "最終日時点の残高: 2857674\n",
      "儲け: 1857674\n"
     ]
    },
    {
     "data": {
      "image/png": "[encoded data removed]",
      "text/plain": [
       "<Figure size 1152x288 with 1 Axes>"
      ]
     },
     "metadata": {
      "needs_background": "light"
     },
     "output_type": "display_data"
    }
   ],
   "source": [
    "# 損益計算\n",
    "df_forward_test = trade_simulation(df_test_result,leverage,start_balance)\n",
    "df_forward_test.to_csv('../output/df_forward_test.csv', encoding='cp932',index=True)\n",
    "\n",
    "# Forward test時の残高可視化\n",
    "fig, ax = plt.subplots(figsize=(16, 4))\n",
    "ax.plot(df_forward_test['Date'], df_forward_test['balance'], label='balance', color='orange')\n",
    "ax.legend(fontsize=12)\n",
    "ax.set_title('Forward test', fontsize=14)\n",
    "ax.yaxis.get_major_formatter().set_useOffset(False)\n",
    "ax.yaxis.get_major_formatter().set_scientific(False) \n",
    "ax.yaxis.set_major_locator(ticker.MaxNLocator(integer=True))\n",
    "ax.set_ylim(0, df_forward_test['balance'].max() + df_forward_test['balance'].max()*0.1)\n",
    "# ax.yaxis.set_ticks(np.arange(0, 5000001, 500000))\n",
    "\n",
    "ax.xaxis.set_major_locator(mdates.MonthLocator(interval=2))\n",
    "ax.xaxis.set_major_formatter(mdates.DateFormatter('%y/%m'))\n",
    "ax.tick_params(axis='x', labelrotation=45)\n",
    "\n",
    "print('初日: {}'.format(df_forward_test.iloc[0]['Date']))\n",
    "print('最終日: {}'.format(df_forward_test.iloc[-1]['Date']))\n",
    "print('最終日時点の残高: {}'.format(df_forward_test.iloc[-1]['balance'].astype(int)))\n",
    "print('儲け: {}'.format(df_forward_test.iloc[-1]['balance'].astype(int)-start_balance))"
   ]
  },
  {
   "cell_type": "code",
   "execution_count": null,
   "metadata": {},
   "outputs": [],
   "source": []
  },
  {
   "cell_type": "code",
   "execution_count": null,
   "metadata": {},
   "outputs": [],
   "source": []
  }
 ],
 "metadata": {
  "kernelspec": {
   "display_name": "Python 3",
   "language": "python",
   "name": "python3"
  },
  "language_info": {
   "codemirror_mode": {
    "name": "ipython",
    "version": 3
   },
   "file_extension": ".py",
   "mimetype": "text/x-python",
   "name": "python",
   "nbconvert_exporter": "python",
   "pygments_lexer": "ipython3",
   "version": "3.7.9"
  },
  "toc": {
   "base_numbering": 1,
   "nav_menu": {},
   "number_sections": true,
   "sideBar": true,
   "skip_h1_title": false,
   "title_cell": "Table of Contents",
   "title_sidebar": "Contents",
   "toc_cell": false,
   "toc_position": {},
   "toc_section_display": true,
   "toc_window_display": true
  },
  "varInspector": {
   "cols": {
    "lenName": 16,
    "lenType": 16,
    "lenVar": 40
   },
   "kernels_config": {
    "python": {
     "delete_cmd_postfix": "",
     "delete_cmd_prefix": "del ",
     "library": "var_list.py",
     "varRefreshCmd": "print(var_dic_list())"
    },
    "r": {
     "delete_cmd_postfix": ") ",
     "delete_cmd_prefix": "rm(",
     "library": "var_list.r",
     "varRefreshCmd": "cat(var_dic_list()) "
    }
   },
   "types_to_exclude": [
    "module",
    "function",
    "builtin_function_or_method",
    "instance",
    "_Feature"
   ],
   "window_display": false
  }
 },
 "nbformat": 4,
 "nbformat_minor": 4
}
