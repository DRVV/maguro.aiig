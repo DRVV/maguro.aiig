{
 "cells": [
  {
   "cell_type": "code",
   "execution_count": 1,
   "metadata": {
    "ExecuteTime": {
     "end_time": "2021-03-18T10:41:54.023872Z",
     "start_time": "2021-03-18T10:41:45.656614Z"
    }
   },
   "outputs": [
    {
     "name": "stderr",
     "output_type": "stream",
     "text": [
      "C:\\Users\\naofumi.honda\\Anaconda3\\envs\\py37\\lib\\site-packages\\torch\\cuda\\__init__.py:52: UserWarning: CUDA initialization: Found no NVIDIA driver on your system. Please check that you have an NVIDIA GPU and installed a driver from http://www.nvidia.com/Download/index.aspx (Triggered internally at  ..\\c10\\cuda\\CUDAFunctions.cpp:100.)\n",
      "  return torch._C._cuda_getDeviceCount() > 0\n"
     ]
    }
   ],
   "source": [
    "import glob\n",
    "import pandas as pd\n",
    "import re\n",
    "from sklearn.metrics import mean_absolute_error\n",
    "import torch\n",
    "import torch.nn as nn\n",
    "from torch.utils.data import DataLoader\n",
    "import numpy as np\n",
    "import matplotlib.pyplot as plt\n",
    "import matplotlib.ticker as tick\n",
    "from matplotlib import rcParams\n",
    "\n",
    "rcParams['font.sans-serif'] = ['Hiragino Maru Gothic Pro', 'Yu Gothic', 'Meirio', 'Takao', 'IPAexGothic', 'IPAPGothic', 'VL PGothic', 'Noto Sans CJK JP']\n",
    "device = torch.device(\"cuda\" if torch.cuda.is_available() else \"cpu\")"
   ]
  },
  {
   "cell_type": "code",
   "execution_count": 2,
   "metadata": {
    "ExecuteTime": {
     "end_time": "2021-03-18T10:46:25.809244Z",
     "start_time": "2021-03-18T10:46:25.786306Z"
    }
   },
   "outputs": [],
   "source": [
    "class Data_holder():\n",
    "    def __init__(self, stock_prices_raw, train_val_divided, val_flag):\n",
    "        self.stock_close_price_index = stock_prices_raw.loc[:,'open':'volume'].columns.get_loc('close')\n",
    "        self.stock_prices = stock_prices_raw.loc[:,'open':'volume'].values\n",
    "        self.train_val_divided = train_val_divided\n",
    "        self.val_flag = val_flag\n",
    "        if self.val_flag != True:\n",
    "            self.stock_prices = self.stock_prices[:int(self.stock_prices.shape[0]*self.train_val_divided)]\n",
    "        if self.val_flag == True:\n",
    "            self.stock_prices = self.stock_prices[int(self.stock_prices.shape[0]*self.train_val_divided):]\n",
    "\n",
    "\n",
    "    @staticmethod\n",
    "    def prepare_data(file_source):\n",
    "        \"\"\"株価データのcsvファイルをpandas.core.frame.DataFrame形式でloadする関数。\n",
    "\n",
    "        Args:\n",
    "            str: csvファイルのuri。\n",
    "\n",
    "        Return:\n",
    "            pandas.core.frame.DataFrame: 株価データ。「列名：日付,始値,高値,低値,終値,出来高,取引総額」、「行名：日付」の表。\n",
    "\n",
    "        \"\"\"\n",
    "        stock_data = pd.read_csv(file_source, engine = \"python\")\n",
    "        stock_data = stock_data.set_index('date')\n",
    "        temp = file_source.replace(storage_uri, '')\n",
    "        temp = re.sub(r'YYYYY', '', temp)\n",
    "        latest_data = re.sub(r'.csv', '', temp)\n",
    "        latest_data = [float(x.strip()) for x in latest_data.split(',')]\n",
    "        temp = pd.DataFrame([latest_data[1:]], columns=stock_data.columns, index=[int(latest_data[0])], dtype=float)\n",
    "        stock_data = stock_data.append(temp,ignore_index=False)\n",
    "        return stock_data\n",
    "\n",
    "\n",
    "    def fragment_normalize_data(self, window_size, predicted_day_num):\n",
    "        fragment_num = self.stock_prices.shape[0] - window_size - predicted_day_num\n",
    "        stock_price_flagments = np.zeros((fragment_num, window_size+predicted_day_num, feature_num))\n",
    "        XXXXX = YYYYY #test時に出力を株価に変換するために必要。\n",
    "\n",
    "        #正規化\n",
    "        stock_price_labels = torch.tensor(stock_price_flagments[:, window_size+predicted_day_num-1, self.stock_close_price_index], dtype=torch.float, device=device).view(-1, 1)\n",
    "        stock_price_flagments = torch.tensor(stock_price_flagments[:, :window_size, :], dtype=torch.float, device=device)\n",
    "\n",
    "        if self.val_flag != True:\n",
    "            return stock_price_labels, stock_price_flagments\n",
    "        if self.val_flag == True:\n",
    "            return stock_price_labels, stock_price_flagments, XXXXX"
   ]
  },
  {
   "cell_type": "code",
   "execution_count": 3,
   "metadata": {
    "ExecuteTime": {
     "end_time": "2021-03-18T10:46:26.013138Z",
     "start_time": "2021-03-18T10:46:26.004166Z"
    }
   },
   "outputs": [],
   "source": [
    "class StockDataset(torch.utils.data.Dataset):\n",
    "    def __init__(self, x, y, phase):\n",
    "        self.sequence = x\n",
    "        self.label = y\n",
    "        self.phase = phase\n",
    "\n",
    "\n",
    "    def __len__(self):\n",
    "        return len(self.label)\n",
    "\n",
    "\n",
    "    def __getitem__(self, idx):\n",
    "        out_data = self.sequence[idx]\n",
    "        out_label =  self.label[idx]\n",
    "        return out_data, out_label"
   ]
  },
  {
   "cell_type": "code",
   "execution_count": 4,
   "metadata": {
    "ExecuteTime": {
     "end_time": "2021-03-18T10:46:26.216579Z",
     "start_time": "2021-03-18T10:46:26.198577Z"
    }
   },
   "outputs": [],
   "source": [
    "class LSTMC_full_connected_layer(nn.Module):\n",
    "    def __init__(self, input_size, hidden_size, num_layers):\n",
    "            super().__init__()\n",
    "            self.input_size = input_size\n",
    "            self.hidden_size = hidden_size\n",
    "            self.num_layers = num_layers\n",
    "            self.batch_size = batch_size\n",
    "            self.lstm = nn.LSTM(input_size=self.input_size,\n",
    "                                hidden_size=self.hidden_size,\n",
    "                                num_layers=self.num_layers,\n",
    "                                batch_first=True\n",
    "                                )\n",
    "            self.dense = nn.Linear(hidden_size, 1)\n",
    "\n",
    "\n",
    "    def forward(self, x_data, batch_size):\n",
    "        h0 = torch.zeros(self.num_layers, batch_size, hidden_layer_size)\n",
    "        c0 = torch.zeros(self.num_layers, batch_size, hidden_layer_size)\n",
    "\n",
    "        #隠れ層、cellの内部状態は使用しない。\n",
    "        lstm_out, (hn, cn) = self.lstm(x_data, (h0, c0))\n",
    "        linear_out = self.dense(lstm_out[:,-1,:].view(x_data.size(0), -1))\n",
    "        return torch.sigmoid(linear_out)"
   ]
  },
  {
   "cell_type": "code",
   "execution_count": 5,
   "metadata": {
    "ExecuteTime": {
     "end_time": "2021-03-18T10:46:26.748337Z",
     "start_time": "2021-03-18T10:46:26.736370Z"
    }
   },
   "outputs": [],
   "source": [
    "def loss_func(pred_value, true_value):\n",
    "    small_value = 1e-4\n",
    "    pred_value_flattened = pred_value.view(-1)\n",
    "    true_value_flattened = true_value.view(-1)\n",
    "    squared_diff_sum = torch.sum((pred_value_flattened - true_value_flattened)**2)\n",
    "    loss = (squared_diff_sum + small_value)/(pred_value_flattened.size(0) + small_value)\n",
    "    return loss\n",
    "\n",
    "\n",
    "def train_model(dataloaders_dict):\n",
    "    model = LSTMC_full_connected_layer(feature_num, hidden_layer_size, num_layers)\n",
    "    model.train()\n",
    "    optimizer = torch.optim.Adam(model.parameters(), lr=0.01)\n",
    "    loss_train = np.zeros((epochs, 2))\n",
    "    loss_val = np.zeros((int(epochs/5), 2))\n",
    "\n",
    "    for i in range(epochs):\n",
    "        total_loss = 0.0\n",
    "        for phase in ['train', 'val']:\n",
    "            if phase == 'train':\n",
    "                model.train()\n",
    "                #optimizer.zero_grad() \n",
    "                print('（train）')\n",
    "            else:\n",
    "                if((i+1) % 5 == 0):\n",
    "                    model.eval()\n",
    "                    print('-------------')\n",
    "                    print('（val）')\n",
    "                else:\n",
    "                    continue\n",
    "\n",
    "            count = 0\n",
    "            for x, y in dataloaders_dict[phase]:\n",
    "                count += 1\n",
    "                with torch.set_grad_enabled(phase == 'train'):\n",
    "                    y_pred = model(x, batch_size)\n",
    "                    loss = loss_func(y_pred, y)\n",
    "                    total_loss += loss.item()\n",
    "                    if (phase == 'train'):\n",
    "                        optimizer.zero_grad()\n",
    "                        loss.backward()\n",
    "                        optimizer.step()\n",
    "\n",
    "            total_loss /= count\n",
    "            if phase == 'train':\n",
    "                loss_train[i, 0] = i+1\n",
    "                loss_train[i, 1] = total_loss\n",
    "            if phase == 'val' and (i+1) % 5 == 0:\n",
    "                loss_val[int((i+1)/5-1), 0] = i+1\n",
    "                loss_val[int((i+1)/5)-1, 1] = total_loss\n",
    "            print(f'epoch: {i+1:3} loss: {total_loss:10.8f}')\n",
    "    return model, loss_train, loss_val"
   ]
  },
  {
   "cell_type": "code",
   "execution_count": 6,
   "metadata": {
    "ExecuteTime": {
     "end_time": "2021-03-18T10:46:46.242887Z",
     "start_time": "2021-03-18T10:46:46.024006Z"
    }
   },
   "outputs": [
    {
     "ename": "NameError",
     "evalue": "name 'Y' is not defined",
     "output_type": "error",
     "traceback": [
      "\u001b[1;31m---------------------------------------------------------------------------\u001b[0m",
      "\u001b[1;31mNameError\u001b[0m                                 Traceback (most recent call last)",
      "\u001b[1;32m<ipython-input-6-c5f9dc54d0d2>\u001b[0m in \u001b[0;36m<module>\u001b[1;34m\u001b[0m\n\u001b[1;32m----> 1\u001b[1;33m \u001b[0mwindow_size\u001b[0m \u001b[1;33m=\u001b[0m \u001b[0mY\u001b[0m\u001b[1;33m\u001b[0m\u001b[1;33m\u001b[0m\u001b[0m\n\u001b[0m\u001b[0;32m      2\u001b[0m \u001b[0mfeature_num\u001b[0m \u001b[1;33m=\u001b[0m \u001b[1;36m5\u001b[0m\u001b[1;33m\u001b[0m\u001b[1;33m\u001b[0m\u001b[0m\n\u001b[0;32m      3\u001b[0m \u001b[0mtrain_val_divided\u001b[0m \u001b[1;33m=\u001b[0m \u001b[1;36m0.7\u001b[0m\u001b[1;33m\u001b[0m\u001b[1;33m\u001b[0m\u001b[0m\n\u001b[0;32m      4\u001b[0m \u001b[1;33m\u001b[0m\u001b[0m\n\u001b[0;32m      5\u001b[0m \u001b[0mbatch_size\u001b[0m \u001b[1;33m=\u001b[0m \u001b[0mY\u001b[0m\u001b[1;33m\u001b[0m\u001b[1;33m\u001b[0m\u001b[0m\n",
      "\u001b[1;31mNameError\u001b[0m: name 'Y' is not defined"
     ]
    }
   ],
   "source": [
    "storage_uri = YYYYY\n",
    "gl = glob.glob(YYYYY)\n",
    "\n",
    "window_size = Y\n",
    "feature_num = 5\n",
    "train_val_divided = 0.7\n",
    "\n",
    "batch_size = Y\n",
    "hidden_layer_size = Y\n",
    "num_layers = 1\n",
    "epochs = 50\n",
    "\n",
    "def train_and_test_NN(stock_prices_raw1, stock_prices_raw2, predicted_day_num):\n",
    "    data_holder_t = Data_holder(stock_prices_raw1, train_val_divided, val_flag=False)\n",
    "    data_holder_v = Data_holder(stock_prices_raw2, train_val_divided, val_flag=True)\n",
    "\n",
    "    stock_price_labels_t, stock_price_flagments_t = data_holder_t.fragment_normalize_data(window_size, predicted_day_num)\n",
    "    stock_price_labels_v, stock_price_flagments_v, XXXXX = data_holder_v.fragment_normalize_data(window_size, predicted_day_num)\n",
    "\n",
    "    train_dataset = StockDataset(stock_price_flagments_t, stock_price_labels_t, 'train')\n",
    "    val_dataset = StockDataset(stock_price_flagments_v, stock_price_labels_v, 'val')\n",
    "\n",
    "    train_dataloader = torch.utils.data.DataLoader(train_dataset, batch_size=batch_size, shuffle=True, drop_last=True)\n",
    "    val_dataloader = torch.utils.data.DataLoader(train_dataset, batch_size=batch_size, shuffle=False, drop_last=True)\n",
    "    dataloaders_dict = {'train': train_dataloader, 'val': val_dataloader}\n",
    "\n",
    "    model, loss_train, loss_val = train_model(dataloaders_dict)\n",
    "    test_dataloader = torch.utils.data.DataLoader(val_dataset, batch_size=1, shuffle=False, drop_last=True)\n",
    "    prices_pred = np.zeros((len(test_dataloader)))\n",
    "    prices_true = np.zeros((len(test_dataloader)))\n",
    "\n",
    "    count = 0\n",
    "    for x, y in test_dataloader:\n",
    "        y_pred = model(x, batch_size=1).item()*(YYYYY)\n",
    "        y = y.item()*(YYYYY)\n",
    "        prices_pred[count] = y_pred\n",
    "        prices_true[count] = y\n",
    "        count += 1\n",
    "    return prices_pred, prices_true, loss_train, loss_val\n"
   ]
  },
  {
   "cell_type": "code",
   "execution_count": null,
   "metadata": {},
   "outputs": [],
   "source": []
  },
  {
   "cell_type": "code",
   "execution_count": null,
   "metadata": {},
   "outputs": [],
   "source": [
    "stock_prices_raw = Data_holder.prepare_data(gl[0])\n",
    "drawing_timing = [1, 5, 20, 60, 120]\n",
    "predicted_day_range = 120\n",
    "mean_absolute_errors = np.zeros((predicted_day_range))\n",
    "mean_absolute_price_changing_rate = np.zeros((predicted_day_range))\n",
    "fig0, ax0 = plt.subplots()\n",
    "\n"
   ]
  },
  {
   "cell_type": "code",
   "execution_count": null,
   "metadata": {},
   "outputs": [],
   "source": [
    "for i in range(predicted_day_range):\n",
    "    predicted_day_num = i+1\n",
    "    prices_pred, prices_true, loss_train, loss_val = train_and_test_NN(stock_prices_raw, stock_prices_raw, predicted_day_num)\n",
    "\n",
    "    mean_absolute_errors[i] = mean_absolute_error(prices_pred/prices_true, prices_true/prices_true)*100\n",
    "\n",
    "    tmp = 0\n",
    "    for j in range(len(prices_true)-predicted_day_num):\n",
    "        tmp += abs((prices_true[j+predicted_day_num] - prices_true[j]) / prices_true[j])\n",
    "    mean_absolute_price_changing_rate[i] = tmp / (len(prices_true)-predicted_day_num)*100\n",
    "\n",
    "    if predicted_day_num in drawing_timing:\n",
    "        x = np.linspace(predicted_day_num-1, len(prices_true)+predicted_day_num-1, len(prices_pred))\n",
    "        if predicted_day_num == 1:\n",
    "            ax0.plot(x, prices_true, label='真値', color='black')\n",
    "        ax0.plot(x, prices_pred, label=str(predicted_day_num)+'営業日後予測')\n",
    "        ax0.set_xlabel('営業日')\n",
    "        ax0.set_ylabel('株価（円）')\n",
    "        ax0.legend()\n",
    "        ax0.xaxis.set_minor_locator(tick.MultipleLocator(1))\n",
    "        ax0.grid(which='minor', linewidth=0.5)\n",
    "        fig0.savefig('日経平均株価予測.png', format=\"png\", dpi=500)\n",
    "\n",
    "\n",
    "        fig1, ax1 = plt.subplots()\n",
    "        ax1.plot(loss_train[:, 0], loss_train[:, 1], label='損失関数（訓練）')\n",
    "        ax1.plot(loss_val[:, 0], loss_val[:, 1], label='損失関数（検証）')\n",
    "        ax1.set_xlabel('エポック数')\n",
    "        ax1.set_title('損失関数（'+str(predicted_day_num)+'営業日後予測）')\n",
    "        ax1.set_ylim(0.0, 0.2)\n",
    "        ax1.legend()\n",
    "        plt.savefig('損失関数'+str(predicted_day_num)+'.png', format=\"png\", dpi=500)\n",
    "\n",
    "\n",
    "fig = plt.figure()\n",
    "x = np.linspace(0, predicted_day_range-1, predicted_day_range)\n",
    "plt.plot(x, mean_absolute_price_changing_rate, label='株価平均絶対変化率', color='black')\n",
    "plt.plot(x, mean_absolute_errors, label='予測値平均絶対誤差', color='red')\n",
    "plt.xlabel('n営業日後予測')\n",
    "plt.ylabel('平均絶対誤差・株価平均絶対変化率（%）')\n",
    "plt.legend()\n",
    "plt.gca().xaxis.set_minor_locator(tick.MultipleLocator(1))\n",
    "plt.grid(which='minor', linewidth=0.5)\n",
    "plt.savefig('平均絶対誤差・株価平均絶対変化率（%）.png', format=\"png\", dpi=500)"
   ]
  },
  {
   "cell_type": "code",
   "execution_count": null,
   "metadata": {},
   "outputs": [],
   "source": []
  },
  {
   "cell_type": "code",
   "execution_count": 3,
   "metadata": {
    "ExecuteTime": {
     "end_time": "2021-03-15T13:56:33.788215Z",
     "start_time": "2021-03-15T13:56:31.128741Z"
    }
   },
   "outputs": [],
   "source": [
    "import numpy as np\n",
    "import pandas as pd\n",
    "import datetime as dt\n",
    "\n",
    "from sklearn.model_selection import train_test_split\n",
    "from sklearn.ensemble import RandomForestClassifier\n",
    "from sklearn.metrics import accuracy_score\n",
    "import optuna\n",
    "\n",
    "from sklearn.metrics import confusion_matrix\n",
    "from sklearn.metrics import plot_confusion_matrix\n",
    "import seaborn as sns\n",
    "import matplotlib.pyplot as plt\n",
    "import matplotlib.dates as mdates\n",
    "import matplotlib as mpl\n",
    "import matplotlib.ticker as ticker\n",
    "\n",
    "# インストール方法 https://tkstock.site/2018/08/22/post-593/\n",
    "import talib as ta"
   ]
  },
  {
   "cell_type": "markdown",
   "metadata": {},
   "source": [
    "## 評価関数"
   ]
  },
  {
   "cell_type": "code",
   "execution_count": 4,
   "metadata": {
    "ExecuteTime": {
     "end_time": "2021-03-15T13:56:33.836183Z",
     "start_time": "2021-03-15T13:56:33.804249Z"
    }
   },
   "outputs": [],
   "source": [
    "def win_loss(Y_test, pred):\n",
    "    # Series型のデータをデータフレーム化\n",
    "    test_y2 = pd.DataFrame(Y_test)\n",
    "    # 予測結果を格納\n",
    "    test_y2['pred'] = pred\n",
    "\n",
    "    # 混同行列の各セルを定義\n",
    "    m1 = len(test_y2[(test_y2['Maguro']==1) & (test_y2['pred']==1)])\n",
    "    m2 = len(test_y2[(test_y2['Maguro']==1) & (test_y2['pred']==0)])\n",
    "    m3 = len(test_y2[(test_y2['Maguro']==1) & (test_y2['pred']==-1)])\n",
    "    m4 = len(test_y2[(test_y2['Maguro']==0) & (test_y2['pred']==1)])\n",
    "    m5 = len(test_y2[(test_y2['Maguro']==0) & (test_y2['pred']==0)])\n",
    "    m6 = len(test_y2[(test_y2['Maguro']==0) & (test_y2['pred']==-1)])\n",
    "    m7 = len(test_y2[(test_y2['Maguro']==-1) & (test_y2['pred']==1)])\n",
    "    m8 = len(test_y2[(test_y2['Maguro']==-1) & (test_y2['pred']==0)])\n",
    "    m9 = len(test_y2[(test_y2['Maguro']==-1) & (test_y2['pred']==-1)])\n",
    "\n",
    "    #　Total取引回数、大勝率、大敗率、の計算\n",
    "    try:\n",
    "        mall=m1+m2+m3+m4+m5+m6+m7+m8+m9\n",
    "        ma=m1+m3+m4+m6+m7+m9\n",
    "        mb=(m1+m9)/ma\n",
    "        mc=(m3+m7)/ma\n",
    "        win_loss_ratio = mb/mc\n",
    "    except ZeroDivisionError:\n",
    "        win_loss_ratio = 0\n",
    "        \n",
    "    # 各種モデル評価指標出力\n",
    "    return win_loss_ratio"
   ]
  },
  {
   "cell_type": "markdown",
   "metadata": {},
   "source": [
    "## data load"
   ]
  },
  {
   "cell_type": "code",
   "execution_count": 5,
   "metadata": {
    "ExecuteTime": {
     "end_time": "2021-03-15T13:56:57.341538Z",
     "start_time": "2021-03-15T13:56:33.852176Z"
    }
   },
   "outputs": [
    {
     "name": "stdout",
     "output_type": "stream",
     "text": [
      "(5470, 111)\n"
     ]
    },
    {
     "data": {
      "text/html": [
       "<div>\n",
       "<style scoped>\n",
       "    .dataframe tbody tr th:only-of-type {\n",
       "        vertical-align: middle;\n",
       "    }\n",
       "\n",
       "    .dataframe tbody tr th {\n",
       "        vertical-align: top;\n",
       "    }\n",
       "\n",
       "    .dataframe thead th {\n",
       "        text-align: right;\n",
       "    }\n",
       "</style>\n",
       "<table border=\"1\" class=\"dataframe\">\n",
       "  <thead>\n",
       "    <tr style=\"text-align: right;\">\n",
       "      <th></th>\n",
       "      <th>Date</th>\n",
       "      <th>eurusd_Open</th>\n",
       "      <th>eurusd_High</th>\n",
       "      <th>eurusd_Low</th>\n",
       "      <th>eurusd_Close</th>\n",
       "      <th>EURUSD_high-low</th>\n",
       "      <th>EURUSD_close-open</th>\n",
       "      <th>EURUSD_close-open_%</th>\n",
       "      <th>EURUSD_NegativeLine</th>\n",
       "      <th>EURUSD_PositiveLine</th>\n",
       "      <th>...</th>\n",
       "      <th>deb10y_Close</th>\n",
       "      <th>ptd10y_Open</th>\n",
       "      <th>ptd10y_High</th>\n",
       "      <th>ptd10y_Low</th>\n",
       "      <th>ptd10y_Close</th>\n",
       "      <th>DE_US_10ySpread</th>\n",
       "      <th>GR_DE_10ySpread</th>\n",
       "      <th>IT_DE_10ySpread</th>\n",
       "      <th>PT_DE_10ySpread</th>\n",
       "      <th>Maguro</th>\n",
       "    </tr>\n",
       "  </thead>\n",
       "  <tbody>\n",
       "    <tr>\n",
       "      <th>0</th>\n",
       "      <td>2000-01-03</td>\n",
       "      <td>1.0050</td>\n",
       "      <td>1.0280</td>\n",
       "      <td>1.0048</td>\n",
       "      <td>1.0262</td>\n",
       "      <td>0.0232</td>\n",
       "      <td>0.0212</td>\n",
       "      <td>0.913793</td>\n",
       "      <td>0.0002</td>\n",
       "      <td>0.0018</td>\n",
       "      <td>...</td>\n",
       "      <td>NaN</td>\n",
       "      <td>NaN</td>\n",
       "      <td>NaN</td>\n",
       "      <td>NaN</td>\n",
       "      <td>NaN</td>\n",
       "      <td>NaN</td>\n",
       "      <td>NaN</td>\n",
       "      <td>NaN</td>\n",
       "      <td>NaN</td>\n",
       "      <td>1</td>\n",
       "    </tr>\n",
       "    <tr>\n",
       "      <th>1</th>\n",
       "      <td>2000-01-04</td>\n",
       "      <td>1.0240</td>\n",
       "      <td>1.0343</td>\n",
       "      <td>1.0210</td>\n",
       "      <td>1.0308</td>\n",
       "      <td>0.0133</td>\n",
       "      <td>0.0068</td>\n",
       "      <td>0.511278</td>\n",
       "      <td>0.0030</td>\n",
       "      <td>0.0035</td>\n",
       "      <td>...</td>\n",
       "      <td>NaN</td>\n",
       "      <td>NaN</td>\n",
       "      <td>NaN</td>\n",
       "      <td>NaN</td>\n",
       "      <td>NaN</td>\n",
       "      <td>NaN</td>\n",
       "      <td>NaN</td>\n",
       "      <td>NaN</td>\n",
       "      <td>NaN</td>\n",
       "      <td>0</td>\n",
       "    </tr>\n",
       "    <tr>\n",
       "      <th>2</th>\n",
       "      <td>2000-01-05</td>\n",
       "      <td>1.0293</td>\n",
       "      <td>1.0402</td>\n",
       "      <td>1.0280</td>\n",
       "      <td>1.0314</td>\n",
       "      <td>0.0122</td>\n",
       "      <td>0.0021</td>\n",
       "      <td>0.172131</td>\n",
       "      <td>0.0013</td>\n",
       "      <td>0.0088</td>\n",
       "      <td>...</td>\n",
       "      <td>NaN</td>\n",
       "      <td>NaN</td>\n",
       "      <td>NaN</td>\n",
       "      <td>NaN</td>\n",
       "      <td>NaN</td>\n",
       "      <td>NaN</td>\n",
       "      <td>NaN</td>\n",
       "      <td>NaN</td>\n",
       "      <td>NaN</td>\n",
       "      <td>0</td>\n",
       "    </tr>\n",
       "    <tr>\n",
       "      <th>3</th>\n",
       "      <td>2000-01-06</td>\n",
       "      <td>1.0320</td>\n",
       "      <td>1.0414</td>\n",
       "      <td>1.0270</td>\n",
       "      <td>1.0319</td>\n",
       "      <td>0.0144</td>\n",
       "      <td>-0.0001</td>\n",
       "      <td>-0.006944</td>\n",
       "      <td>0.0049</td>\n",
       "      <td>0.0094</td>\n",
       "      <td>...</td>\n",
       "      <td>NaN</td>\n",
       "      <td>NaN</td>\n",
       "      <td>NaN</td>\n",
       "      <td>NaN</td>\n",
       "      <td>NaN</td>\n",
       "      <td>NaN</td>\n",
       "      <td>NaN</td>\n",
       "      <td>NaN</td>\n",
       "      <td>NaN</td>\n",
       "      <td>-1</td>\n",
       "    </tr>\n",
       "    <tr>\n",
       "      <th>4</th>\n",
       "      <td>2000-01-07</td>\n",
       "      <td>1.0324</td>\n",
       "      <td>1.0330</td>\n",
       "      <td>1.0250</td>\n",
       "      <td>1.0289</td>\n",
       "      <td>0.0080</td>\n",
       "      <td>-0.0035</td>\n",
       "      <td>-0.437500</td>\n",
       "      <td>0.0039</td>\n",
       "      <td>0.0006</td>\n",
       "      <td>...</td>\n",
       "      <td>NaN</td>\n",
       "      <td>NaN</td>\n",
       "      <td>NaN</td>\n",
       "      <td>NaN</td>\n",
       "      <td>NaN</td>\n",
       "      <td>NaN</td>\n",
       "      <td>NaN</td>\n",
       "      <td>NaN</td>\n",
       "      <td>NaN</td>\n",
       "      <td>0</td>\n",
       "    </tr>\n",
       "  </tbody>\n",
       "</table>\n",
       "<p>5 rows × 111 columns</p>\n",
       "</div>"
      ],
      "text/plain": [
       "        Date  eurusd_Open  eurusd_High  eurusd_Low  eurusd_Close  \\\n",
       "0 2000-01-03       1.0050       1.0280      1.0048        1.0262   \n",
       "1 2000-01-04       1.0240       1.0343      1.0210        1.0308   \n",
       "2 2000-01-05       1.0293       1.0402      1.0280        1.0314   \n",
       "3 2000-01-06       1.0320       1.0414      1.0270        1.0319   \n",
       "4 2000-01-07       1.0324       1.0330      1.0250        1.0289   \n",
       "\n",
       "   EURUSD_high-low  EURUSD_close-open  EURUSD_close-open_%  \\\n",
       "0           0.0232             0.0212             0.913793   \n",
       "1           0.0133             0.0068             0.511278   \n",
       "2           0.0122             0.0021             0.172131   \n",
       "3           0.0144            -0.0001            -0.006944   \n",
       "4           0.0080            -0.0035            -0.437500   \n",
       "\n",
       "   EURUSD_NegativeLine  EURUSD_PositiveLine  ...  deb10y_Close  ptd10y_Open  \\\n",
       "0               0.0002               0.0018  ...           NaN          NaN   \n",
       "1               0.0030               0.0035  ...           NaN          NaN   \n",
       "2               0.0013               0.0088  ...           NaN          NaN   \n",
       "3               0.0049               0.0094  ...           NaN          NaN   \n",
       "4               0.0039               0.0006  ...           NaN          NaN   \n",
       "\n",
       "   ptd10y_High  ptd10y_Low  ptd10y_Close  DE_US_10ySpread  GR_DE_10ySpread  \\\n",
       "0          NaN         NaN           NaN              NaN              NaN   \n",
       "1          NaN         NaN           NaN              NaN              NaN   \n",
       "2          NaN         NaN           NaN              NaN              NaN   \n",
       "3          NaN         NaN           NaN              NaN              NaN   \n",
       "4          NaN         NaN           NaN              NaN              NaN   \n",
       "\n",
       "   IT_DE_10ySpread  PT_DE_10ySpread  Maguro  \n",
       "0              NaN              NaN       1  \n",
       "1              NaN              NaN       0  \n",
       "2              NaN              NaN       0  \n",
       "3              NaN              NaN      -1  \n",
       "4              NaN              NaN       0  \n",
       "\n",
       "[5 rows x 111 columns]"
      ]
     },
     "execution_count": 5,
     "metadata": {},
     "output_type": "execute_result"
    }
   ],
   "source": [
    "df = pd.read_excel('../input/data_RF.xlsx')\n",
    "print(df.shape)\n",
    "df.head()"
   ]
  },
  {
   "cell_type": "markdown",
   "metadata": {},
   "source": [
    "## 欠損処理"
   ]
  },
  {
   "cell_type": "markdown",
   "metadata": {},
   "source": [
    "### 欠損率"
   ]
  },
  {
   "cell_type": "code",
   "execution_count": 6,
   "metadata": {
    "ExecuteTime": {
     "end_time": "2021-03-15T13:56:57.477399Z",
     "start_time": "2021-03-15T13:56:57.381503Z"
    }
   },
   "outputs": [
    {
     "data": {
      "text/html": [
       "<div>\n",
       "<style scoped>\n",
       "    .dataframe tbody tr th:only-of-type {\n",
       "        vertical-align: middle;\n",
       "    }\n",
       "\n",
       "    .dataframe tbody tr th {\n",
       "        vertical-align: top;\n",
       "    }\n",
       "\n",
       "    .dataframe thead th {\n",
       "        text-align: right;\n",
       "    }\n",
       "</style>\n",
       "<table border=\"1\" class=\"dataframe\">\n",
       "  <thead>\n",
       "    <tr style=\"text-align: right;\">\n",
       "      <th></th>\n",
       "      <th>欠損行数</th>\n",
       "      <th>欠損率</th>\n",
       "    </tr>\n",
       "  </thead>\n",
       "  <tbody>\n",
       "    <tr>\n",
       "      <th>PT_DE_10ySpread</th>\n",
       "      <td>1754</td>\n",
       "      <td>0.320658</td>\n",
       "    </tr>\n",
       "    <tr>\n",
       "      <th>ptd10y_Close</th>\n",
       "      <td>1744</td>\n",
       "      <td>0.318830</td>\n",
       "    </tr>\n",
       "    <tr>\n",
       "      <th>ptd10y_Low</th>\n",
       "      <td>1744</td>\n",
       "      <td>0.318830</td>\n",
       "    </tr>\n",
       "    <tr>\n",
       "      <th>ptd10y_High</th>\n",
       "      <td>1744</td>\n",
       "      <td>0.318830</td>\n",
       "    </tr>\n",
       "    <tr>\n",
       "      <th>ptd10y_Open</th>\n",
       "      <td>1744</td>\n",
       "      <td>0.318830</td>\n",
       "    </tr>\n",
       "    <tr>\n",
       "      <th>DE_US_10ySpread</th>\n",
       "      <td>1721</td>\n",
       "      <td>0.314625</td>\n",
       "    </tr>\n",
       "    <tr>\n",
       "      <th>GR_DE_10ySpread</th>\n",
       "      <td>1627</td>\n",
       "      <td>0.297441</td>\n",
       "    </tr>\n",
       "    <tr>\n",
       "      <th>grb10y_Low</th>\n",
       "      <td>1616</td>\n",
       "      <td>0.295430</td>\n",
       "    </tr>\n",
       "    <tr>\n",
       "      <th>grb10y_High</th>\n",
       "      <td>1616</td>\n",
       "      <td>0.295430</td>\n",
       "    </tr>\n",
       "    <tr>\n",
       "      <th>grb10y_Open</th>\n",
       "      <td>1616</td>\n",
       "      <td>0.295430</td>\n",
       "    </tr>\n",
       "    <tr>\n",
       "      <th>grb10y_Close</th>\n",
       "      <td>1616</td>\n",
       "      <td>0.295430</td>\n",
       "    </tr>\n",
       "    <tr>\n",
       "      <th>deb10y_Close</th>\n",
       "      <td>1591</td>\n",
       "      <td>0.290859</td>\n",
       "    </tr>\n",
       "    <tr>\n",
       "      <th>IT_DE_10ySpread</th>\n",
       "      <td>1591</td>\n",
       "      <td>0.290859</td>\n",
       "    </tr>\n",
       "    <tr>\n",
       "      <th>deb10y_Low</th>\n",
       "      <td>1591</td>\n",
       "      <td>0.290859</td>\n",
       "    </tr>\n",
       "    <tr>\n",
       "      <th>deb10y_High</th>\n",
       "      <td>1591</td>\n",
       "      <td>0.290859</td>\n",
       "    </tr>\n",
       "    <tr>\n",
       "      <th>deb10y_Open</th>\n",
       "      <td>1591</td>\n",
       "      <td>0.290859</td>\n",
       "    </tr>\n",
       "    <tr>\n",
       "      <th>itb10y_Close</th>\n",
       "      <td>1581</td>\n",
       "      <td>0.289031</td>\n",
       "    </tr>\n",
       "    <tr>\n",
       "      <th>itb10y_Low</th>\n",
       "      <td>1581</td>\n",
       "      <td>0.289031</td>\n",
       "    </tr>\n",
       "    <tr>\n",
       "      <th>itb10y_High</th>\n",
       "      <td>1581</td>\n",
       "      <td>0.289031</td>\n",
       "    </tr>\n",
       "    <tr>\n",
       "      <th>itb10y_Open</th>\n",
       "      <td>1581</td>\n",
       "      <td>0.289031</td>\n",
       "    </tr>\n",
       "    <tr>\n",
       "      <th>shanghai_High</th>\n",
       "      <td>378</td>\n",
       "      <td>0.069104</td>\n",
       "    </tr>\n",
       "    <tr>\n",
       "      <th>shanghai_Low</th>\n",
       "      <td>378</td>\n",
       "      <td>0.069104</td>\n",
       "    </tr>\n",
       "    <tr>\n",
       "      <th>shanghai_Open</th>\n",
       "      <td>378</td>\n",
       "      <td>0.069104</td>\n",
       "    </tr>\n",
       "    <tr>\n",
       "      <th>shanghai_Close</th>\n",
       "      <td>378</td>\n",
       "      <td>0.069104</td>\n",
       "    </tr>\n",
       "    <tr>\n",
       "      <th>nikkei_Low</th>\n",
       "      <td>318</td>\n",
       "      <td>0.058135</td>\n",
       "    </tr>\n",
       "    <tr>\n",
       "      <th>nikkei_Close</th>\n",
       "      <td>318</td>\n",
       "      <td>0.058135</td>\n",
       "    </tr>\n",
       "    <tr>\n",
       "      <th>nikkei_Open</th>\n",
       "      <td>318</td>\n",
       "      <td>0.058135</td>\n",
       "    </tr>\n",
       "    <tr>\n",
       "      <th>nikkei_High</th>\n",
       "      <td>318</td>\n",
       "      <td>0.058135</td>\n",
       "    </tr>\n",
       "    <tr>\n",
       "      <th>usb10y_Low</th>\n",
       "      <td>200</td>\n",
       "      <td>0.036563</td>\n",
       "    </tr>\n",
       "    <tr>\n",
       "      <th>usb10y_Open</th>\n",
       "      <td>200</td>\n",
       "      <td>0.036563</td>\n",
       "    </tr>\n",
       "  </tbody>\n",
       "</table>\n",
       "</div>"
      ],
      "text/plain": [
       "                 欠損行数       欠損率\n",
       "PT_DE_10ySpread  1754  0.320658\n",
       "ptd10y_Close     1744  0.318830\n",
       "ptd10y_Low       1744  0.318830\n",
       "ptd10y_High      1744  0.318830\n",
       "ptd10y_Open      1744  0.318830\n",
       "DE_US_10ySpread  1721  0.314625\n",
       "GR_DE_10ySpread  1627  0.297441\n",
       "grb10y_Low       1616  0.295430\n",
       "grb10y_High      1616  0.295430\n",
       "grb10y_Open      1616  0.295430\n",
       "grb10y_Close     1616  0.295430\n",
       "deb10y_Close     1591  0.290859\n",
       "IT_DE_10ySpread  1591  0.290859\n",
       "deb10y_Low       1591  0.290859\n",
       "deb10y_High      1591  0.290859\n",
       "deb10y_Open      1591  0.290859\n",
       "itb10y_Close     1581  0.289031\n",
       "itb10y_Low       1581  0.289031\n",
       "itb10y_High      1581  0.289031\n",
       "itb10y_Open      1581  0.289031\n",
       "shanghai_High     378  0.069104\n",
       "shanghai_Low      378  0.069104\n",
       "shanghai_Open     378  0.069104\n",
       "shanghai_Close    378  0.069104\n",
       "nikkei_Low        318  0.058135\n",
       "nikkei_Close      318  0.058135\n",
       "nikkei_Open       318  0.058135\n",
       "nikkei_High       318  0.058135\n",
       "usb10y_Low        200  0.036563\n",
       "usb10y_Open       200  0.036563"
      ]
     },
     "execution_count": 6,
     "metadata": {},
     "output_type": "execute_result"
    }
   ],
   "source": [
    "null_count = df.isnull().sum()\n",
    "null_rate = null_count / len(df)\n",
    "\n",
    "null_table = pd.DataFrame({\n",
    "    '欠損行数': null_count,\n",
    "    '欠損率': null_rate\n",
    "})\n",
    "\n",
    "null_table.sort_values(by='欠損率', ascending=False).head(30)"
   ]
  },
  {
   "cell_type": "markdown",
   "metadata": {},
   "source": [
    "### 欠損補完"
   ]
  },
  {
   "cell_type": "code",
   "execution_count": 7,
   "metadata": {
    "ExecuteTime": {
     "end_time": "2021-03-15T13:56:57.541360Z",
     "start_time": "2021-03-15T13:56:57.533361Z"
    }
   },
   "outputs": [],
   "source": [
    "# # とりあえず欠損行を全削除\n",
    "# df_drop = df.dropna(how=\"any\")\n",
    "# print(df_drop.shape)"
   ]
  },
  {
   "cell_type": "code",
   "execution_count": 8,
   "metadata": {
    "ExecuteTime": {
     "end_time": "2021-03-15T13:56:57.733235Z",
     "start_time": "2021-03-15T13:56:57.613311Z"
    }
   },
   "outputs": [
    {
     "name": "stdout",
     "output_type": "stream",
     "text": [
      "(3772, 111)\n"
     ]
    }
   ],
   "source": [
    "# NULLを過去の値で補完\n",
    "df_drop = df.interpolate(limit_direction='forward', axis=0).dropna(how=\"any\")\n",
    "print(df_drop.shape)"
   ]
  },
  {
   "cell_type": "markdown",
   "metadata": {},
   "source": [
    "## 特徴量作成/加工\n",
    "- テクニカル指標の追加\n",
    "- 変数ごとに有効そうな統計量作成\n",
    "- 過去の実績値の差分（1週間前との価格差分など）\n",
    "- 日付の加工（祝日・曜日など）"
   ]
  },
  {
   "cell_type": "markdown",
   "metadata": {},
   "source": [
    "### テクニカル指標"
   ]
  },
  {
   "cell_type": "code",
   "execution_count": 9,
   "metadata": {
    "ExecuteTime": {
     "end_time": "2021-03-15T13:56:57.893121Z",
     "start_time": "2021-03-15T13:56:57.845154Z"
    }
   },
   "outputs": [],
   "source": [
    "# テクニカル指標を計算\n",
    "def calc_technical_indicators(Date, high, low, close, prefix):\n",
    "    df_x = pd.DataFrame({'Date':Date})\n",
    "\n",
    "    # 単純移動平均\n",
    "    df_x['{}_sma5'.format(prefix)] = ta.SMA(close, timeperiod=5)\n",
    "    df_x['{}_sma25'.format(prefix)] = ta.SMA(close, timeperiod=25)\n",
    "    df_x['{}_sma50'.format(prefix)] = ta.SMA(close, timeperiod=50)\n",
    "    df_x['{}_sma200'.format(prefix)] = ta.SMA(close, timeperiod=200)\n",
    "\n",
    "    # 指数平滑化移動平均\n",
    "    df_x['{}_ema12'.format(prefix)] = ta.EMA(close, timeperiod=12)\n",
    "    df_x['{}_ema20'.format(prefix)] = ta.EMA(close, timeperiod=20)\n",
    "    df_x['{}_ema50'.format(prefix)] = ta.EMA(close, timeperiod=50)\n",
    "    df_x['{}_ema200'.format(prefix)] = ta.EMA(close, timeperiod=200)\n",
    "\n",
    "    # MACD (Moving Average Convergence/Divergence)\n",
    "    macd, macd_sig, macd_hist = ta.MACD(close, fastperiod=12, \n",
    "                                            slowperiod=26,\n",
    "                                            signalperiod=9)\n",
    "    df_x['{}_macd'.format(prefix)] = macd\n",
    "    df_x['{}_macd_sig'.format(prefix)] = macd_sig\n",
    "    df_x['{}_macd_hist'.format(prefix)] = macd_hist\n",
    "\n",
    "    # RSI (Relative Strength Index)\n",
    "    df_x['{}_rsi_long'.format(prefix)] = ta.RSI(close, timeperiod=14)\n",
    "    df_x['{}_rsi_short'.format(prefix)] = ta.RSI(close, timeperiod=7)\n",
    "\n",
    "    # WILLR (Williams' %R)\n",
    "    df_x['{}_willr'.format(prefix)] = ta.WILLR(high, low, close, timeperiod=14)\n",
    "\n",
    "    # Stochastic (STOCH)\n",
    "    slowk, slowd = ta.STOCH(high, low, close, fastk_period=5, slowk_period=3,\n",
    "                            slowk_matype=0, slowd_period=3, slowd_matype=0)\n",
    "\n",
    "    df_x['{}_slowk'.format(prefix)] = slowk\n",
    "    df_x['{}_slowd'.format(prefix)] = slowd\n",
    "\n",
    "    # Bolinger Bands (BBANDS)\n",
    "    u_band, m_band, l_band = ta.BBANDS(close, timeperiod=5,\n",
    "                                       nbdevup=2, nbdevdn=2, matype=0)\n",
    "\n",
    "    df_x['{}_u_band'.format(prefix)] = u_band\n",
    "    df_x['{}_m_band'.format(prefix)] = m_band\n",
    "    df_x['{}_l_band'.format(prefix)] = l_band\n",
    "\n",
    "    # ADX, DI+ and DI-\n",
    "    df_x['{}_adx'.format(prefix)] = ta.ADX(high, low, close,timeperiod=14)\n",
    "\n",
    "    df_x['{}_DI_plus'.format(prefix)] = ta.PLUS_DI(high, low, close, timeperiod=14)\n",
    "    df_x['{}_DI_minus'.format(prefix)] = ta.MINUS_DI(high, low, close, timeperiod=14)\n",
    "\n",
    "    return df_x"
   ]
  },
  {
   "cell_type": "code",
   "execution_count": 10,
   "metadata": {
    "ExecuteTime": {
     "end_time": "2021-03-15T13:56:58.116974Z",
     "start_time": "2021-03-15T13:56:58.005047Z"
    }
   },
   "outputs": [
    {
     "name": "stdout",
     "output_type": "stream",
     "text": [
      "(3573, 133)\n"
     ]
    }
   ],
   "source": [
    "# テクニカル指標の計算対象\n",
    "Date = np.array(df_drop['Date']) \n",
    "high = np.array(df_drop['eurusd_High'])\n",
    "low = np.array(df_drop['eurusd_Low'])\n",
    "close = np.array(df_drop['eurusd_Close']) \n",
    "prefix = 'eurusd'\n",
    "\n",
    "# テクニカル指標追加\n",
    "df_technical_indicators = calc_technical_indicators(Date, high, low, close, prefix)\n",
    "df_drop_add = pd.merge(df_drop\n",
    "            ,df_technical_indicators\n",
    "            ,on='Date'\n",
    "            ,how='left').dropna(how=\"any\")\n",
    "print(df_drop_add.shape)"
   ]
  },
  {
   "cell_type": "code",
   "execution_count": null,
   "metadata": {
    "ExecuteTime": {
     "end_time": "2021-03-05T13:50:42.818720Z",
     "start_time": "2021-03-05T13:50:42.798775Z"
    }
   },
   "outputs": [],
   "source": []
  },
  {
   "cell_type": "markdown",
   "metadata": {
    "ExecuteTime": {
     "end_time": "2021-02-23T16:06:29.482931Z",
     "start_time": "2021-02-23T16:06:29.478942Z"
    }
   },
   "source": [
    "###  日付の加工"
   ]
  },
  {
   "cell_type": "code",
   "execution_count": 11,
   "metadata": {
    "ExecuteTime": {
     "end_time": "2021-03-15T13:56:58.393418Z",
     "start_time": "2021-03-15T13:56:58.297483Z"
    }
   },
   "outputs": [],
   "source": [
    "# 日付の年月、曜日（月曜が0, 日曜が6）情報の抽出\n",
    "# ダミー変数へ変換\n",
    "df_drop_add =df_drop_add.assign(\n",
    "#             year=df_drop['Date'].dt.year\n",
    "            month=df_drop['Date'].dt.month\n",
    "            ,weekday=df_drop['Date'].dt.dayofweek\n",
    "            ).pipe(lambda df: pd.get_dummies(df, columns=['month','weekday']))"
   ]
  },
  {
   "cell_type": "markdown",
   "metadata": {},
   "source": [
    "### 正規化/標準化\n",
    "非線形のランダムフォレストで正規化とかする必要ある？"
   ]
  },
  {
   "cell_type": "code",
   "execution_count": null,
   "metadata": {
    "ExecuteTime": {
     "end_time": "2021-02-24T11:53:48.998438Z",
     "start_time": "2021-02-24T11:53:48.989464Z"
    }
   },
   "outputs": [],
   "source": []
  },
  {
   "cell_type": "markdown",
   "metadata": {},
   "source": [
    "### 特徴量の選定\n",
    "モデルに使う特徴量を決める"
   ]
  },
  {
   "cell_type": "code",
   "execution_count": null,
   "metadata": {
    "ExecuteTime": {
     "end_time": "2021-02-25T03:11:54.419533Z",
     "start_time": "2021-02-25T03:11:54.413549Z"
    }
   },
   "outputs": [],
   "source": []
  },
  {
   "cell_type": "markdown",
   "metadata": {},
   "source": [
    "## バリデーション\n",
    "時系列データでランダム分割する場合、翌日のデータがtrainに混ざることもあり過学習しやすいため、時系列の並びを維持したままバリデーションする"
   ]
  },
  {
   "cell_type": "code",
   "execution_count": 12,
   "metadata": {
    "ExecuteTime": {
     "end_time": "2021-03-15T13:56:58.561309Z",
     "start_time": "2021-03-15T13:56:58.521350Z"
    }
   },
   "outputs": [],
   "source": [
    "# df_drop_add = df_drop_add[df_drop_add['Date'] > dt.datetime(2015,5,1)]\n",
    "# train,testを分割\n",
    "X_train, X_test, Y_train, Y_test = train_test_split(df_drop_add.drop('Maguro', axis=1), df_drop_add[\"Maguro\"]\n",
    "                                                    ,shuffle=False\n",
    "                                                    ,train_size=0.6)"
   ]
  },
  {
   "cell_type": "markdown",
   "metadata": {},
   "source": [
    "### trainとtestの範囲可視化"
   ]
  },
  {
   "cell_type": "code",
   "execution_count": 13,
   "metadata": {
    "ExecuteTime": {
     "end_time": "2021-03-15T13:56:59.408746Z",
     "start_time": "2021-03-15T13:56:58.737193Z"
    }
   },
   "outputs": [
    {
     "data": {
      "image/png": "[encoded data removed]",
      "text/plain": [
       "<Figure size 1152x288 with 1 Axes>"
      ]
     },
     "metadata": {
      "needs_background": "light"
     },
     "output_type": "display_data"
    }
   ],
   "source": [
    "fig, ax = plt.subplots(figsize=(16, 4))\n",
    "ax.plot(X_train['Date'], X_train['eurusd_Open'], label='train')\n",
    "ax.plot(X_test['Date'], X_test['eurusd_Open'], label='test')\n",
    "ax.legend(fontsize=12)\n",
    "ax.set_title('train_test_split', fontsize=14)\n",
    "# ax.xaxis.set_major_locator(mdates.MonthLocator(interval=12))\n",
    "# ax.xaxis.set_major_formatter(mdates.DateFormatter('%y/%m'))\n",
    "ax.xaxis.set_tick_params(rotation=45)"
   ]
  },
  {
   "cell_type": "markdown",
   "metadata": {},
   "source": [
    "##  モデル作成"
   ]
  },
  {
   "cell_type": "code",
   "execution_count": 14,
   "metadata": {
    "ExecuteTime": {
     "end_time": "2021-03-15T13:56:59.640590Z",
     "start_time": "2021-03-15T13:56:59.616623Z"
    }
   },
   "outputs": [],
   "source": [
    "# Date削除\n",
    "X_train.drop('Date', axis=1, inplace=True)\n",
    "X_test.drop('Date', axis=1, inplace=True)"
   ]
  },
  {
   "cell_type": "markdown",
   "metadata": {},
   "source": [
    "### デフォルトのパラメータのモデル（ベースライン）"
   ]
  },
  {
   "cell_type": "code",
   "execution_count": 37,
   "metadata": {
    "ExecuteTime": {
     "end_time": "2021-03-04T10:09:51.068948Z",
     "start_time": "2021-03-04T10:09:49.598878Z"
    }
   },
   "outputs": [
    {
     "name": "stdout",
     "output_type": "stream",
     "text": [
      "Accuracy: 0.32517482517482516\n",
      "maguro検出数: 228\n",
      "Big Win/Big Loss Ratio: 1.0555555555555556\n"
     ]
    }
   ],
   "source": [
    "seed = 17\n",
    "model = RandomForestClassifier(random_state=seed)\n",
    "model.fit(X_train, Y_train)\n",
    "pred = model.predict(X_test)\n",
    "print('Accuracy: {}'.format(accuracy_score(Y_test, pred)))\n",
    "a, b, c, d, e, f, g, h, i = confusion_matrix(Y_test, pred).ravel()\n",
    "maguro = a+i\n",
    "print('maguro検出数: {}'.format(maguro))\n",
    "print('Big Win/Big Loss Ratio: {}'.format(win_loss(Y_test, pred)))"
   ]
  },
  {
   "cell_type": "markdown",
   "metadata": {},
   "source": [
    "### optunaを使ったパラメーターチューニング"
   ]
  },
  {
   "cell_type": "code",
   "execution_count": 38,
   "metadata": {
    "ExecuteTime": {
     "end_time": "2021-03-04T10:10:38.919235Z",
     "start_time": "2021-03-04T10:09:51.200595Z"
    }
   },
   "outputs": [
    {
     "name": "stderr",
     "output_type": "stream",
     "text": [
      "\u001b[32m[I 2021-03-04 19:09:51,204]\u001b[0m A new study created in memory with name: no-name-f3fe6d3a-c501-45e8-bafb-3dbf0305d022\u001b[0m\n",
      "[Parallel(n_jobs=-1)]: Using backend ThreadingBackend with 8 concurrent workers.\n",
      "[Parallel(n_jobs=-1)]: Using backend ThreadingBackend with 8 concurrent workers.\n",
      "[Parallel(n_jobs=-1)]: Using backend ThreadingBackend with 8 concurrent workers.\n",
      "[Parallel(n_jobs=-1)]: Using backend ThreadingBackend with 8 concurrent workers.\n",
      "[Parallel(n_jobs=-1)]: Using backend ThreadingBackend with 8 concurrent workers.\n",
      "[Parallel(n_jobs=-1)]: Using backend ThreadingBackend with 8 concurrent workers.\n",
      "[Parallel(n_jobs=-1)]: Using backend ThreadingBackend with 8 concurrent workers.\n",
      "[Parallel(n_jobs=-1)]: Using backend ThreadingBackend with 8 concurrent workers.\n",
      "[Parallel(n_jobs=-1)]: Done  56 tasks      | elapsed:    0.9s\n",
      "[Parallel(n_jobs=-1)]: Done  56 tasks      | elapsed:    0.6s\n",
      "[Parallel(n_jobs=-1)]: Done  56 tasks      | elapsed:    0.6s\n",
      "[Parallel(n_jobs=-1)]: Done  56 tasks      | elapsed:    1.1s\n",
      "[Parallel(n_jobs=-1)]: Done  56 tasks      | elapsed:    0.7s\n",
      "[Parallel(n_jobs=-1)]: Done  56 tasks      | elapsed:    1.2s\n",
      "[Parallel(n_jobs=-1)]: Done  56 tasks      | elapsed:    1.1s\n",
      "[Parallel(n_jobs=-1)]: Done  56 tasks      | elapsed:    0.8s\n",
      "[Parallel(n_jobs=-1)]: Done 272 tasks      | elapsed:    3.4s\n",
      "[Parallel(n_jobs=-1)]: Done 272 tasks      | elapsed:    3.2s\n",
      "[Parallel(n_jobs=-1)]: Done 272 tasks      | elapsed:    3.3s\n",
      "[Parallel(n_jobs=-1)]: Done 272 tasks      | elapsed:    4.1s\n",
      "[Parallel(n_jobs=-1)]: Done 272 tasks      | elapsed:    3.9s\n",
      "[Parallel(n_jobs=-1)]: Done 272 tasks      | elapsed:    4.9s\n",
      "[Parallel(n_jobs=-1)]: Done 272 tasks      | elapsed:    5.2s\n",
      "[Parallel(n_jobs=-1)]: Done 272 tasks      | elapsed:    4.8s\n",
      "[Parallel(n_jobs=-1)]: Done 632 tasks      | elapsed:    8.5s\n",
      "[Parallel(n_jobs=-1)]: Done 632 tasks      | elapsed:    8.4s\n",
      "[Parallel(n_jobs=-1)]: Done 632 tasks      | elapsed:    8.3s\n",
      "[Parallel(n_jobs=-1)]: Done 632 tasks      | elapsed:    9.9s\n",
      "[Parallel(n_jobs=-1)]: Done 632 tasks      | elapsed:   10.1s\n",
      "[Parallel(n_jobs=-1)]: Done 632 tasks      | elapsed:   11.8s\n",
      "[Parallel(n_jobs=-1)]: Done 632 tasks      | elapsed:   12.4s\n",
      "[Parallel(n_jobs=-1)]: Done 632 tasks      | elapsed:   12.1s\n",
      "[Parallel(n_jobs=-1)]: Done 1000 out of 1000 | elapsed:   13.8s finished\n",
      "[Parallel(n_jobs=-1)]: Done 1000 out of 1000 | elapsed:   13.4s finished\n",
      "[Parallel(n_jobs=8)]: Using backend ThreadingBackend with 8 concurrent workers.\n",
      "[Parallel(n_jobs=-1)]: Done 1000 out of 1000 | elapsed:   13.5s finished\n",
      "[Parallel(n_jobs=8)]: Using backend ThreadingBackend with 8 concurrent workers.\n",
      "[Parallel(n_jobs=8)]: Using backend ThreadingBackend with 8 concurrent workers.\n",
      "[Parallel(n_jobs=8)]: Done  56 tasks      | elapsed:    0.4s\n",
      "[Parallel(n_jobs=8)]: Done  56 tasks      | elapsed:    0.4s\n",
      "[Parallel(n_jobs=8)]: Done  56 tasks      | elapsed:    0.4s\n",
      "[Parallel(n_jobs=-1)]: Done 1000 out of 1000 | elapsed:   15.3s finished\n",
      "[Parallel(n_jobs=8)]: Using backend ThreadingBackend with 8 concurrent workers.\n",
      "[Parallel(n_jobs=8)]: Done  56 tasks      | elapsed:    0.3s\n",
      "[Parallel(n_jobs=8)]: Done 272 tasks      | elapsed:    1.8s\n",
      "[Parallel(n_jobs=-1)]: Done 1000 out of 1000 | elapsed:   15.4s finished\n",
      "[Parallel(n_jobs=8)]: Done 272 tasks      | elapsed:    1.8s\n",
      "[Parallel(n_jobs=8)]: Done 272 tasks      | elapsed:    1.8s\n",
      "[Parallel(n_jobs=8)]: Using backend ThreadingBackend with 8 concurrent workers.\n",
      "[Parallel(n_jobs=8)]: Done  56 tasks      | elapsed:    0.2s\n",
      "[Parallel(n_jobs=8)]: Done 272 tasks      | elapsed:    1.3s\n",
      "[Parallel(n_jobs=-1)]: Done 1000 out of 1000 | elapsed:   16.8s finished\n",
      "[Parallel(n_jobs=8)]: Using backend ThreadingBackend with 8 concurrent workers.\n",
      "[Parallel(n_jobs=-1)]: Done 1000 out of 1000 | elapsed:   17.2s finished\n",
      "[Parallel(n_jobs=8)]: Done 272 tasks      | elapsed:    1.1s\n",
      "[Parallel(n_jobs=8)]: Using backend ThreadingBackend with 8 concurrent workers.\n",
      "[Parallel(n_jobs=8)]: Done 632 tasks      | elapsed:    3.2s\n",
      "[Parallel(n_jobs=8)]: Done  56 tasks      | elapsed:    0.1s\n",
      "[Parallel(n_jobs=-1)]: Done 1000 out of 1000 | elapsed:   16.9s finished\n",
      "[Parallel(n_jobs=8)]: Done 632 tasks      | elapsed:    3.3s\n",
      "[Parallel(n_jobs=8)]: Done  56 tasks      | elapsed:    0.1s\n",
      "[Parallel(n_jobs=8)]: Done 632 tasks      | elapsed:    3.3s\n",
      "[Parallel(n_jobs=8)]: Using backend ThreadingBackend with 8 concurrent workers.\n",
      "[Parallel(n_jobs=8)]: Done  56 tasks      | elapsed:    0.1s\n",
      "[Parallel(n_jobs=8)]: Done 632 tasks      | elapsed:    2.3s\n",
      "[Parallel(n_jobs=8)]: Done 272 tasks      | elapsed:    0.6s\n",
      "[Parallel(n_jobs=8)]: Done 272 tasks      | elapsed:    0.6s\n",
      "[Parallel(n_jobs=8)]: Done 632 tasks      | elapsed:    1.9s\n",
      "[Parallel(n_jobs=8)]: Done 1000 out of 1000 | elapsed:    4.1s finished\n",
      "[Parallel(n_jobs=8)]: Done 272 tasks      | elapsed:    0.6s\n",
      "\u001b[32m[I 2021-03-04 19:10:12,421]\u001b[0m Trial 7 finished with value: 1.4021739130434783 and parameters: {'max_depth': 3, 'max_features': 'auto', 'min_samples_split': 3, 'min_samples_leaf': 1}. Best is trial 7 with value: 1.4021739130434783.\u001b[0m\n",
      "[Parallel(n_jobs=-1)]: Using backend ThreadingBackend with 8 concurrent workers.\n",
      "[Parallel(n_jobs=8)]: Done 1000 out of 1000 | elapsed:    4.6s finished\n",
      "[Parallel(n_jobs=8)]: Done 1000 out of 1000 | elapsed:    4.7s finished\n",
      "\u001b[32m[I 2021-03-04 19:10:13,032]\u001b[0m Trial 0 finished with value: 1.0 and parameters: {'max_depth': 3, 'max_features': 'log2', 'min_samples_split': 5, 'min_samples_leaf': 4}. Best is trial 7 with value: 1.4021739130434783.\u001b[0m\n",
      "\u001b[32m[I 2021-03-04 19:10:13,172]\u001b[0m Trial 1 finished with value: 1.4155844155844157 and parameters: {'max_depth': 3, 'max_features': 'sqrt', 'min_samples_split': 3, 'min_samples_leaf': 6}. Best is trial 1 with value: 1.4155844155844157.\u001b[0m\n",
      "[Parallel(n_jobs=-1)]: Using backend ThreadingBackend with 8 concurrent workers.\n",
      "[Parallel(n_jobs=-1)]: Using backend ThreadingBackend with 8 concurrent workers.\n",
      "[Parallel(n_jobs=8)]: Done 632 tasks      | elapsed:    2.7s\n",
      "[Parallel(n_jobs=8)]: Done 1000 out of 1000 | elapsed:    4.4s finished\n",
      "\u001b[32m[I 2021-03-04 19:10:14,193]\u001b[0m Trial 3 finished with value: 1.314516129032258 and parameters: {'max_depth': 4, 'max_features': 'sqrt', 'min_samples_split': 4, 'min_samples_leaf': 2}. Best is trial 1 with value: 1.4155844155844157.\u001b[0m\n",
      "[Parallel(n_jobs=-1)]: Done  56 tasks      | elapsed:    1.2s\n",
      "[Parallel(n_jobs=-1)]: Using backend ThreadingBackend with 8 concurrent workers.\n",
      "[Parallel(n_jobs=-1)]: Done  56 tasks      | elapsed:    0.9s\n",
      "[Parallel(n_jobs=-1)]: Done  56 tasks      | elapsed:    1.5s\n",
      "[Parallel(n_jobs=8)]: Done 632 tasks      | elapsed:    3.6s\n",
      "[Parallel(n_jobs=8)]: Done 1000 out of 1000 | elapsed:    4.9s finished\n",
      "\u001b[32m[I 2021-03-04 19:10:15,210]\u001b[0m Trial 4 finished with value: 1.1783439490445862 and parameters: {'max_depth': 5, 'max_features': 'log2', 'min_samples_split': 5, 'min_samples_leaf': 1}. Best is trial 1 with value: 1.4155844155844157.\u001b[0m\n",
      "[Parallel(n_jobs=-1)]: Using backend ThreadingBackend with 8 concurrent workers.\n",
      "[Parallel(n_jobs=-1)]: Done  56 tasks      | elapsed:    1.1s\n",
      "[Parallel(n_jobs=8)]: Done 632 tasks      | elapsed:    4.3s\n",
      "[Parallel(n_jobs=-1)]: Done  56 tasks      | elapsed:    0.8s\n",
      "[Parallel(n_jobs=8)]: Done 1000 out of 1000 | elapsed:    6.0s finished\n",
      "\u001b[32m[I 2021-03-04 19:10:17,518]\u001b[0m Trial 2 finished with value: 1.25625 and parameters: {'max_depth': 6, 'max_features': 'auto', 'min_samples_split': 2, 'min_samples_leaf': 6}. Best is trial 1 with value: 1.4155844155844157.\u001b[0m\n",
      "[Parallel(n_jobs=-1)]: Done 272 tasks      | elapsed:    4.5s\n",
      "[Parallel(n_jobs=-1)]: Done 272 tasks      | elapsed:    3.9s\n",
      "[Parallel(n_jobs=-1)]: Using backend ThreadingBackend with 8 concurrent workers.\n",
      "[Parallel(n_jobs=8)]: Done 1000 out of 1000 | elapsed:    7.2s finished\n",
      "\u001b[32m[I 2021-03-04 19:10:18,922]\u001b[0m Trial 6 finished with value: 1.2198952879581153 and parameters: {'max_depth': 9, 'max_features': 'log2', 'min_samples_split': 2, 'min_samples_leaf': 8}. Best is trial 1 with value: 1.4155844155844157.\u001b[0m\n",
      "[Parallel(n_jobs=-1)]: Done  56 tasks      | elapsed:    1.0s\n",
      "[Parallel(n_jobs=-1)]: Done 272 tasks      | elapsed:    5.7s\n",
      "[Parallel(n_jobs=8)]: Done 1000 out of 1000 | elapsed:    7.7s finished\n"
     ]
    },
    {
     "name": "stderr",
     "output_type": "stream",
     "text": [
      "\u001b[32m[I 2021-03-04 19:10:19,554]\u001b[0m Trial 5 finished with value: 1.198924731182796 and parameters: {'max_depth': 10, 'max_features': 'log2', 'min_samples_split': 4, 'min_samples_leaf': 9}. Best is trial 1 with value: 1.4155844155844157.\u001b[0m\n",
      "[Parallel(n_jobs=-1)]: Using backend ThreadingBackend with 8 concurrent workers.\n",
      "[Parallel(n_jobs=-1)]: Using backend ThreadingBackend with 8 concurrent workers.\n",
      "[Parallel(n_jobs=-1)]: Done 272 tasks      | elapsed:    5.8s\n",
      "[Parallel(n_jobs=-1)]: Done  56 tasks      | elapsed:    1.6s\n",
      "[Parallel(n_jobs=-1)]: Done  56 tasks      | elapsed:    1.2s\n",
      "[Parallel(n_jobs=-1)]: Done 272 tasks      | elapsed:    6.0s\n",
      "[Parallel(n_jobs=-1)]: Done 272 tasks      | elapsed:    5.7s\n",
      "[Parallel(n_jobs=-1)]: Done 632 tasks      | elapsed:   10.2s\n",
      "[Parallel(n_jobs=-1)]: Done 632 tasks      | elapsed:   11.4s\n",
      "[Parallel(n_jobs=-1)]: Done 272 tasks      | elapsed:    5.9s\n",
      "[Parallel(n_jobs=-1)]: Done 272 tasks      | elapsed:    5.7s\n",
      "[Parallel(n_jobs=-1)]: Done 632 tasks      | elapsed:   14.2s\n",
      "[Parallel(n_jobs=-1)]: Done 632 tasks      | elapsed:   13.4s\n",
      "[Parallel(n_jobs=-1)]: Done 632 tasks      | elapsed:   14.1s\n",
      "[Parallel(n_jobs=-1)]: Done 1000 out of 1000 | elapsed:   16.5s finished\n",
      "[Parallel(n_jobs=8)]: Using backend ThreadingBackend with 8 concurrent workers.\n",
      "[Parallel(n_jobs=-1)]: Done 1000 out of 1000 | elapsed:   17.9s finished\n",
      "[Parallel(n_jobs=-1)]: Done 632 tasks      | elapsed:   12.8s\n",
      "[Parallel(n_jobs=8)]: Using backend ThreadingBackend with 8 concurrent workers.\n",
      "[Parallel(n_jobs=8)]: Done  56 tasks      | elapsed:    0.6s\n",
      "[Parallel(n_jobs=8)]: Done  56 tasks      | elapsed:    0.5s\n",
      "[Parallel(n_jobs=-1)]: Done 632 tasks      | elapsed:   12.6s\n",
      "[Parallel(n_jobs=-1)]: Done 632 tasks      | elapsed:   12.5s\n",
      "[Parallel(n_jobs=8)]: Done 272 tasks      | elapsed:    2.2s\n",
      "[Parallel(n_jobs=8)]: Done 272 tasks      | elapsed:    2.7s\n",
      "[Parallel(n_jobs=-1)]: Done 1000 out of 1000 | elapsed:   21.3s finished\n",
      "[Parallel(n_jobs=-1)]: Done 1000 out of 1000 | elapsed:   20.1s finished\n",
      "[Parallel(n_jobs=8)]: Using backend ThreadingBackend with 8 concurrent workers.\n",
      "[Parallel(n_jobs=8)]: Using backend ThreadingBackend with 8 concurrent workers.\n",
      "[Parallel(n_jobs=8)]: Done  56 tasks      | elapsed:    0.4s\n",
      "[Parallel(n_jobs=8)]: Done  56 tasks      | elapsed:    0.4s\n",
      "[Parallel(n_jobs=8)]: Done 632 tasks      | elapsed:    4.9s\n",
      "[Parallel(n_jobs=-1)]: Done 1000 out of 1000 | elapsed:   20.1s finished\n",
      "[Parallel(n_jobs=8)]: Using backend ThreadingBackend with 8 concurrent workers.\n",
      "[Parallel(n_jobs=8)]: Done 632 tasks      | elapsed:    5.3s\n",
      "[Parallel(n_jobs=-1)]: Done 1000 out of 1000 | elapsed:   18.0s finished\n",
      "[Parallel(n_jobs=8)]: Using backend ThreadingBackend with 8 concurrent workers.\n",
      "[Parallel(n_jobs=8)]: Done  56 tasks      | elapsed:    0.2s\n",
      "[Parallel(n_jobs=8)]: Done 272 tasks      | elapsed:    1.4s\n",
      "[Parallel(n_jobs=8)]: Done  56 tasks      | elapsed:    0.2s\n",
      "[Parallel(n_jobs=8)]: Done 272 tasks      | elapsed:    1.4s\n",
      "[Parallel(n_jobs=-1)]: Done 1000 out of 1000 | elapsed:   17.1s finished\n",
      "[Parallel(n_jobs=8)]: Using backend ThreadingBackend with 8 concurrent workers.\n",
      "[Parallel(n_jobs=8)]: Done 272 tasks      | elapsed:    0.9s\n",
      "[Parallel(n_jobs=8)]: Done  56 tasks      | elapsed:    0.1s\n",
      "[Parallel(n_jobs=8)]: Done 272 tasks      | elapsed:    0.9s\n",
      "[Parallel(n_jobs=8)]: Done 1000 out of 1000 | elapsed:    6.2s finished\n",
      "[Parallel(n_jobs=-1)]: Done 1000 out of 1000 | elapsed:   16.9s finished\n",
      "[Parallel(n_jobs=8)]: Done 1000 out of 1000 | elapsed:    6.6s finished\n",
      "\u001b[32m[I 2021-03-04 19:10:37,453]\u001b[0m Trial 8 finished with value: 1.2013422818791946 and parameters: {'max_depth': 4, 'max_features': 'sqrt', 'min_samples_split': 5, 'min_samples_leaf': 1}. Best is trial 1 with value: 1.4155844155844157.\u001b[0m\n",
      "[Parallel(n_jobs=8)]: Using backend ThreadingBackend with 8 concurrent workers.\n",
      "\u001b[32m[I 2021-03-04 19:10:37,498]\u001b[0m Trial 10 finished with value: 1.2352941176470589 and parameters: {'max_depth': 4, 'max_features': 'log2', 'min_samples_split': 2, 'min_samples_leaf': 2}. Best is trial 1 with value: 1.4155844155844157.\u001b[0m\n",
      "[Parallel(n_jobs=8)]: Done 632 tasks      | elapsed:    2.4s\n",
      "[Parallel(n_jobs=8)]: Done  56 tasks      | elapsed:    0.0s\n",
      "[Parallel(n_jobs=8)]: Done 632 tasks      | elapsed:    2.5s\n",
      "[Parallel(n_jobs=8)]: Done 272 tasks      | elapsed:    0.6s\n",
      "[Parallel(n_jobs=8)]: Done 632 tasks      | elapsed:    1.7s\n",
      "[Parallel(n_jobs=8)]: Done 272 tasks      | elapsed:    0.4s\n",
      "[Parallel(n_jobs=8)]: Done 632 tasks      | elapsed:    1.7s\n",
      "[Parallel(n_jobs=8)]: Done 1000 out of 1000 | elapsed:    3.2s finished\n",
      "\u001b[32m[I 2021-03-04 19:10:38,366]\u001b[0m Trial 9 finished with value: 1.3206521739130432 and parameters: {'max_depth': 8, 'max_features': 'sqrt', 'min_samples_split': 4, 'min_samples_leaf': 10}. Best is trial 1 with value: 1.4155844155844157.\u001b[0m\n",
      "[Parallel(n_jobs=8)]: Done 632 tasks      | elapsed:    1.3s\n",
      "[Parallel(n_jobs=8)]: Done 1000 out of 1000 | elapsed:    3.2s finished\n",
      "\u001b[32m[I 2021-03-04 19:10:38,524]\u001b[0m Trial 11 finished with value: 1.2571428571428571 and parameters: {'max_depth': 8, 'max_features': 'log2', 'min_samples_split': 2, 'min_samples_leaf': 5}. Best is trial 1 with value: 1.4155844155844157.\u001b[0m\n",
      "[Parallel(n_jobs=8)]: Done 1000 out of 1000 | elapsed:    2.4s finished\n",
      "[Parallel(n_jobs=8)]: Done 632 tasks      | elapsed:    1.0s\n",
      "\u001b[32m[I 2021-03-04 19:10:38,597]\u001b[0m Trial 12 finished with value: 1.2857142857142858 and parameters: {'max_depth': 10, 'max_features': 'log2', 'min_samples_split': 3, 'min_samples_leaf': 8}. Best is trial 1 with value: 1.4155844155844157.\u001b[0m\n",
      "[Parallel(n_jobs=8)]: Done 1000 out of 1000 | elapsed:    2.2s finished\n",
      "\u001b[32m[I 2021-03-04 19:10:38,654]\u001b[0m Trial 13 finished with value: 1.255952380952381 and parameters: {'max_depth': 5, 'max_features': 'auto', 'min_samples_split': 5, 'min_samples_leaf': 10}. Best is trial 1 with value: 1.4155844155844157.\u001b[0m\n",
      "[Parallel(n_jobs=8)]: Done 1000 out of 1000 | elapsed:    1.6s finished\n",
      "[Parallel(n_jobs=8)]: Done 1000 out of 1000 | elapsed:    1.2s finished\n",
      "\u001b[32m[I 2021-03-04 19:10:38,807]\u001b[0m Trial 14 finished with value: 1.146341463414634 and parameters: {'max_depth': 6, 'max_features': 'log2', 'min_samples_split': 2, 'min_samples_leaf': 9}. Best is trial 1 with value: 1.4155844155844157.\u001b[0m\n",
      "\u001b[32m[I 2021-03-04 19:10:38,854]\u001b[0m Trial 15 finished with value: 1.1878172588832487 and parameters: {'max_depth': 6, 'max_features': 'sqrt', 'min_samples_split': 4, 'min_samples_leaf': 10}. Best is trial 1 with value: 1.4155844155844157.\u001b[0m\n"
     ]
    },
    {
     "name": "stdout",
     "output_type": "stream",
     "text": [
      "ベストパラメータ: {'max_depth': 3, 'max_features': 'sqrt', 'min_samples_split': 3, 'min_samples_leaf': 6}\n",
      "Big Win/Big Loss Ratio: 1.4155844155844157\n"
     ]
    }
   ],
   "source": [
    "def objective(trial):\n",
    "    '''\n",
    "    trial:set of hyperparameter    \n",
    "    '''\n",
    "\n",
    "    # hypyer param（いろいろ試す）\n",
    "    max_depth = trial.suggest_int('max_depth', 3, 10) \n",
    "    max_features = trial.suggest_categorical('max_features', ['sqrt', 'auto', 'log2'])\n",
    "    min_samples_split = trial.suggest_int('min_samples_split',2,5)\n",
    "    min_samples_leaf = trial.suggest_int('min_samples_leaf',1,10)\n",
    "#     bootstrap = trial.suggest_categorical('bootstrap',['True','False'])\n",
    "#     max_leaf_nodes = trial.suggest_int('max_leaf_nodes', 1,1000)\n",
    "\n",
    "    # model\n",
    "    model = RandomForestClassifier(max_depth=max_depth,\n",
    "                                  n_estimators=1000,\n",
    "                                  max_features=max_features,\n",
    "                                  min_samples_split=min_samples_split,\n",
    "                                  min_samples_leaf=min_samples_leaf,\n",
    "                                  n_jobs=-1,\n",
    "                                  verbose=-1 #学習情報を非表示\n",
    "                                  )\n",
    "\n",
    "    # fit\n",
    "    model.fit(X_train, Y_train)\n",
    "\n",
    "    # eva\n",
    "    pred = model.predict(X_test)\n",
    "    # score = accuracy_score(Y_test, pred) \n",
    "\n",
    "#     マグロを検出した件数が最も多いパラメータを評価\n",
    "#     a, b, c, d, e, f, g, h, i = confusion_matrix(Y_test, pred).ravel()\n",
    "#     maguro = a+i\n",
    "#     return maguro\n",
    "\n",
    "    # Big Win/Big Loss Ratioが最も大きいパラメータを評価\n",
    "    win_loss_ratio = win_loss(Y_test, pred)\n",
    "    return win_loss_ratio\n",
    "\n",
    "# パラメーターチューニングを実行\n",
    "study = optuna.create_study(sampler=optuna.samplers.TPESampler(seed=17)\n",
    "                            ,direction='maximize')\n",
    "\n",
    "study.optimize(func=objective # 実行する関数\n",
    "               ,n_trials=30 # 試行回数\n",
    "               ,timeout=30 # 与えられた秒数後に学習を中止 default=None\n",
    "               ,n_jobs=-1 # 並列実行するjob数\n",
    "               \n",
    "              )\n",
    "\n",
    "print('ベストパラメータ: {}'.format(study.best_params))\n",
    "# print('maguro検出数: {}'.format(study.best_value))\n",
    "print('Big Win/Big Loss Ratio: {}'.format(study.best_value))\n",
    "\n",
    "best_param = study.best_params"
   ]
  },
  {
   "cell_type": "code",
   "execution_count": 39,
   "metadata": {
    "ExecuteTime": {
     "end_time": "2021-03-04T10:10:39.808104Z",
     "start_time": "2021-03-04T10:10:39.080438Z"
    }
   },
   "outputs": [
    {
     "name": "stdout",
     "output_type": "stream",
     "text": [
      "Accuracy: 0.4461538461538462\n",
      "maguro検出数: 133\n",
      "Big Win/Big Loss Ratio: 1.3711340206185567\n"
     ]
    }
   ],
   "source": [
    "# ベストパラメータにてモデル作成\n",
    "seed = 17\n",
    "model = RandomForestClassifier(**best_param, random_state=seed)\n",
    "model.fit(X_train, Y_train)\n",
    "pred = model.predict(X_test)\n",
    "\n",
    "print('Accuracy: {}'.format(accuracy_score(Y_test, pred)))\n",
    "a, b, c, d, e, f, g, h, i = confusion_matrix(Y_test, pred).ravel()\n",
    "maguro = a+i\n",
    "print('maguro検出数: {}'.format(maguro))\n",
    "print('Big Win/Big Loss Ratio: {}'.format(win_loss(Y_test, pred)))"
   ]
  },
  {
   "cell_type": "code",
   "execution_count": 40,
   "metadata": {
    "ExecuteTime": {
     "end_time": "2021-03-04T10:10:39.979649Z",
     "start_time": "2021-03-04T10:10:39.965683Z"
    }
   },
   "outputs": [],
   "source": [
    "# モデル保存\n",
    "pd.to_pickle(model, '../output/rf.pkl')"
   ]
  },
  {
   "cell_type": "markdown",
   "metadata": {},
   "source": [
    "## 精度評価"
   ]
  },
  {
   "cell_type": "markdown",
   "metadata": {},
   "source": [
    "### 混同行列"
   ]
  },
  {
   "cell_type": "code",
   "execution_count": 41,
   "metadata": {
    "ExecuteTime": {
     "end_time": "2021-03-04T10:10:40.360073Z",
     "start_time": "2021-03-04T10:10:40.139751Z"
    }
   },
   "outputs": [
    {
     "data": {
      "text/plain": [
       "<sklearn.metrics._plot.confusion_matrix.ConfusionMatrixDisplay at 0x24e2903e308>"
      ]
     },
     "execution_count": 41,
     "metadata": {},
     "output_type": "execute_result"
    },
    {
     "data": {
      "image/png": "[encoded data removed]",
      "text/plain": [
       "<Figure size 432x288 with 2 Axes>"
      ]
     },
     "metadata": {
      "needs_background": "light"
     },
     "output_type": "display_data"
    }
   ],
   "source": [
    "plot_confusion_matrix(model, X_test, Y_test,cmap='Blues')"
   ]
  },
  {
   "cell_type": "markdown",
   "metadata": {},
   "source": [
    "### win/loss"
   ]
  },
  {
   "cell_type": "code",
   "execution_count": 42,
   "metadata": {
    "ExecuteTime": {
     "end_time": "2021-03-04T10:10:40.549813Z",
     "start_time": "2021-03-04T10:10:40.504721Z"
    }
   },
   "outputs": [
    {
     "name": "stdout",
     "output_type": "stream",
     "text": [
      "＜基本情報＞\n",
      "Total days 1430\n",
      "Total Trade times 481\n",
      "Total Trade frequency 0.33636363636363636\n",
      "Trade times per year 84.0909090909091\n",
      "Trade times per month 7.007575757575758\n",
      "Trade times per week 1.7518939393939394\n",
      "Trade times per day 0.3503787878787879\n",
      "＜勝敗割合＞\n",
      "Big Win rate 0.2765072765072765\n",
      "Big Loss rate 0.20166320166320167\n",
      "Small trade 0.5218295218295218\n",
      "Big Win/Big Loss Ratio 1.3711340206185567\n"
     ]
    }
   ],
   "source": [
    "# Series型のデータをデータフレーム化\n",
    "test_y2 = pd.DataFrame(Y_test)\n",
    "# 予測結果を格納\n",
    "test_y2['pred'] = model.predict(X_test)\n",
    "\n",
    "# 混同行列の各セルを定義\n",
    "m1 = len(test_y2[(test_y2['Maguro']==1) & (test_y2['pred']==1)])\n",
    "m2 = len(test_y2[(test_y2['Maguro']==1) & (test_y2['pred']==0)])\n",
    "m3 = len(test_y2[(test_y2['Maguro']==1) & (test_y2['pred']==-1)])\n",
    "m4 = len(test_y2[(test_y2['Maguro']==0) & (test_y2['pred']==1)])\n",
    "m5 = len(test_y2[(test_y2['Maguro']==0) & (test_y2['pred']==0)])\n",
    "m6 = len(test_y2[(test_y2['Maguro']==0) & (test_y2['pred']==-1)])\n",
    "m7 = len(test_y2[(test_y2['Maguro']==-1) & (test_y2['pred']==1)])\n",
    "m8 = len(test_y2[(test_y2['Maguro']==-1) & (test_y2['pred']==0)])\n",
    "m9 = len(test_y2[(test_y2['Maguro']==-1) & (test_y2['pred']==-1)])\n",
    "\n",
    "#　Total取引回数、大勝率、大敗率、の計算\n",
    "mall=m1+m2+m3+m4+m5+m6+m7+m8+m9\n",
    "ma=m1+m3+m4+m6+m7+m9\n",
    "mb=(m1+m9)/ma\n",
    "mc=(m3+m7)/ma\n",
    "\n",
    "# 各種モデル評価指標出力\n",
    "print('＜基本情報＞')\n",
    "print('Total days',mall)\n",
    "print('Total Trade times',ma)\n",
    "print('Total Trade frequency',ma/mall)\n",
    "print('Trade times per year',ma/(mall/250))\n",
    "print('Trade times per month',250*ma/mall/12)\n",
    "print('Trade times per week',250*ma/mall/12/4)\n",
    "print('Trade times per day',250*ma/mall/12/20)\n",
    "print('＜勝敗割合＞')\n",
    "print('Big Win rate',mb)\n",
    "print('Big Loss rate',mc)\n",
    "print('Small trade',(m4+m6)/ma)\n",
    "print('Big Win/Big Loss Ratio',mb/mc)"
   ]
  },
  {
   "cell_type": "markdown",
   "metadata": {},
   "source": [
    "### トレードのシミュレーション"
   ]
  },
  {
   "cell_type": "code",
   "execution_count": 43,
   "metadata": {
    "ExecuteTime": {
     "end_time": "2021-03-04T10:10:40.692182Z",
     "start_time": "2021-03-04T10:10:40.678221Z"
    }
   },
   "outputs": [],
   "source": [
    "def trade_simulation(dfx,leverage,start_balance):\n",
    "    i = 0\n",
    "    for index,item in dfx.iterrows():\n",
    "        # 1万EUR（1枚）取引に必要な証拠金\n",
    "        dfx.loc[index,'margin_per_eur'] = item['eurusd_Close']*item['usdjpy_Close']*10000/leverage\n",
    "\n",
    "        # 残高\n",
    "        if i <= 1:\n",
    "            dfx.loc[index,'balance'] = start_balance \n",
    "        else:\n",
    "            dfx.loc[index,'balance'] = dfx.loc[index-1,'balance'] + dfx.loc[index-1,'profit_loss']\n",
    "\n",
    "        # 枚数\n",
    "        num = dfx.loc[index,'balance']/2/dfx.loc[index,'margin_per_eur']\n",
    "        if num>100:\n",
    "            num = 100\n",
    "        dfx.loc[index,'num']  = num\n",
    "\n",
    "        # 必要証拠金\n",
    "        dfx.loc[index,'margin']  = dfx.loc[index,'margin_per_eur']*dfx.loc[index,'num']\n",
    "\n",
    "        # ポジションメイク後投資余力\n",
    "        dfx.loc[index,'capacity']  = dfx.loc[index,'balance']-dfx.loc[index,'margin']\n",
    "\n",
    "        # レート変動耐性\n",
    "        dfx.loc[index,'rate_fluctuation_tolerance'] = dfx.loc[index,'capacity']/(dfx.loc[index,'num']*10000)\n",
    "\n",
    "        # 損益\n",
    "        if i <= 1:\n",
    "            dfx.loc[index,'profit_loss'] = 0 \n",
    "        else:\n",
    "            dfx.loc[index,'profit_loss'] = dfx.loc[index-2,'pred']*(dfx.loc[index,'eurusd_Close']-dfx.loc[index-2,'eurusd_Close'])*dfx.loc[index-2,'num']*10000*dfx.loc[index,'usdjpy_Close']\n",
    "\n",
    "        i = i+1\n",
    "    return dfx"
   ]
  },
  {
   "cell_type": "code",
   "execution_count": 44,
   "metadata": {
    "ExecuteTime": {
     "end_time": "2021-03-04T10:10:40.976668Z",
     "start_time": "2021-03-04T10:10:40.867367Z"
    }
   },
   "outputs": [],
   "source": [
    "## testデータの予測結果に説明変数を結合\n",
    "# Series型のデータをデータフレーム化\n",
    "test_y2 = pd.DataFrame(Y_test)\n",
    "test_y2['pred'] = model.predict(X_test)\n",
    "\n",
    "# 予測結果保存\n",
    "col = ['Date','eurusd_Open', 'eurusd_High', 'eurusd_Low', 'eurusd_Close', 'usdjpy_Close', 'Maguro', 'pred']\n",
    "df_test_result = pd.merge(df_drop_add, test_y2['pred'], left_index=True, right_index=True)[col]\n",
    "\n",
    "\n",
    "## trainデータの予測結果に説明変数を結合\n",
    "# Series型のデータをデータフレーム化\n",
    "train_y2 = pd.DataFrame(Y_train)\n",
    "train_y2['pred'] = model.predict(X_train)\n",
    "\n",
    "# 予測結果保存\n",
    "col = ['Date','eurusd_Open', 'eurusd_High', 'eurusd_Low', 'eurusd_Close', 'usdjpy_Close', 'Maguro', 'pred']\n",
    "df_train_result = pd.merge(df_drop_add, train_y2['pred'], left_index=True, right_index=True)[col]\n"
   ]
  },
  {
   "cell_type": "markdown",
   "metadata": {},
   "source": [
    "#### Back test"
   ]
  },
  {
   "cell_type": "code",
   "execution_count": 45,
   "metadata": {
    "ExecuteTime": {
     "end_time": "2021-03-04T10:10:49.803394Z",
     "start_time": "2021-03-04T10:10:41.136200Z"
    },
    "scrolled": true
   },
   "outputs": [
    {
     "name": "stdout",
     "output_type": "stream",
     "text": [
      "初日: 2007-04-20 00:00:00\n",
      "最終日: 2021-02-02 00:00:00\n",
      "最終日時点の残高: 465994211\n",
      "儲け: 464994211\n"
     ]
    },
    {
     "data": {
      "image/png": "[encoded data removed]",
      "text/plain": [
       "<Figure size 1152x288 with 1 Axes>"
      ]
     },
     "metadata": {
      "needs_background": "light"
     },
     "output_type": "display_data"
    }
   ],
   "source": [
    "# レバレッジ倍数\n",
    "leverage = 25\n",
    "# スタート時の残高\n",
    "start_balance = 1000000\n",
    "\n",
    "# 損益計算\n",
    "df_train_result['is_train'] = True\n",
    "df_test_result['is_train'] = False\n",
    "df_concat = pd.concat([df_train_result, df_test_result])\n",
    "\n",
    "df_back_test = trade_simulation(df_concat,leverage,start_balance)\n",
    "df_back_test.to_csv('../output/df_back_test.csv', encoding='cp932',index=True)\n",
    "\n",
    "# Back test時の残高可視化\n",
    "fig, ax = plt.subplots(figsize=(16, 4))\n",
    "ax.plot(df_concat[df_back_test['is_train']]['Date'], df_back_test[df_back_test['is_train']]['balance'], label='train_balance')\n",
    "ax.plot(df_concat[~df_back_test['is_train']]['Date'], df_back_test[~df_back_test['is_train']]['balance'], label='test_balance')\n",
    "ax.legend(fontsize=12)\n",
    "ax.set_title('Back test', fontsize=14)\n",
    "ax.yaxis.get_major_formatter().set_useOffset(False)\n",
    "ax.yaxis.get_major_formatter().set_scientific(False) \n",
    "ax.yaxis.set_major_locator(ticker.MaxNLocator(integer=True))\n",
    "ax.set_ylim(0, df_back_test['balance'].max() + df_back_test['balance'].max()*0.1)\n",
    "# ax.yaxis.set_ticks(np.arange(0, df_back_test['balance'].max() + 1000000, 500000))\n",
    "\n",
    "ax.xaxis.set_major_locator(mdates.MonthLocator(interval=12))\n",
    "ax.xaxis.set_major_formatter(mdates.DateFormatter('%Y'))\n",
    "ax.tick_params(axis='x', labelrotation=45)\n",
    "\n",
    "print('初日: {}'.format(df_back_test.iloc[0]['Date']))\n",
    "print('最終日: {}'.format(df_back_test.iloc[-1]['Date']))\n",
    "print('最終日時点の残高: {}'.format(df_back_test.iloc[-1]['balance'].astype(int)))\n",
    "print('儲け: {}'.format(df_back_test.iloc[-1]['balance'].astype(int)-start_balance))"
   ]
  },
  {
   "cell_type": "markdown",
   "metadata": {},
   "source": [
    "#### Forward test"
   ]
  },
  {
   "cell_type": "code",
   "execution_count": 46,
   "metadata": {
    "ExecuteTime": {
     "end_time": "2021-03-04T10:10:53.371292Z",
     "start_time": "2021-03-04T10:10:49.945418Z"
    }
   },
   "outputs": [
    {
     "name": "stdout",
     "output_type": "stream",
     "text": [
      "初日: 2015-07-23 00:00:00\n",
      "最終日: 2021-02-02 00:00:00\n",
      "最終日時点の残高: 3684841\n",
      "儲け: 2684841\n"
     ]
    },
    {
     "data": {
      "image/png": "[encoded data removed]",
      "text/plain": [
       "<Figure size 1152x288 with 1 Axes>"
      ]
     },
     "metadata": {
      "needs_background": "light"
     },
     "output_type": "display_data"
    }
   ],
   "source": [
    "# レバレッジ倍数\n",
    "leverage = 25\n",
    "# スタート時の残高\n",
    "start_balance = 1000000\n",
    "# 損益計算\n",
    "df_forward_test = trade_simulation(df_test_result,leverage,start_balance)\n",
    "df_forward_test.to_csv('../output/df_forward_test.csv', encoding='cp932',index=True)\n",
    "\n",
    "# Forward test時の残高可視化\n",
    "fig, ax = plt.subplots(figsize=(16, 4))\n",
    "ax.plot(df_forward_test['Date'], df_forward_test['balance'], label='balance', color='orange')\n",
    "ax.legend(fontsize=12)\n",
    "ax.set_title('Forward test', fontsize=14)\n",
    "ax.yaxis.get_major_formatter().set_useOffset(False)\n",
    "ax.yaxis.get_major_formatter().set_scientific(False) \n",
    "ax.yaxis.set_major_locator(ticker.MaxNLocator(integer=True))\n",
    "ax.set_ylim(0, df_forward_test['balance'].max() + df_forward_test['balance'].max()*0.1)\n",
    "# ax.yaxis.set_ticks(np.arange(0, 5000001, 500000))\n",
    "\n",
    "ax.xaxis.set_major_locator(mdates.MonthLocator(interval=2))\n",
    "ax.xaxis.set_major_formatter(mdates.DateFormatter('%y/%m'))\n",
    "ax.tick_params(axis='x', labelrotation=45)\n",
    "\n",
    "print('初日: {}'.format(df_forward_test.iloc[0]['Date']))\n",
    "print('最終日: {}'.format(df_forward_test.iloc[-1]['Date']))\n",
    "print('最終日時点の残高: {}'.format(df_forward_test.iloc[-1]['balance'].astype(int)))\n",
    "print('儲け: {}'.format(df_forward_test.iloc[-1]['balance'].astype(int)-start_balance))"
   ]
  },
  {
   "cell_type": "markdown",
   "metadata": {},
   "source": [
    "### feature_importance"
   ]
  },
  {
   "cell_type": "code",
   "execution_count": 47,
   "metadata": {
    "ExecuteTime": {
     "end_time": "2021-03-04T10:10:53.911872Z",
     "start_time": "2021-03-04T10:10:53.514957Z"
    }
   },
   "outputs": [
    {
     "data": {
      "text/html": [
       "<div>\n",
       "<style scoped>\n",
       "    .dataframe tbody tr th:only-of-type {\n",
       "        vertical-align: middle;\n",
       "    }\n",
       "\n",
       "    .dataframe tbody tr th {\n",
       "        vertical-align: top;\n",
       "    }\n",
       "\n",
       "    .dataframe thead th {\n",
       "        text-align: right;\n",
       "    }\n",
       "</style>\n",
       "<table border=\"1\" class=\"dataframe\">\n",
       "  <thead>\n",
       "    <tr style=\"text-align: right;\">\n",
       "      <th></th>\n",
       "      <th>feature_names</th>\n",
       "      <th>feature_importance</th>\n",
       "    </tr>\n",
       "  </thead>\n",
       "  <tbody>\n",
       "    <tr>\n",
       "      <th>45</th>\n",
       "      <td>dow_Close</td>\n",
       "      <td>0.057224</td>\n",
       "    </tr>\n",
       "    <tr>\n",
       "      <th>71</th>\n",
       "      <td>dax_Close</td>\n",
       "      <td>0.046197</td>\n",
       "    </tr>\n",
       "    <tr>\n",
       "      <th>43</th>\n",
       "      <td>dow_High</td>\n",
       "      <td>0.038021</td>\n",
       "    </tr>\n",
       "    <tr>\n",
       "      <th>42</th>\n",
       "      <td>dow_Open</td>\n",
       "      <td>0.032429</td>\n",
       "    </tr>\n",
       "    <tr>\n",
       "      <th>83</th>\n",
       "      <td>vix_Close</td>\n",
       "      <td>0.026301</td>\n",
       "    </tr>\n",
       "    <tr>\n",
       "      <th>44</th>\n",
       "      <td>dow_Low</td>\n",
       "      <td>0.024674</td>\n",
       "    </tr>\n",
       "    <tr>\n",
       "      <th>46</th>\n",
       "      <td>dow_Volume</td>\n",
       "      <td>0.021650</td>\n",
       "    </tr>\n",
       "    <tr>\n",
       "      <th>69</th>\n",
       "      <td>dax_High</td>\n",
       "      <td>0.019116</td>\n",
       "    </tr>\n",
       "    <tr>\n",
       "      <th>111</th>\n",
       "      <td>eurusd_sma200</td>\n",
       "      <td>0.017924</td>\n",
       "    </tr>\n",
       "    <tr>\n",
       "      <th>68</th>\n",
       "      <td>dax_Open</td>\n",
       "      <td>0.017706</td>\n",
       "    </tr>\n",
       "    <tr>\n",
       "      <th>81</th>\n",
       "      <td>platinum_OpenInt</td>\n",
       "      <td>0.016865</td>\n",
       "    </tr>\n",
       "    <tr>\n",
       "      <th>50</th>\n",
       "      <td>nikkei_Close</td>\n",
       "      <td>0.016140</td>\n",
       "    </tr>\n",
       "    <tr>\n",
       "      <th>51</th>\n",
       "      <td>shanghai_Open</td>\n",
       "      <td>0.016099</td>\n",
       "    </tr>\n",
       "    <tr>\n",
       "      <th>49</th>\n",
       "      <td>nikkei_Low</td>\n",
       "      <td>0.015951</td>\n",
       "    </tr>\n",
       "    <tr>\n",
       "      <th>70</th>\n",
       "      <td>dax_Low</td>\n",
       "      <td>0.015561</td>\n",
       "    </tr>\n",
       "    <tr>\n",
       "      <th>48</th>\n",
       "      <td>nikkei_High</td>\n",
       "      <td>0.014660</td>\n",
       "    </tr>\n",
       "    <tr>\n",
       "      <th>113</th>\n",
       "      <td>eurusd_ema50</td>\n",
       "      <td>0.014494</td>\n",
       "    </tr>\n",
       "    <tr>\n",
       "      <th>52</th>\n",
       "      <td>shanghai_High</td>\n",
       "      <td>0.013037</td>\n",
       "    </tr>\n",
       "    <tr>\n",
       "      <th>125</th>\n",
       "      <td>eurusd_l_band</td>\n",
       "      <td>0.012796</td>\n",
       "    </tr>\n",
       "    <tr>\n",
       "      <th>53</th>\n",
       "      <td>shanghai_Low</td>\n",
       "      <td>0.012693</td>\n",
       "    </tr>\n",
       "  </tbody>\n",
       "</table>\n",
       "</div>"
      ],
      "text/plain": [
       "        feature_names  feature_importance\n",
       "45          dow_Close            0.057224\n",
       "71          dax_Close            0.046197\n",
       "43           dow_High            0.038021\n",
       "42           dow_Open            0.032429\n",
       "83          vix_Close            0.026301\n",
       "44            dow_Low            0.024674\n",
       "46         dow_Volume            0.021650\n",
       "69           dax_High            0.019116\n",
       "111     eurusd_sma200            0.017924\n",
       "68           dax_Open            0.017706\n",
       "81   platinum_OpenInt            0.016865\n",
       "50       nikkei_Close            0.016140\n",
       "51      shanghai_Open            0.016099\n",
       "49         nikkei_Low            0.015951\n",
       "70            dax_Low            0.015561\n",
       "48        nikkei_High            0.014660\n",
       "113      eurusd_ema50            0.014494\n",
       "52      shanghai_High            0.013037\n",
       "125     eurusd_l_band            0.012796\n",
       "53       shanghai_Low            0.012693"
      ]
     },
     "metadata": {},
     "output_type": "display_data"
    },
    {
     "data": {
      "image/png": "[encoded data removed]",
      "text/plain": [
       "<Figure size 720x576 with 1 Axes>"
      ]
     },
     "metadata": {
      "needs_background": "light"
     },
     "output_type": "display_data"
    }
   ],
   "source": [
    "def plot_feature_importance(importance,names):\n",
    "    \n",
    "    # Create arrays from feature importance and feature names\n",
    "    feature_importance = np.array(importance)\n",
    "    feature_names = np.array(names)\n",
    "\n",
    "    # Create a DataFrame using a Dictionary\n",
    "    data={'feature_names':feature_names,'feature_importance':feature_importance}\n",
    "    fi_df = pd.DataFrame(data)\n",
    "\n",
    "    # Sort the DataFrame in order decreasing feature importance\n",
    "    fi_df.sort_values(by=['feature_importance'], ascending=False,inplace=True)\n",
    "    return fi_df\n",
    "\n",
    "# 重要な変数トップ20を取得\n",
    "fi_df = plot_feature_importance(model.feature_importances_,X_train.columns)\n",
    "fi_df = fi_df.head(20)\n",
    "\n",
    "# Define size of bar plot\n",
    "plt.figure(figsize=(10,8))\n",
    "# Plot Searborn bar chart\n",
    "sns.barplot(x=fi_df['feature_importance'], y=fi_df['feature_names'])\n",
    "# Add chart labels\n",
    "plt.title('RANDOM FOREST' + 'FEATURE IMPORTANCE')\n",
    "plt.xlabel('FEATURE IMPORTANCE')\n",
    "plt.ylabel('FEATURE NAMES')\n",
    "\n",
    "display(fi_df)"
   ]
  },
  {
   "cell_type": "code",
   "execution_count": null,
   "metadata": {},
   "outputs": [],
   "source": []
  },
  {
   "cell_type": "code",
   "execution_count": null,
   "metadata": {},
   "outputs": [],
   "source": []
  }
 ],
 "metadata": {
  "kernelspec": {
   "display_name": "Python 3",
   "language": "python",
   "name": "python3"
  },
  "language_info": {
   "codemirror_mode": {
    "name": "ipython",
    "version": 3
   },
   "file_extension": ".py",
   "mimetype": "text/x-python",
   "name": "python",
   "nbconvert_exporter": "python",
   "pygments_lexer": "ipython3",
   "version": "3.7.9"
  },
  "toc": {
   "base_numbering": 1,
   "nav_menu": {},
   "number_sections": true,
   "sideBar": true,
   "skip_h1_title": false,
   "title_cell": "Table of Contents",
   "title_sidebar": "Contents",
   "toc_cell": false,
   "toc_position": {},
   "toc_section_display": true,
   "toc_window_display": true
  },
  "varInspector": {
   "cols": {
    "lenName": 16,
    "lenType": 16,
    "lenVar": 40
   },
   "kernels_config": {
    "python": {
     "delete_cmd_postfix": "",
     "delete_cmd_prefix": "del ",
     "library": "var_list.py",
     "varRefreshCmd": "print(var_dic_list())"
    },
    "r": {
     "delete_cmd_postfix": ") ",
     "delete_cmd_prefix": "rm(",
     "library": "var_list.r",
     "varRefreshCmd": "cat(var_dic_list()) "
    }
   },
   "types_to_exclude": [
    "module",
    "function",
    "builtin_function_or_method",
    "instance",
    "_Feature"
   ],
   "window_display": false
  }
 },
 "nbformat": 4,
 "nbformat_minor": 4
}
