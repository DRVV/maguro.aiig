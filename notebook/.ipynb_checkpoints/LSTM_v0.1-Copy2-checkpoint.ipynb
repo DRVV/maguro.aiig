{
 "cells": [
  {
   "cell_type": "code",
   "execution_count": 83,
   "metadata": {
    "ExecuteTime": {
     "end_time": "2021-03-18T13:03:38.697534Z",
     "start_time": "2021-03-18T13:03:38.692547Z"
    }
   },
   "outputs": [],
   "source": [
    "import pandas as pd\n",
    "import numpy as np\n",
    "import seaborn as sns\n",
    "import matplotlib.pyplot as plt\n",
    "import matplotlib.lines as mlines\n",
    "import configparser\n",
    "import pytz\n",
    "import datetime\n",
    "from datetime import datetime, timedelta\n",
    "\n",
    "\n",
    "from keras.models import Sequential\n",
    "from keras.layers import Activation, Dense\n",
    "from keras.layers import LSTM\n",
    "from keras.layers import Dropout"
   ]
  },
  {
   "cell_type": "code",
   "execution_count": 84,
   "metadata": {
    "ExecuteTime": {
     "end_time": "2021-03-18T13:03:53.362755Z",
     "start_time": "2021-03-18T13:03:38.699529Z"
    }
   },
   "outputs": [
    {
     "data": {
      "text/html": [
       "<div>\n",
       "<style scoped>\n",
       "    .dataframe tbody tr th:only-of-type {\n",
       "        vertical-align: middle;\n",
       "    }\n",
       "\n",
       "    .dataframe tbody tr th {\n",
       "        vertical-align: top;\n",
       "    }\n",
       "\n",
       "    .dataframe thead th {\n",
       "        text-align: right;\n",
       "    }\n",
       "</style>\n",
       "<table border=\"1\" class=\"dataframe\">\n",
       "  <thead>\n",
       "    <tr style=\"text-align: right;\">\n",
       "      <th></th>\n",
       "      <th>Date</th>\n",
       "      <th>eurusd_Open</th>\n",
       "      <th>eurusd_High</th>\n",
       "      <th>eurusd_Low</th>\n",
       "      <th>eurusd_Close</th>\n",
       "      <th>EURUSD_high-low</th>\n",
       "      <th>EURUSD_close-open</th>\n",
       "      <th>EURUSD_close-open_%</th>\n",
       "      <th>EURUSD_NegativeLine</th>\n",
       "      <th>EURUSD_PositiveLine</th>\n",
       "      <th>...</th>\n",
       "      <th>deb10y_Close</th>\n",
       "      <th>ptd10y_Open</th>\n",
       "      <th>ptd10y_High</th>\n",
       "      <th>ptd10y_Low</th>\n",
       "      <th>ptd10y_Close</th>\n",
       "      <th>DE_US_10ySpread</th>\n",
       "      <th>GR_DE_10ySpread</th>\n",
       "      <th>IT_DE_10ySpread</th>\n",
       "      <th>PT_DE_10ySpread</th>\n",
       "      <th>Maguro</th>\n",
       "    </tr>\n",
       "  </thead>\n",
       "  <tbody>\n",
       "    <tr>\n",
       "      <th>0</th>\n",
       "      <td>2000-01-03</td>\n",
       "      <td>1.0050</td>\n",
       "      <td>1.0280</td>\n",
       "      <td>1.0048</td>\n",
       "      <td>1.0262</td>\n",
       "      <td>0.0232</td>\n",
       "      <td>0.0212</td>\n",
       "      <td>0.913793</td>\n",
       "      <td>0.0002</td>\n",
       "      <td>0.0018</td>\n",
       "      <td>...</td>\n",
       "      <td>NaN</td>\n",
       "      <td>NaN</td>\n",
       "      <td>NaN</td>\n",
       "      <td>NaN</td>\n",
       "      <td>NaN</td>\n",
       "      <td>NaN</td>\n",
       "      <td>NaN</td>\n",
       "      <td>NaN</td>\n",
       "      <td>NaN</td>\n",
       "      <td>1</td>\n",
       "    </tr>\n",
       "    <tr>\n",
       "      <th>1</th>\n",
       "      <td>2000-01-04</td>\n",
       "      <td>1.0240</td>\n",
       "      <td>1.0343</td>\n",
       "      <td>1.0210</td>\n",
       "      <td>1.0308</td>\n",
       "      <td>0.0133</td>\n",
       "      <td>0.0068</td>\n",
       "      <td>0.511278</td>\n",
       "      <td>0.0030</td>\n",
       "      <td>0.0035</td>\n",
       "      <td>...</td>\n",
       "      <td>NaN</td>\n",
       "      <td>NaN</td>\n",
       "      <td>NaN</td>\n",
       "      <td>NaN</td>\n",
       "      <td>NaN</td>\n",
       "      <td>NaN</td>\n",
       "      <td>NaN</td>\n",
       "      <td>NaN</td>\n",
       "      <td>NaN</td>\n",
       "      <td>0</td>\n",
       "    </tr>\n",
       "    <tr>\n",
       "      <th>2</th>\n",
       "      <td>2000-01-05</td>\n",
       "      <td>1.0293</td>\n",
       "      <td>1.0402</td>\n",
       "      <td>1.0280</td>\n",
       "      <td>1.0314</td>\n",
       "      <td>0.0122</td>\n",
       "      <td>0.0021</td>\n",
       "      <td>0.172131</td>\n",
       "      <td>0.0013</td>\n",
       "      <td>0.0088</td>\n",
       "      <td>...</td>\n",
       "      <td>NaN</td>\n",
       "      <td>NaN</td>\n",
       "      <td>NaN</td>\n",
       "      <td>NaN</td>\n",
       "      <td>NaN</td>\n",
       "      <td>NaN</td>\n",
       "      <td>NaN</td>\n",
       "      <td>NaN</td>\n",
       "      <td>NaN</td>\n",
       "      <td>0</td>\n",
       "    </tr>\n",
       "    <tr>\n",
       "      <th>3</th>\n",
       "      <td>2000-01-06</td>\n",
       "      <td>1.0320</td>\n",
       "      <td>1.0414</td>\n",
       "      <td>1.0270</td>\n",
       "      <td>1.0319</td>\n",
       "      <td>0.0144</td>\n",
       "      <td>-0.0001</td>\n",
       "      <td>-0.006944</td>\n",
       "      <td>0.0049</td>\n",
       "      <td>0.0094</td>\n",
       "      <td>...</td>\n",
       "      <td>NaN</td>\n",
       "      <td>NaN</td>\n",
       "      <td>NaN</td>\n",
       "      <td>NaN</td>\n",
       "      <td>NaN</td>\n",
       "      <td>NaN</td>\n",
       "      <td>NaN</td>\n",
       "      <td>NaN</td>\n",
       "      <td>NaN</td>\n",
       "      <td>-1</td>\n",
       "    </tr>\n",
       "    <tr>\n",
       "      <th>4</th>\n",
       "      <td>2000-01-07</td>\n",
       "      <td>1.0324</td>\n",
       "      <td>1.0330</td>\n",
       "      <td>1.0250</td>\n",
       "      <td>1.0289</td>\n",
       "      <td>0.0080</td>\n",
       "      <td>-0.0035</td>\n",
       "      <td>-0.437500</td>\n",
       "      <td>0.0039</td>\n",
       "      <td>0.0006</td>\n",
       "      <td>...</td>\n",
       "      <td>NaN</td>\n",
       "      <td>NaN</td>\n",
       "      <td>NaN</td>\n",
       "      <td>NaN</td>\n",
       "      <td>NaN</td>\n",
       "      <td>NaN</td>\n",
       "      <td>NaN</td>\n",
       "      <td>NaN</td>\n",
       "      <td>NaN</td>\n",
       "      <td>0</td>\n",
       "    </tr>\n",
       "  </tbody>\n",
       "</table>\n",
       "<p>5 rows × 111 columns</p>\n",
       "</div>"
      ],
      "text/plain": [
       "        Date  eurusd_Open  eurusd_High  eurusd_Low  eurusd_Close  \\\n",
       "0 2000-01-03       1.0050       1.0280      1.0048        1.0262   \n",
       "1 2000-01-04       1.0240       1.0343      1.0210        1.0308   \n",
       "2 2000-01-05       1.0293       1.0402      1.0280        1.0314   \n",
       "3 2000-01-06       1.0320       1.0414      1.0270        1.0319   \n",
       "4 2000-01-07       1.0324       1.0330      1.0250        1.0289   \n",
       "\n",
       "   EURUSD_high-low  EURUSD_close-open  EURUSD_close-open_%  \\\n",
       "0           0.0232             0.0212             0.913793   \n",
       "1           0.0133             0.0068             0.511278   \n",
       "2           0.0122             0.0021             0.172131   \n",
       "3           0.0144            -0.0001            -0.006944   \n",
       "4           0.0080            -0.0035            -0.437500   \n",
       "\n",
       "   EURUSD_NegativeLine  EURUSD_PositiveLine  ...  deb10y_Close  ptd10y_Open  \\\n",
       "0               0.0002               0.0018  ...           NaN          NaN   \n",
       "1               0.0030               0.0035  ...           NaN          NaN   \n",
       "2               0.0013               0.0088  ...           NaN          NaN   \n",
       "3               0.0049               0.0094  ...           NaN          NaN   \n",
       "4               0.0039               0.0006  ...           NaN          NaN   \n",
       "\n",
       "   ptd10y_High  ptd10y_Low  ptd10y_Close  DE_US_10ySpread  GR_DE_10ySpread  \\\n",
       "0          NaN         NaN           NaN              NaN              NaN   \n",
       "1          NaN         NaN           NaN              NaN              NaN   \n",
       "2          NaN         NaN           NaN              NaN              NaN   \n",
       "3          NaN         NaN           NaN              NaN              NaN   \n",
       "4          NaN         NaN           NaN              NaN              NaN   \n",
       "\n",
       "   IT_DE_10ySpread  PT_DE_10ySpread  Maguro  \n",
       "0              NaN              NaN       1  \n",
       "1              NaN              NaN       0  \n",
       "2              NaN              NaN       0  \n",
       "3              NaN              NaN      -1  \n",
       "4              NaN              NaN       0  \n",
       "\n",
       "[5 rows x 111 columns]"
      ]
     },
     "execution_count": 84,
     "metadata": {},
     "output_type": "execute_result"
    }
   ],
   "source": [
    "df = pd.read_excel('../input/data_RF.xlsx')\n",
    "df.head()"
   ]
  },
  {
   "cell_type": "code",
   "execution_count": 85,
   "metadata": {
    "ExecuteTime": {
     "end_time": "2021-03-18T13:03:53.425967Z",
     "start_time": "2021-03-18T13:03:53.364711Z"
    }
   },
   "outputs": [
    {
     "name": "stdout",
     "output_type": "stream",
     "text": [
      "(3772, 111)\n"
     ]
    }
   ],
   "source": [
    "# NULLを過去の値で補完\n",
    "df_drop = df.interpolate(limit_direction='forward', axis=0).dropna(how=\"any\")\n",
    "#データを確認\n",
    "print(df_drop.shape)"
   ]
  },
  {
   "cell_type": "code",
   "execution_count": 86,
   "metadata": {
    "ExecuteTime": {
     "end_time": "2021-03-18T13:03:53.647401Z",
     "start_time": "2021-03-18T13:03:53.428947Z"
    }
   },
   "outputs": [
    {
     "data": {
      "text/plain": [
       "<AxesSubplot:>"
      ]
     },
     "execution_count": 86,
     "metadata": {},
     "output_type": "execute_result"
    },
    {
     "data": {
      "image/png": "[encoded data removed]",
      "text/plain": [
       "<Figure size 720x288 with 1 Axes>"
      ]
     },
     "metadata": {
      "needs_background": "light"
     },
     "output_type": "display_data"
    }
   ],
   "source": [
    "data = df_drop[['Date','eurusd_Close']]\n",
    "data = data.drop(['Date'],axis =1)\n",
    "data.plot()"
   ]
  },
  {
   "cell_type": "code",
   "execution_count": 87,
   "metadata": {
    "ExecuteTime": {
     "end_time": "2021-03-18T13:03:53.663320Z",
     "start_time": "2021-03-18T13:03:53.649358Z"
    }
   },
   "outputs": [],
   "source": [
    "# ５０日分のデータを１塊とした窓\n",
    "window_size = 50\n",
    "def _load_data(data, n_prev=window_size):  \n",
    "   \n",
    "    docX, docY = [], []\n",
    "    for i in range(len(data)-n_prev):\n",
    "        docX.append(data.iloc[i:i+n_prev].values)\n",
    "        docY.append(data.iloc[i+n_prev].values)\n",
    "    alsX = np.array(docX)\n",
    "    alsY = np.array(docY)\n",
    "\n",
    "    return alsX, alsY\n",
    "\n",
    "def train_test_split(df, test_size=0.1, n_prev = 50):  \n",
    "    \n",
    "    ntrn = round(len(df) * (1 - test_size))\n",
    "    ntrn = int(ntrn)\n",
    "    X_train, y_train = _load_data(df.iloc[0:ntrn], n_prev)\n",
    "    X_test, y_test = _load_data(df.iloc[ntrn:], n_prev)\n",
    "\n",
    "    return (X_train, y_train), (X_test, y_test)"
   ]
  },
  {
   "cell_type": "code",
   "execution_count": 92,
   "metadata": {
    "ExecuteTime": {
     "end_time": "2021-03-18T13:12:24.553437Z",
     "start_time": "2021-03-18T13:12:24.169258Z"
    }
   },
   "outputs": [
    {
     "name": "stdout",
     "output_type": "stream",
     "text": [
      "X_train =  (3345, 50, 1)\n",
      "y_train =  (3345, 1)\n",
      "X_test  =  (327, 50, 1)\n",
      "y_test  =  (327, 1)\n"
     ]
    }
   ],
   "source": [
    "#正規化\n",
    "# df = data / data.mean()\n",
    "df = data\n",
    "length_of_sequences = 50\n",
    "(X_train, y_train), (X_test, y_test) = train_test_split(df, test_size = 0.1, n_prev = length_of_sequences)\n",
    "\n",
    "#確認\n",
    "print(\"X_train = \",X_train.shape)\n",
    "print(\"y_train = \",y_train.shape)\n",
    "print(\"X_test  = \",X_test.shape)\n",
    "print(\"y_test  = \",y_test.shape)\n"
   ]
  },
  {
   "cell_type": "code",
   "execution_count": 93,
   "metadata": {
    "ExecuteTime": {
     "end_time": "2021-03-18T13:13:53.017063Z",
     "start_time": "2021-03-18T13:12:25.189525Z"
    }
   },
   "outputs": [
    {
     "name": "stdout",
     "output_type": "stream",
     "text": [
      "Epoch 1/60\n",
      "21/21 [==============================] - 3s 69ms/step - loss: 0.5649 - val_loss: 0.0034\n",
      "Epoch 2/60\n",
      "21/21 [==============================] - 1s 51ms/step - loss: 0.0192 - val_loss: 4.2504e-04\n",
      "Epoch 3/60\n",
      "21/21 [==============================] - 1s 52ms/step - loss: 0.0118 - val_loss: 1.8032e-04\n",
      "Epoch 4/60\n",
      "21/21 [==============================] - 1s 52ms/step - loss: 0.0108 - val_loss: 3.3198e-04\n",
      "Epoch 5/60\n",
      "21/21 [==============================] - 1s 50ms/step - loss: 0.0104 - val_loss: 2.5518e-04\n",
      "Epoch 6/60\n",
      "21/21 [==============================] - 1s 52ms/step - loss: 0.0091 - val_loss: 1.8400e-04\n",
      "Epoch 7/60\n",
      "21/21 [==============================] - 1s 52ms/step - loss: 0.0084 - val_loss: 1.9582e-04\n",
      "Epoch 8/60\n",
      "21/21 [==============================] - 1s 53ms/step - loss: 0.0086 - val_loss: 1.8932e-04\n",
      "Epoch 9/60\n",
      "21/21 [==============================] - 1s 65ms/step - loss: 0.0079 - val_loss: 1.4498e-04\n",
      "Epoch 10/60\n",
      "21/21 [==============================] - 1s 71ms/step - loss: 0.0079 - val_loss: 9.6088e-05\n",
      "Epoch 11/60\n",
      "21/21 [==============================] - 1s 68ms/step - loss: 0.0069 - val_loss: 3.0734e-04\n",
      "Epoch 12/60\n",
      "21/21 [==============================] - 1s 67ms/step - loss: 0.0064 - val_loss: 9.3989e-05\n",
      "Epoch 13/60\n",
      "21/21 [==============================] - 1s 68ms/step - loss: 0.0063 - val_loss: 1.5520e-04\n",
      "Epoch 14/60\n",
      "21/21 [==============================] - 1s 71ms/step - loss: 0.0063 - val_loss: 8.4736e-05\n",
      "Epoch 15/60\n",
      "21/21 [==============================] - 1s 71ms/step - loss: 0.0059 - val_loss: 8.7281e-05\n",
      "Epoch 16/60\n",
      "21/21 [==============================] - 1s 67ms/step - loss: 0.0063 - val_loss: 1.9292e-04\n",
      "Epoch 17/60\n",
      "21/21 [==============================] - 1s 69ms/step - loss: 0.0058 - val_loss: 1.2394e-04\n",
      "Epoch 18/60\n",
      "21/21 [==============================] - 1s 70ms/step - loss: 0.0060 - val_loss: 1.7517e-04\n",
      "Epoch 19/60\n",
      "21/21 [==============================] - 1s 69ms/step - loss: 0.0058 - val_loss: 9.1111e-05\n",
      "Epoch 20/60\n",
      "21/21 [==============================] - 1s 68ms/step - loss: 0.0059 - val_loss: 7.1307e-05\n",
      "Epoch 21/60\n",
      "21/21 [==============================] - 1s 70ms/step - loss: 0.0054 - val_loss: 9.0003e-05\n",
      "Epoch 22/60\n",
      "21/21 [==============================] - 1s 72ms/step - loss: 0.0055 - val_loss: 6.0421e-04\n",
      "Epoch 23/60\n",
      "21/21 [==============================] - 2s 72ms/step - loss: 0.0057 - val_loss: 1.4518e-04\n",
      "Epoch 24/60\n",
      "21/21 [==============================] - 2s 73ms/step - loss: 0.0052 - val_loss: 7.2640e-05\n",
      "Epoch 25/60\n",
      "21/21 [==============================] - 2s 75ms/step - loss: 0.0055 - val_loss: 2.9359e-04\n",
      "Epoch 26/60\n",
      "21/21 [==============================] - 2s 79ms/step - loss: 0.0056 - val_loss: 1.7603e-04\n",
      "Epoch 27/60\n",
      "21/21 [==============================] - 1s 70ms/step - loss: 0.0049 - val_loss: 7.3932e-05\n",
      "Epoch 28/60\n",
      "21/21 [==============================] - 1s 70ms/step - loss: 0.0051 - val_loss: 8.3600e-05\n",
      "Epoch 29/60\n",
      "21/21 [==============================] - 1s 71ms/step - loss: 0.0051 - val_loss: 1.2805e-04\n",
      "Epoch 30/60\n",
      "21/21 [==============================] - 1s 70ms/step - loss: 0.0051 - val_loss: 1.9788e-04\n",
      "Epoch 31/60\n",
      "21/21 [==============================] - 1s 70ms/step - loss: 0.0051 - val_loss: 7.9081e-05\n",
      "Epoch 32/60\n",
      "21/21 [==============================] - 1s 72ms/step - loss: 0.0050 - val_loss: 1.0729e-04\n",
      "Epoch 33/60\n",
      "21/21 [==============================] - 1s 71ms/step - loss: 0.0052 - val_loss: 3.4283e-04\n",
      "Epoch 34/60\n",
      "21/21 [==============================] - 1s 70ms/step - loss: 0.0052 - val_loss: 8.2427e-05\n",
      "Epoch 35/60\n",
      "21/21 [==============================] - 1s 71ms/step - loss: 0.0050 - val_loss: 9.6299e-05\n",
      "Epoch 36/60\n",
      "21/21 [==============================] - 2s 73ms/step - loss: 0.0049 - val_loss: 4.3515e-04\n",
      "Epoch 37/60\n",
      "21/21 [==============================] - 2s 72ms/step - loss: 0.0051 - val_loss: 1.7605e-04\n",
      "Epoch 38/60\n",
      "21/21 [==============================] - 2s 73ms/step - loss: 0.0052 - val_loss: 2.5855e-04\n",
      "Epoch 39/60\n",
      "21/21 [==============================] - 2s 79ms/step - loss: 0.0050 - val_loss: 2.7264e-04\n",
      "Epoch 40/60\n",
      "21/21 [==============================] - 1s 72ms/step - loss: 0.0049 - val_loss: 6.9415e-05\n",
      "Epoch 41/60\n",
      "21/21 [==============================] - 1s 71ms/step - loss: 0.0049 - val_loss: 7.8782e-04\n",
      "Epoch 42/60\n",
      "21/21 [==============================] - 1s 69ms/step - loss: 0.0052 - val_loss: 2.3183e-04\n",
      "Epoch 43/60\n",
      "21/21 [==============================] - 1s 72ms/step - loss: 0.0045 - val_loss: 2.9662e-04\n",
      "Epoch 44/60\n",
      "21/21 [==============================] - 1s 69ms/step - loss: 0.0054 - val_loss: 2.7615e-04\n",
      "Epoch 45/60\n",
      "21/21 [==============================] - 1s 70ms/step - loss: 0.0048 - val_loss: 1.7424e-04\n",
      "Epoch 46/60\n",
      "21/21 [==============================] - 2s 74ms/step - loss: 0.0047 - val_loss: 8.5256e-05\n",
      "Epoch 47/60\n",
      "21/21 [==============================] - 2s 76ms/step - loss: 0.0046 - val_loss: 3.5208e-04\n",
      "Epoch 48/60\n",
      "21/21 [==============================] - 2s 72ms/step - loss: 0.0046 - val_loss: 6.8196e-05\n",
      "Epoch 49/60\n",
      "21/21 [==============================] - 1s 70ms/step - loss: 0.0047 - val_loss: 1.4055e-04\n",
      "Epoch 50/60\n",
      "21/21 [==============================] - 1s 72ms/step - loss: 0.0047 - val_loss: 8.4159e-05\n",
      "Epoch 51/60\n",
      "21/21 [==============================] - 1s 72ms/step - loss: 0.0047 - val_loss: 1.1747e-04\n",
      "Epoch 52/60\n",
      "21/21 [==============================] - 1s 71ms/step - loss: 0.0045 - val_loss: 1.0730e-04\n",
      "Epoch 53/60\n",
      "21/21 [==============================] - 1s 71ms/step - loss: 0.0049 - val_loss: 6.3650e-04\n",
      "Epoch 54/60\n",
      "21/21 [==============================] - 1s 71ms/step - loss: 0.0048 - val_loss: 6.8138e-05\n",
      "Epoch 55/60\n",
      "21/21 [==============================] - 2s 73ms/step - loss: 0.0046 - val_loss: 2.4567e-04\n",
      "Epoch 56/60\n",
      "21/21 [==============================] - 1s 71ms/step - loss: 0.0045 - val_loss: 1.0918e-04\n",
      "Epoch 57/60\n",
      "21/21 [==============================] - 2s 73ms/step - loss: 0.0046 - val_loss: 3.5345e-04\n",
      "Epoch 58/60\n",
      "21/21 [==============================] - 2s 74ms/step - loss: 0.0043 - val_loss: 4.9289e-04\n",
      "Epoch 59/60\n",
      "21/21 [==============================] - 1s 72ms/step - loss: 0.0052 - val_loss: 5.0819e-04\n",
      "Epoch 60/60\n",
      "21/21 [==============================] - 2s 72ms/step - loss: 0.0048 - val_loss: 6.3831e-04\n"
     ]
    }
   ],
   "source": [
    "length_of_sequences = X_train.shape[1]\n",
    "hidden_neurons = 128\n",
    "in_out_neurons = 1\n",
    " \n",
    "#LSTMモデル作成\n",
    "model = Sequential()\n",
    "model.add(LSTM(hidden_neurons, batch_input_shape=(None, length_of_sequences, in_out_neurons), return_sequences=False))\n",
    "model.add(Dropout(0.25))\n",
    "model.add(Dense(1))  \n",
    "model.add(Activation(\"linear\")) \n",
    " \n",
    "model.compile(loss=\"mean_squared_error\", optimizer=\"adam\")\n",
    "history = model.fit(X_train, y_train, batch_size=128, epochs=60, validation_split=0.2)"
   ]
  },
  {
   "cell_type": "code",
   "execution_count": 94,
   "metadata": {
    "ExecuteTime": {
     "end_time": "2021-03-18T13:13:53.821212Z",
     "start_time": "2021-03-18T13:13:53.114103Z"
    }
   },
   "outputs": [
    {
     "data": {
      "text/plain": [
       "<AxesSubplot:>"
      ]
     },
     "execution_count": 94,
     "metadata": {},
     "output_type": "execute_result"
    },
    {
     "data": {
      "image/png": "[encoded data removed]",
      "text/plain": [
       "<Figure size 1080x360 with 1 Axes>"
      ]
     },
     "metadata": {
      "needs_background": "light"
     },
     "output_type": "display_data"
    }
   ],
   "source": [
    "# 予測値算出\n",
    "predicted = model.predict(X_test) \n",
    "# 実績と比較\n",
    "dataf =  pd.DataFrame(predicted)\n",
    "dataf.columns = [\"predict\"]\n",
    "dataf[\"eurusd_Close\"] = y_test\n",
    "dataf.plot(figsize=(15, 5))"
   ]
  },
  {
   "cell_type": "code",
   "execution_count": 95,
   "metadata": {
    "ExecuteTime": {
     "end_time": "2021-03-18T13:13:54.104214Z",
     "start_time": "2021-03-18T13:13:53.918797Z"
    }
   },
   "outputs": [
    {
     "data": {
      "image/png": "[encoded data removed]",
      "text/plain": [
       "<Figure size 432x432 with 1 Axes>"
      ]
     },
     "metadata": {
      "needs_background": "light"
     },
     "output_type": "display_data"
    }
   ],
   "source": [
    "fig, ax = plt.subplots(figsize=(6, 6))\n",
    "plt.scatter(x=dataf['eurusd_Close'], y=dataf['predict'], s=10)\n",
    "line = mlines.Line2D([0, 1], [0, 1], color='black')\n",
    "transform = ax.transAxes\n",
    "line.set_transform(transform)\n",
    "plt.xlabel('eurusd_Close') \n",
    "plt.ylabel('predict') \n",
    "ax.grid()\n",
    "ax.add_line(line)\n",
    "plt.show()"
   ]
  },
  {
   "cell_type": "code",
   "execution_count": null,
   "metadata": {},
   "outputs": [],
   "source": []
  }
 ],
 "metadata": {
  "kernelspec": {
   "display_name": "Python 3",
   "language": "python",
   "name": "python3"
  },
  "language_info": {
   "codemirror_mode": {
    "name": "ipython",
    "version": 3
   },
   "file_extension": ".py",
   "mimetype": "text/x-python",
   "name": "python",
   "nbconvert_exporter": "python",
   "pygments_lexer": "ipython3",
   "version": "3.7.9"
  },
  "toc": {
   "base_numbering": 1,
   "nav_menu": {},
   "number_sections": true,
   "sideBar": true,
   "skip_h1_title": false,
   "title_cell": "Table of Contents",
   "title_sidebar": "Contents",
   "toc_cell": false,
   "toc_position": {},
   "toc_section_display": true,
   "toc_window_display": true
  },
  "varInspector": {
   "cols": {
    "lenName": 16,
    "lenType": 16,
    "lenVar": 40
   },
   "kernels_config": {
    "python": {
     "delete_cmd_postfix": "",
     "delete_cmd_prefix": "del ",
     "library": "var_list.py",
     "varRefreshCmd": "print(var_dic_list())"
    },
    "r": {
     "delete_cmd_postfix": ") ",
     "delete_cmd_prefix": "rm(",
     "library": "var_list.r",
     "varRefreshCmd": "cat(var_dic_list()) "
    }
   },
   "types_to_exclude": [
    "module",
    "function",
    "builtin_function_or_method",
    "instance",
    "_Feature"
   ],
   "window_display": false
  }
 },
 "nbformat": 4,
 "nbformat_minor": 4
}
